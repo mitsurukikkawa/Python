{
  "nbformat": 4,
  "nbformat_minor": 0,
  "metadata": {
    "colab": {
      "name": "200929-1.ipynb",
      "provenance": [],
      "collapsed_sections": [],
      "authorship_tag": "ABX9TyMV70OqUtBl6aK//nW3EXdo",
      "include_colab_link": true
    },
    "kernelspec": {
      "name": "python3",
      "display_name": "Python 3"
    }
  },
  "cells": [
    {
      "cell_type": "markdown",
      "metadata": {
        "id": "view-in-github",
        "colab_type": "text"
      },
      "source": [
        "<a href=\"https://colab.research.google.com/github/mitsurukikkawa/Python/blob/master/200929_1.ipynb\" target=\"_parent\"><img src=\"https://colab.research.google.com/assets/colab-badge.svg\" alt=\"Open In Colab\"/></a>"
      ]
    },
    {
      "cell_type": "markdown",
      "metadata": {
        "id": "hWIY-TBWPkmS"
      },
      "source": [
        "参考\n",
        "http://i.cla.kobe-u.ac.jp/murao/class/2015-SeminarB3/\n",
        "\n"
      ]
    },
    {
      "cell_type": "code",
      "metadata": {
        "id": "C-uQIVJ8KWto",
        "outputId": "7b57caff-8011-47bf-d4ed-3dec3031c8de",
        "colab": {
          "base_uri": "https://localhost:8080/",
          "height": 1000
        }
      },
      "source": [
        "!apt install aptitude\n",
        "!aptitude install mecab libmecab-dev mecab-ipadic-utf8 git make curl xz-utils file\n",
        "!pip install mecab-python3==0.7"
      ],
      "execution_count": null,
      "outputs": [
        {
          "output_type": "stream",
          "text": [
            "Reading package lists... Done\n",
            "Building dependency tree       \n",
            "Reading state information... Done\n",
            "The following additional packages will be installed:\n",
            "  aptitude-common libcgi-fast-perl libcgi-pm-perl libclass-accessor-perl\n",
            "  libcwidget3v5 libencode-locale-perl libfcgi-perl libhtml-parser-perl\n",
            "  libhtml-tagset-perl libhttp-date-perl libhttp-message-perl libio-html-perl\n",
            "  libio-string-perl liblwp-mediatypes-perl libparse-debianchangelog-perl\n",
            "  libsigc++-2.0-0v5 libsub-name-perl libtimedate-perl liburi-perl libxapian30\n",
            "Suggested packages:\n",
            "  aptitude-doc-en | aptitude-doc apt-xapian-index debtags tasksel\n",
            "  libcwidget-dev libdata-dump-perl libhtml-template-perl libxml-simple-perl\n",
            "  libwww-perl xapian-tools\n",
            "The following NEW packages will be installed:\n",
            "  aptitude aptitude-common libcgi-fast-perl libcgi-pm-perl\n",
            "  libclass-accessor-perl libcwidget3v5 libencode-locale-perl libfcgi-perl\n",
            "  libhtml-parser-perl libhtml-tagset-perl libhttp-date-perl\n",
            "  libhttp-message-perl libio-html-perl libio-string-perl\n",
            "  liblwp-mediatypes-perl libparse-debianchangelog-perl libsigc++-2.0-0v5\n",
            "  libsub-name-perl libtimedate-perl liburi-perl libxapian30\n",
            "0 upgraded, 21 newly installed, 0 to remove and 21 not upgraded.\n",
            "Need to get 3,877 kB of archives.\n",
            "After this operation, 15.6 MB of additional disk space will be used.\n",
            "Get:1 http://archive.ubuntu.com/ubuntu bionic/main amd64 aptitude-common all 0.8.10-6ubuntu1 [1,014 kB]\n",
            "Get:2 http://archive.ubuntu.com/ubuntu bionic/main amd64 libsigc++-2.0-0v5 amd64 2.10.0-2 [10.9 kB]\n",
            "Get:3 http://archive.ubuntu.com/ubuntu bionic/main amd64 libcwidget3v5 amd64 0.5.17-7 [286 kB]\n",
            "Get:4 http://archive.ubuntu.com/ubuntu bionic-updates/main amd64 libxapian30 amd64 1.4.5-1ubuntu0.1 [631 kB]\n",
            "Get:5 http://archive.ubuntu.com/ubuntu bionic/main amd64 aptitude amd64 0.8.10-6ubuntu1 [1,269 kB]\n",
            "Get:6 http://archive.ubuntu.com/ubuntu bionic/main amd64 libhtml-tagset-perl all 3.20-3 [12.1 kB]\n",
            "Get:7 http://archive.ubuntu.com/ubuntu bionic/main amd64 liburi-perl all 1.73-1 [77.2 kB]\n",
            "Get:8 http://archive.ubuntu.com/ubuntu bionic/main amd64 libhtml-parser-perl amd64 3.72-3build1 [85.9 kB]\n",
            "Get:9 http://archive.ubuntu.com/ubuntu bionic/main amd64 libcgi-pm-perl all 4.38-1 [185 kB]\n",
            "Get:10 http://archive.ubuntu.com/ubuntu bionic/main amd64 libfcgi-perl amd64 0.78-2build1 [32.8 kB]\n",
            "Get:11 http://archive.ubuntu.com/ubuntu bionic/main amd64 libcgi-fast-perl all 1:2.13-1 [9,940 B]\n",
            "Get:12 http://archive.ubuntu.com/ubuntu bionic/main amd64 libsub-name-perl amd64 0.21-1build1 [11.6 kB]\n",
            "Get:13 http://archive.ubuntu.com/ubuntu bionic/main amd64 libclass-accessor-perl all 0.51-1 [21.2 kB]\n",
            "Get:14 http://archive.ubuntu.com/ubuntu bionic/main amd64 libencode-locale-perl all 1.05-1 [12.3 kB]\n",
            "Get:15 http://archive.ubuntu.com/ubuntu bionic/main amd64 libtimedate-perl all 2.3000-2 [37.5 kB]\n",
            "Get:16 http://archive.ubuntu.com/ubuntu bionic/main amd64 libhttp-date-perl all 6.02-1 [10.4 kB]\n",
            "Get:17 http://archive.ubuntu.com/ubuntu bionic/main amd64 libio-html-perl all 1.001-1 [14.9 kB]\n",
            "Get:18 http://archive.ubuntu.com/ubuntu bionic/main amd64 liblwp-mediatypes-perl all 6.02-1 [21.7 kB]\n",
            "Get:19 http://archive.ubuntu.com/ubuntu bionic/main amd64 libhttp-message-perl all 6.14-1 [72.1 kB]\n",
            "Get:20 http://archive.ubuntu.com/ubuntu bionic/main amd64 libio-string-perl all 1.08-3 [11.1 kB]\n",
            "Get:21 http://archive.ubuntu.com/ubuntu bionic/main amd64 libparse-debianchangelog-perl all 1.2.0-12 [49.5 kB]\n",
            "Fetched 3,877 kB in 1s (3,508 kB/s)\n",
            "Selecting previously unselected package aptitude-common.\n",
            "(Reading database ... 144619 files and directories currently installed.)\n",
            "Preparing to unpack .../00-aptitude-common_0.8.10-6ubuntu1_all.deb ...\n",
            "Unpacking aptitude-common (0.8.10-6ubuntu1) ...\n",
            "Selecting previously unselected package libsigc++-2.0-0v5:amd64.\n",
            "Preparing to unpack .../01-libsigc++-2.0-0v5_2.10.0-2_amd64.deb ...\n",
            "Unpacking libsigc++-2.0-0v5:amd64 (2.10.0-2) ...\n",
            "Selecting previously unselected package libcwidget3v5:amd64.\n",
            "Preparing to unpack .../02-libcwidget3v5_0.5.17-7_amd64.deb ...\n",
            "Unpacking libcwidget3v5:amd64 (0.5.17-7) ...\n",
            "Selecting previously unselected package libxapian30:amd64.\n",
            "Preparing to unpack .../03-libxapian30_1.4.5-1ubuntu0.1_amd64.deb ...\n",
            "Unpacking libxapian30:amd64 (1.4.5-1ubuntu0.1) ...\n",
            "Selecting previously unselected package aptitude.\n",
            "Preparing to unpack .../04-aptitude_0.8.10-6ubuntu1_amd64.deb ...\n",
            "Unpacking aptitude (0.8.10-6ubuntu1) ...\n",
            "Selecting previously unselected package libhtml-tagset-perl.\n",
            "Preparing to unpack .../05-libhtml-tagset-perl_3.20-3_all.deb ...\n",
            "Unpacking libhtml-tagset-perl (3.20-3) ...\n",
            "Selecting previously unselected package liburi-perl.\n",
            "Preparing to unpack .../06-liburi-perl_1.73-1_all.deb ...\n",
            "Unpacking liburi-perl (1.73-1) ...\n",
            "Selecting previously unselected package libhtml-parser-perl.\n",
            "Preparing to unpack .../07-libhtml-parser-perl_3.72-3build1_amd64.deb ...\n",
            "Unpacking libhtml-parser-perl (3.72-3build1) ...\n",
            "Selecting previously unselected package libcgi-pm-perl.\n",
            "Preparing to unpack .../08-libcgi-pm-perl_4.38-1_all.deb ...\n",
            "Unpacking libcgi-pm-perl (4.38-1) ...\n",
            "Selecting previously unselected package libfcgi-perl.\n",
            "Preparing to unpack .../09-libfcgi-perl_0.78-2build1_amd64.deb ...\n",
            "Unpacking libfcgi-perl (0.78-2build1) ...\n",
            "Selecting previously unselected package libcgi-fast-perl.\n",
            "Preparing to unpack .../10-libcgi-fast-perl_1%3a2.13-1_all.deb ...\n",
            "Unpacking libcgi-fast-perl (1:2.13-1) ...\n",
            "Selecting previously unselected package libsub-name-perl.\n",
            "Preparing to unpack .../11-libsub-name-perl_0.21-1build1_amd64.deb ...\n",
            "Unpacking libsub-name-perl (0.21-1build1) ...\n",
            "Selecting previously unselected package libclass-accessor-perl.\n",
            "Preparing to unpack .../12-libclass-accessor-perl_0.51-1_all.deb ...\n",
            "Unpacking libclass-accessor-perl (0.51-1) ...\n",
            "Selecting previously unselected package libencode-locale-perl.\n",
            "Preparing to unpack .../13-libencode-locale-perl_1.05-1_all.deb ...\n",
            "Unpacking libencode-locale-perl (1.05-1) ...\n",
            "Selecting previously unselected package libtimedate-perl.\n",
            "Preparing to unpack .../14-libtimedate-perl_2.3000-2_all.deb ...\n",
            "Unpacking libtimedate-perl (2.3000-2) ...\n",
            "Selecting previously unselected package libhttp-date-perl.\n",
            "Preparing to unpack .../15-libhttp-date-perl_6.02-1_all.deb ...\n",
            "Unpacking libhttp-date-perl (6.02-1) ...\n",
            "Selecting previously unselected package libio-html-perl.\n",
            "Preparing to unpack .../16-libio-html-perl_1.001-1_all.deb ...\n",
            "Unpacking libio-html-perl (1.001-1) ...\n",
            "Selecting previously unselected package liblwp-mediatypes-perl.\n",
            "Preparing to unpack .../17-liblwp-mediatypes-perl_6.02-1_all.deb ...\n",
            "Unpacking liblwp-mediatypes-perl (6.02-1) ...\n",
            "Selecting previously unselected package libhttp-message-perl.\n",
            "Preparing to unpack .../18-libhttp-message-perl_6.14-1_all.deb ...\n",
            "Unpacking libhttp-message-perl (6.14-1) ...\n",
            "Selecting previously unselected package libio-string-perl.\n",
            "Preparing to unpack .../19-libio-string-perl_1.08-3_all.deb ...\n",
            "Unpacking libio-string-perl (1.08-3) ...\n",
            "Selecting previously unselected package libparse-debianchangelog-perl.\n",
            "Preparing to unpack .../20-libparse-debianchangelog-perl_1.2.0-12_all.deb ...\n",
            "Unpacking libparse-debianchangelog-perl (1.2.0-12) ...\n",
            "Setting up libhtml-tagset-perl (3.20-3) ...\n",
            "Setting up libxapian30:amd64 (1.4.5-1ubuntu0.1) ...\n",
            "Setting up libencode-locale-perl (1.05-1) ...\n",
            "Setting up libtimedate-perl (2.3000-2) ...\n",
            "Setting up libio-html-perl (1.001-1) ...\n",
            "Setting up aptitude-common (0.8.10-6ubuntu1) ...\n",
            "Setting up liblwp-mediatypes-perl (6.02-1) ...\n",
            "Setting up liburi-perl (1.73-1) ...\n",
            "Setting up libhtml-parser-perl (3.72-3build1) ...\n",
            "Setting up libcgi-pm-perl (4.38-1) ...\n",
            "Setting up libio-string-perl (1.08-3) ...\n",
            "Setting up libsub-name-perl (0.21-1build1) ...\n",
            "Setting up libfcgi-perl (0.78-2build1) ...\n",
            "Setting up libsigc++-2.0-0v5:amd64 (2.10.0-2) ...\n",
            "Setting up libclass-accessor-perl (0.51-1) ...\n",
            "Setting up libhttp-date-perl (6.02-1) ...\n",
            "Setting up libcgi-fast-perl (1:2.13-1) ...\n",
            "Setting up libparse-debianchangelog-perl (1.2.0-12) ...\n",
            "Setting up libhttp-message-perl (6.14-1) ...\n",
            "Setting up libcwidget3v5:amd64 (0.5.17-7) ...\n",
            "Setting up aptitude (0.8.10-6ubuntu1) ...\n",
            "update-alternatives: using /usr/bin/aptitude-curses to provide /usr/bin/aptitude (aptitude) in auto mode\n",
            "Processing triggers for man-db (2.8.3-2ubuntu0.1) ...\n",
            "Processing triggers for libc-bin (2.27-3ubuntu1.2) ...\n",
            "/sbin/ldconfig.real: /usr/local/lib/python3.6/dist-packages/ideep4py/lib/libmkldnn.so.0 is not a symbolic link\n",
            "\n",
            "git is already installed at the requested version (1:2.17.1-1ubuntu0.7)\n",
            "make is already installed at the requested version (4.1-9.1ubuntu1)\n",
            "curl is already installed at the requested version (7.58.0-2ubuntu3.10)\n",
            "xz-utils is already installed at the requested version (5.2.2-1.3)\n",
            "git is already installed at the requested version (1:2.17.1-1ubuntu0.7)\n",
            "make is already installed at the requested version (4.1-9.1ubuntu1)\n",
            "curl is already installed at the requested version (7.58.0-2ubuntu3.10)\n",
            "xz-utils is already installed at the requested version (5.2.2-1.3)\n",
            "The following NEW packages will be installed:\n",
            "  file libmagic-mgc{a} libmagic1{a} libmecab-dev libmecab2{a} mecab mecab-ipadic{a} mecab-ipadic-utf8 mecab-jumandic{a} mecab-jumandic-utf8{a} mecab-utils{a} \n",
            "0 packages upgraded, 11 newly installed, 0 to remove and 21 not upgraded.\n",
            "Need to get 29.3 MB of archives. After unpacking 282 MB will be used.\n",
            "Do you want to continue? [Y/n/?] Y\n",
            "Get: 1 http://archive.ubuntu.com/ubuntu bionic-updates/main amd64 libmagic-mgc amd64 1:5.32-2ubuntu0.4 [184 kB]\n",
            "Get: 2 http://archive.ubuntu.com/ubuntu bionic-updates/main amd64 libmagic1 amd64 1:5.32-2ubuntu0.4 [68.6 kB]\n",
            "Get: 3 http://archive.ubuntu.com/ubuntu bionic-updates/main amd64 file amd64 1:5.32-2ubuntu0.4 [22.1 kB]\n",
            "Get: 4 http://archive.ubuntu.com/ubuntu bionic/universe amd64 libmecab2 amd64 0.996-5 [257 kB]\n",
            "Get: 5 http://archive.ubuntu.com/ubuntu bionic/universe amd64 libmecab-dev amd64 0.996-5 [308 kB]\n",
            "Get: 6 http://archive.ubuntu.com/ubuntu bionic/universe amd64 mecab-utils amd64 0.996-5 [4,856 B]\n",
            "Get: 7 http://archive.ubuntu.com/ubuntu bionic/universe amd64 mecab-jumandic-utf8 all 7.0-20130310-4 [16.2 MB]\n",
            "Get: 8 http://archive.ubuntu.com/ubuntu bionic/universe amd64 mecab-jumandic all 7.0-20130310-4 [2,212 B]\n",
            "Get: 9 http://archive.ubuntu.com/ubuntu bionic/universe amd64 mecab-ipadic all 2.7.0-20070801+main-1 [12.1 MB]\n",
            "Get: 10 http://archive.ubuntu.com/ubuntu bionic/universe amd64 mecab amd64 0.996-5 [132 kB]\n",
            "Get: 11 http://archive.ubuntu.com/ubuntu bionic/universe amd64 mecab-ipadic-utf8 all 2.7.0-20070801+main-1 [3,522 B]\n",
            "Fetched 29.3 MB in 2s (17.3 MB/s)\n",
            "Selecting previously unselected package libmagic-mgc.\n",
            "(Reading database ... 145078 files and directories currently installed.)\n",
            "Preparing to unpack .../00-libmagic-mgc_1%3a5.32-2ubuntu0.4_amd64.deb ...\n",
            "Unpacking libmagic-mgc (1:5.32-2ubuntu0.4) ...\n",
            "Selecting previously unselected package libmagic1:amd64.\n",
            "Preparing to unpack .../01-libmagic1_1%3a5.32-2ubuntu0.4_amd64.deb ...\n",
            "Unpacking libmagic1:amd64 (1:5.32-2ubuntu0.4) ...\n",
            "Selecting previously unselected package file.\n",
            "Preparing to unpack .../02-file_1%3a5.32-2ubuntu0.4_amd64.deb ...\n",
            "Unpacking file (1:5.32-2ubuntu0.4) ...\n",
            "Selecting previously unselected package libmecab2:amd64.\n",
            "Preparing to unpack .../03-libmecab2_0.996-5_amd64.deb ...\n",
            "Unpacking libmecab2:amd64 (0.996-5) ...\n",
            "Selecting previously unselected package libmecab-dev.\n",
            "Preparing to unpack .../04-libmecab-dev_0.996-5_amd64.deb ...\n",
            "Unpacking libmecab-dev (0.996-5) ...\n",
            "Selecting previously unselected package mecab-utils.\n",
            "Preparing to unpack .../05-mecab-utils_0.996-5_amd64.deb ...\n",
            "Unpacking mecab-utils (0.996-5) ...\n",
            "Selecting previously unselected package mecab-jumandic-utf8.\n",
            "Preparing to unpack .../06-mecab-jumandic-utf8_7.0-20130310-4_all.deb ...\n",
            "Unpacking mecab-jumandic-utf8 (7.0-20130310-4) ...\n",
            "Selecting previously unselected package mecab-jumandic.\n",
            "Preparing to unpack .../07-mecab-jumandic_7.0-20130310-4_all.deb ...\n",
            "Unpacking mecab-jumandic (7.0-20130310-4) ...\n",
            "Selecting previously unselected package mecab-ipadic.\n",
            "Preparing to unpack .../08-mecab-ipadic_2.7.0-20070801+main-1_all.deb ...\n",
            "Unpacking mecab-ipadic (2.7.0-20070801+main-1) ...\n",
            "Selecting previously unselected package mecab.\n",
            "Preparing to unpack .../09-mecab_0.996-5_amd64.deb ...\n",
            "Unpacking mecab (0.996-5) ...\n",
            "Selecting previously unselected package mecab-ipadic-utf8.\n",
            "Preparing to unpack .../10-mecab-ipadic-utf8_2.7.0-20070801+main-1_all.deb ...\n",
            "Unpacking mecab-ipadic-utf8 (2.7.0-20070801+main-1) ...\n",
            "Setting up libmecab2:amd64 (0.996-5) ...\n",
            "Setting up libmagic-mgc (1:5.32-2ubuntu0.4) ...\n",
            "Setting up libmagic1:amd64 (1:5.32-2ubuntu0.4) ...\n",
            "Setting up mecab-utils (0.996-5) ...\n",
            "Setting up mecab-ipadic (2.7.0-20070801+main-1) ...\n",
            "Compiling IPA dictionary for Mecab.  This takes long time...\n",
            "reading /usr/share/mecab/dic/ipadic/unk.def ... 40\n",
            "emitting double-array: 100% |###########################################| \n",
            "/usr/share/mecab/dic/ipadic/model.def is not found. skipped.\n",
            "reading /usr/share/mecab/dic/ipadic/Suffix.csv ... 1393\n",
            "reading /usr/share/mecab/dic/ipadic/Adj.csv ... 27210\n",
            "reading /usr/share/mecab/dic/ipadic/Interjection.csv ... 252\n",
            "reading /usr/share/mecab/dic/ipadic/Noun.nai.csv ... 42\n",
            "reading /usr/share/mecab/dic/ipadic/Noun.place.csv ... 72999\n",
            "reading /usr/share/mecab/dic/ipadic/Others.csv ... 2\n",
            "reading /usr/share/mecab/dic/ipadic/Noun.others.csv ... 151\n",
            "reading /usr/share/mecab/dic/ipadic/Noun.verbal.csv ... 12146\n",
            "reading /usr/share/mecab/dic/ipadic/Noun.number.csv ... 42\n",
            "reading /usr/share/mecab/dic/ipadic/Noun.proper.csv ... 27327\n",
            "reading /usr/share/mecab/dic/ipadic/Noun.adverbal.csv ... 795\n",
            "reading /usr/share/mecab/dic/ipadic/Adnominal.csv ... 135\n",
            "reading /usr/share/mecab/dic/ipadic/Noun.csv ... 60477\n",
            "reading /usr/share/mecab/dic/ipadic/Noun.org.csv ... 16668\n",
            "reading /usr/share/mecab/dic/ipadic/Filler.csv ... 19\n",
            "reading /usr/share/mecab/dic/ipadic/Conjunction.csv ... 171\n",
            "reading /usr/share/mecab/dic/ipadic/Postp.csv ... 146\n",
            "reading /usr/share/mecab/dic/ipadic/Noun.demonst.csv ... 120\n",
            "reading /usr/share/mecab/dic/ipadic/Adverb.csv ... 3032\n",
            "reading /usr/share/mecab/dic/ipadic/Prefix.csv ... 221\n",
            "reading /usr/share/mecab/dic/ipadic/Verb.csv ... 130750\n",
            "reading /usr/share/mecab/dic/ipadic/Noun.name.csv ... 34202\n",
            "reading /usr/share/mecab/dic/ipadic/Symbol.csv ... 208\n",
            "reading /usr/share/mecab/dic/ipadic/Auxil.csv ... 199\n",
            "reading /usr/share/mecab/dic/ipadic/Postp-col.csv ... 91\n",
            "reading /usr/share/mecab/dic/ipadic/Noun.adjv.csv ... 3328\n",
            "emitting double-array: 100% |###########################################| \n",
            "reading /usr/share/mecab/dic/ipadic/matrix.def ... 1316x1316\n",
            "emitting matrix      : 100% |###########################################| \n",
            "\n",
            "done!\n",
            "update-alternatives: using /var/lib/mecab/dic/ipadic to provide /var/lib/mecab/dic/debian (mecab-dictionary) in auto mode\n",
            "Setting up libmecab-dev (0.996-5) ...\n",
            "Setting up file (1:5.32-2ubuntu0.4) ...\n",
            "Setting up mecab-jumandic-utf8 (7.0-20130310-4) ...\n",
            "Compiling Juman dictionary for Mecab.\n",
            "reading /usr/share/mecab/dic/juman/unk.def ... 37\n",
            "emitting double-array: 100% |###########################################| \n",
            "reading /usr/share/mecab/dic/juman/Suffix.csv ... 2128\n",
            "reading /usr/share/mecab/dic/juman/Noun.koyuu.csv ... 7964\n",
            "reading /usr/share/mecab/dic/juman/Rengo.csv ... 1118\n",
            "reading /usr/share/mecab/dic/juman/Emoticon.csv ... 972\n",
            "reading /usr/share/mecab/dic/juman/Noun.hukusi.csv ... 81\n",
            "reading /usr/share/mecab/dic/juman/Noun.suusi.csv ... 49\n",
            "reading /usr/share/mecab/dic/juman/Auto.csv ... 18931\n",
            "reading /usr/share/mecab/dic/juman/Assert.csv ... 34\n",
            "reading /usr/share/mecab/dic/juman/Postp.csv ... 108\n",
            "reading /usr/share/mecab/dic/juman/AuxV.csv ... 593\n",
            "reading /usr/share/mecab/dic/juman/Prefix.csv ... 90\n",
            "reading /usr/share/mecab/dic/juman/Wikipedia.csv ... 167709\n",
            "reading /usr/share/mecab/dic/juman/Noun.keishiki.csv ... 8\n",
            "reading /usr/share/mecab/dic/juman/Special.csv ... 158\n",
            "reading /usr/share/mecab/dic/juman/Demonstrative.csv ... 97\n",
            "reading /usr/share/mecab/dic/juman/ContentW.csv ... 551145\n",
            "emitting double-array: 100% |###########################################| \n",
            "reading /usr/share/mecab/dic/juman/matrix.def ... 1876x1876\n",
            "emitting matrix      : 100% |###########################################| \n",
            "\n",
            "done!\n",
            "Setting up mecab-ipadic-utf8 (2.7.0-20070801+main-1) ...\n",
            "Compiling IPA dictionary for Mecab.  This takes long time...\n",
            "reading /usr/share/mecab/dic/ipadic/unk.def ... 40\n",
            "emitting double-array: 100% |###########################################| \n",
            "/usr/share/mecab/dic/ipadic/model.def is not found. skipped.\n",
            "reading /usr/share/mecab/dic/ipadic/Suffix.csv ... 1393\n",
            "reading /usr/share/mecab/dic/ipadic/Adj.csv ... 27210\n",
            "reading /usr/share/mecab/dic/ipadic/Interjection.csv ... 252\n",
            "reading /usr/share/mecab/dic/ipadic/Noun.nai.csv ... 42\n",
            "reading /usr/share/mecab/dic/ipadic/Noun.place.csv ... 72999\n",
            "reading /usr/share/mecab/dic/ipadic/Others.csv ... 2\n",
            "reading /usr/share/mecab/dic/ipadic/Noun.others.csv ... 151\n",
            "reading /usr/share/mecab/dic/ipadic/Noun.verbal.csv ... 12146\n",
            "reading /usr/share/mecab/dic/ipadic/Noun.number.csv ... 42\n",
            "reading /usr/share/mecab/dic/ipadic/Noun.proper.csv ... 27327\n",
            "reading /usr/share/mecab/dic/ipadic/Noun.adverbal.csv ... 795\n",
            "reading /usr/share/mecab/dic/ipadic/Adnominal.csv ... 135\n",
            "reading /usr/share/mecab/dic/ipadic/Noun.csv ... 60477\n",
            "reading /usr/share/mecab/dic/ipadic/Noun.org.csv ... 16668\n",
            "reading /usr/share/mecab/dic/ipadic/Filler.csv ... 19\n",
            "reading /usr/share/mecab/dic/ipadic/Conjunction.csv ... 171\n",
            "reading /usr/share/mecab/dic/ipadic/Postp.csv ... 146\n",
            "reading /usr/share/mecab/dic/ipadic/Noun.demonst.csv ... 120\n",
            "reading /usr/share/mecab/dic/ipadic/Adverb.csv ... 3032\n",
            "reading /usr/share/mecab/dic/ipadic/Prefix.csv ... 221\n",
            "reading /usr/share/mecab/dic/ipadic/Verb.csv ... 130750\n",
            "reading /usr/share/mecab/dic/ipadic/Noun.name.csv ... 34202\n",
            "reading /usr/share/mecab/dic/ipadic/Symbol.csv ... 208\n",
            "reading /usr/share/mecab/dic/ipadic/Auxil.csv ... 199\n",
            "reading /usr/share/mecab/dic/ipadic/Postp-col.csv ... 91\n",
            "reading /usr/share/mecab/dic/ipadic/Noun.adjv.csv ... 3328\n",
            "emitting double-array: 100% |###########################################| \n",
            "reading /usr/share/mecab/dic/ipadic/matrix.def ... 1316x1316\n",
            "emitting matrix      : 100% |###########################################| \n",
            "\n",
            "done!\n",
            "update-alternatives: using /var/lib/mecab/dic/ipadic-utf8 to provide /var/lib/mecab/dic/debian (mecab-dictionary) in auto mode\n",
            "Setting up mecab (0.996-5) ...\n",
            "Compiling IPA dictionary for Mecab.  This takes long time...\n",
            "reading /usr/share/mecab/dic/ipadic/unk.def ... 40\n",
            "emitting double-array: 100% |###########################################| \n",
            "/usr/share/mecab/dic/ipadic/model.def is not found. skipped.\n",
            "reading /usr/share/mecab/dic/ipadic/Suffix.csv ... 1393\n",
            "reading /usr/share/mecab/dic/ipadic/Adj.csv ... 27210\n",
            "reading /usr/share/mecab/dic/ipadic/Interjection.csv ... 252\n",
            "reading /usr/share/mecab/dic/ipadic/Noun.nai.csv ... 42\n",
            "reading /usr/share/mecab/dic/ipadic/Noun.place.csv ... 72999\n",
            "reading /usr/share/mecab/dic/ipadic/Others.csv ... 2\n",
            "reading /usr/share/mecab/dic/ipadic/Noun.others.csv ... 151\n",
            "reading /usr/share/mecab/dic/ipadic/Noun.verbal.csv ... 12146\n",
            "reading /usr/share/mecab/dic/ipadic/Noun.number.csv ... 42\n",
            "reading /usr/share/mecab/dic/ipadic/Noun.proper.csv ... 27327\n",
            "reading /usr/share/mecab/dic/ipadic/Noun.adverbal.csv ... 795\n",
            "reading /usr/share/mecab/dic/ipadic/Adnominal.csv ... 135\n",
            "reading /usr/share/mecab/dic/ipadic/Noun.csv ... 60477\n",
            "reading /usr/share/mecab/dic/ipadic/Noun.org.csv ... 16668\n",
            "reading /usr/share/mecab/dic/ipadic/Filler.csv ... 19\n",
            "reading /usr/share/mecab/dic/ipadic/Conjunction.csv ... 171\n",
            "reading /usr/share/mecab/dic/ipadic/Postp.csv ... 146\n",
            "reading /usr/share/mecab/dic/ipadic/Noun.demonst.csv ... 120\n",
            "reading /usr/share/mecab/dic/ipadic/Adverb.csv ... 3032\n",
            "reading /usr/share/mecab/dic/ipadic/Prefix.csv ... 221\n",
            "reading /usr/share/mecab/dic/ipadic/Verb.csv ... 130750\n",
            "reading /usr/share/mecab/dic/ipadic/Noun.name.csv ... 34202\n",
            "reading /usr/share/mecab/dic/ipadic/Symbol.csv ... 208\n",
            "reading /usr/share/mecab/dic/ipadic/Auxil.csv ... 199\n",
            "reading /usr/share/mecab/dic/ipadic/Postp-col.csv ... 91\n",
            "reading /usr/share/mecab/dic/ipadic/Noun.adjv.csv ... 3328\n",
            "emitting double-array: 100% |###########################################| \n",
            "reading /usr/share/mecab/dic/ipadic/matrix.def ... 1316x1316\n",
            "emitting matrix      : 100% |###########################################| \n",
            "\n",
            "done!\n",
            "Setting up mecab-jumandic (7.0-20130310-4) ...\n",
            "Processing triggers for man-db (2.8.3-2ubuntu0.1) ...\n",
            "Processing triggers for libc-bin (2.27-3ubuntu1.2) ...\n",
            "/sbin/ldconfig.real: /usr/local/lib/python3.6/dist-packages/ideep4py/lib/libmkldnn.so.0 is not a symbolic link\n",
            "\n",
            "                            \n",
            "Collecting mecab-python3==0.7\n",
            "\u001b[?25l  Downloading https://files.pythonhosted.org/packages/25/e9/bbf5fc790a2bedd96fbaf47a84afa060bfb0b3e0217e5f64b32bd4bbad69/mecab-python3-0.7.tar.gz (41kB)\n",
            "\u001b[K     |████████████████████████████████| 51kB 2.2MB/s \n",
            "\u001b[?25hBuilding wheels for collected packages: mecab-python3\n",
            "  Building wheel for mecab-python3 (setup.py) ... \u001b[?25l\u001b[?25hdone\n",
            "  Created wheel for mecab-python3: filename=mecab_python3-0.7-cp36-cp36m-linux_x86_64.whl size=155483 sha256=3caa7cc2f3d6c8278ef5d1af90cd7cc7fbc40a2e7bd4e2f68a110586b678250e\n",
            "  Stored in directory: /root/.cache/pip/wheels/4c/07/3a/5f22ccc9f381f3bc01fa023202061cd1e0e9af855292f005dd\n",
            "Successfully built mecab-python3\n",
            "Installing collected packages: mecab-python3\n",
            "Successfully installed mecab-python3-0.7\n"
          ],
          "name": "stdout"
        }
      ]
    },
    {
      "cell_type": "code",
      "metadata": {
        "id": "kyI9dbgKKd5q",
        "outputId": "2bf18c23-c688-4f4e-9408-9cc2812f5f10",
        "colab": {
          "base_uri": "https://localhost:8080/",
          "height": 1000
        }
      },
      "source": [
        "import re\n",
        "\n",
        "# ファイル読み込み\n",
        "f=open('toshiba2016.txt','r')\n",
        "text=f.read()\n",
        "f.close()\n",
        "\n",
        "# 空行の削除\n",
        "text = re.sub('\\n\\n', '\\n', text)\n",
        "\n",
        "print(text)"
      ],
      "execution_count": null,
      "outputs": [
        {
          "output_type": "stream",
          "text": [
            "３【経営方針、経営環境及び対処すべき課題等】\n",
            "以下に記載する事項は、当有価証券報告書提出日現在において入手し得る情報に基づいて当社グループが判断したものです。\n",
            "(1) 経営方針(対処すべき課題)\n",
            "当社に係る会計処理問題、当社のグループ会社であったウェスチングハウスエレクトリックカンパニー社(以下「WEC」という。)がChicago Bridge & Iron社(以下「CB&I」という。)の子会社であるCB&Iストーン・アンド・ウェブスター社(以下「S&W」という。)を買収したことに起因する極めて多額の損失(以下「本件損失」という。)発生並びにWEC及びその米国関係会社並びに同社グループの米国外の事業会社群の持株会社である東芝原子力エナジーホールディングス(英国)社による米国連邦倒産法第11章に基づく再生手続(以下「本件再生手続」という。)を、ニューヨーク州連邦破産裁判所に申立てたことよる極めて多額の損失発生により、株主、投資家、お客様、従業員をはじめとするすべてのステークホルダーの方々からの信頼を大きく毀損しましたことを改めて深くお詫び申し上げます。\n",
            "◎会計処理問題\n",
            "当社は、内部管理体制等において深刻な問題を抱えており、当該内部管理体制等について改善の必要性が高いと認められるとして、2015年９月、当社株式を特設注意市場銘柄に指定する旨の処分を東京証券取引所及び名古屋証券取引所から受け、また、2015年12月には、金融庁から73億7,350万円の課徴金納付命令を受けました。当社は、上場廃止に準ずる措置である特設注意市場銘柄指定という処分、過去最高額となる課徴金納付命令を真摯に受け止め、2015年９月に経営刷新推進体制を構築し、コンプライアンスを前提とした誠実な経営に取り組み、コーポレート・ガバナンス改革を進め、2015年12月にコーポレートガバナンス・ガイドラインを制定しました。\n",
            "  そして、全社一丸となって再発防止策を着実に実行する中で、2016年３月に「改善計画・状況報告書」を取りまとめました。「改善計画・状況報告書」の起草に当たって、改めて会計処理問題の原因分析を行った結果、当社としては、歴代社長である西田氏、佐々木氏、田中氏による目標必達へのプレッシャー、そのプレッシャーを生み出した当期利益を重視した業績評価・予算統制制度、財務部担当執行役(CFO)や財務・経理部門等の業務執行部門における牽制機能の不全、内部監査部門の機能不全、取締役会、指名委員会、監査委員会等による歴代社長及び執行役への監督機能の不全、歴代社長及び執行役における適切な財務報告に向けての意識の欠如、歴代社長らの意向を優先したことによる財務・経理部門における適切な財務報告に対する意識の低下等の複合的な要因があいまって、当該事象が生じたものと認識しています。\n",
            "  原因分析の結果を踏まえて、これまで策定・公表したものを含め、再発防止策の検証と取りまとめを行ったほか、当社における適時開示体制の問題点についても分析し、積極的な情報開示に向けた開示体制の整備・運用等の新たな施策も策定しました。\n",
            "  また、当社は2016年９月15日、内部管理体制確認書を東京証券取引所及び名古屋証券取引所に提出し、審査を受けましたが、2016年12月19日、短期的利益を過度に追及する経営方針の見直し、取締役会、監査委員会等の構成の見直し及びそれらの運営方法の変更、並びにモニタリング機能を発揮すべき部門の体制整備、機能強化等、全社的に改善に向けた取り組みが行われていることが認められる一方、コンプライアンスの徹底、関係会社の管理等において更なる取り組みを必要とする状況が存在しており、これらの改善に向けた取り組みの進捗等について引き続き確認する必要があるとして特設注意市場銘柄の指定継続となりました。そして、2017年３月15日に監理銘柄(審査中)の指定を受け、また同日付でリスクマネジメント強化・ガバナンスによるモニタリング強化や法令順守に留まらないコンプライアンス意識の浸透等の追加改善施策を含む内部管理体制確認書を再提出いたしました。\n",
            "  当社は、引き続き再発防止策を徹底するとともに、今回の特設注意市場銘柄の指定継続及び監理銘柄(審査中)の指定に至ったコンプライアンス、関係会社の管理等に対する改善に向けた取り組みを行い、また強靭な企業体質への転換を図ることにより株主、投資家をはじめとするすべてのステークホルダーの皆様の信頼回復につなげるべく、「内部管理体制の強化及び企業風土の変革」、「構造改革の断行」、「事業ポートフォリオ及び事業運営体制の見直し」、「財務基盤の整備」を推進します。\n",
            "◎海外原子力事業に関する損失\n",
            "  WECは2008年に、同社の新型原子炉「AP1000」を米国で建設するプロジェクトをそれぞれ米国サザン電力社の子会社であるジョージア電力社(以下「サザン電力社」という。)及び米国スキャナ電力社の子会社であるサウスカロライナ・エレクトリック・ガス・カンパニー社(以下「スキャナ電力社」という。)向けに受注しました(以下総称して「本件プロジェクト」という。)。本件プロジェクトは、S&Wとコンソーシアムを組んだ上で受注したものであり、WECが原子炉・タービン系の設備を設計、製造、調達し、S&Wが補助設備の設計、調達、現地の土木建築を行うという役割分担でした。しかし、受注後に、米国同時多発テロに起因して安全対策が追加されたことにより、設計変更や認可審査のやり直しが必要となり、また、東日本大震災を受けて一層の安全性の検証が求められる状況が生じました。そのため、顧客とコンソーシアムの間で追加のコスト負担や納期の変更につき調整が必要となりましたが、協議はまとまらず、サザン電力社とは訴訟に発展し、スキャナ電力社及びS&Wとも訴訟懸念状態となりました。このような状態を解消して本件プロジェクトを推進するため、WECは、S&Wを買収することによりS&Wの所掌する業務を取り込み、本件プロジェクト全体を一元管理し遂行できる推進体制を構築するとともに、顧客に対しては、納期の延長及び契約額の増額を受け入れてもらう計画の検討を開始しました。建設工事に関わる業務は、S&Wに所属する建設作業者を米国エンジニアリング大手のフルアー社に移籍させた上、同社を土木建築業務と現場管理を担当させる下請業者として起用し、WECは建設の管理・監督に専念する計画としました。そしてWECは、2015年10月に、CB&Iとの間で、WECがS&Wの全株式を取得する契約を締結し、2015年12月31日付で当該株式を取得しました。\n",
            "  しかしながら、WECのS&W買収完了後、詳細見積りを入手し、米国会計基準に従いS&Wの資産価値を評価したところ、本件プロジェクトに関する建設・土木建築関連コスト見込額が買収当時の想定を大幅に上回ることが判明しました。また、建設・土木建築の作業効率改善が進んでいないことも判明しました。この他の要因も重なり、①建設完了までの残作業にかかわる現場作業員及び管理・監督にあたる間接員の人件費、②設備・資材の調達費や下請費用、③追加の補償費用や予備費において合計で61億米ドルのコスト増加(以下「本件コスト増」という。)を見込む必要が発生しました。本件コスト増に伴う本件プロジェクト損失を織り込み、のれんを原子力事業部に計上した上で、既存の原子力事業部におけるのれん残高と併せて減損テストを実施した結果、当該事業部に計上されるのれんの全額を減損することとなりました。\n",
            "◎WECの再生手続申立て\n",
            "  2017年３月29日、ウェスチングハウス社グループは本件コスト増を受け、今後の資金繰り見込み、事業価値の維持等を考慮し、裁判所の法的保護の下で再建をはかることが、事業再生及びステークホルダー全体の利益のために最善と判断し、本件再生手続を、ニューヨーク州連邦破産裁判所に申し立てました。当該申立てにより、ウェスチングハウス社グループは2016年度通期決算から当社の連結対象外となりました。\n",
            "  上述ののれんの減損及びウェスチングハウス社グループの非連結化並びに本件プロジェクトにおいて当社が電力会社に提供している親会社保証に関連する損失計上及びウェスチングハウス社グループへの当社債権に対する貸倒引当金の計上等により、2016年度通期決算では、当期純損益ベースで約１兆2,400億円の損失を計上しました。\n",
            "◎継続企業の前提に関する重要な不確実性\n",
            "  上述の極めて多額の損失を計上したことを主因として当社グループは債務超過となり、当社の金銭借入契約において財務制限条項に抵触するとともに、2017年12月に当社の特定建設業の許可の更新ができない状況が生じました。このような状況から、当社には継続企業の前提に関する重要な不確実性が認められこととなったため、連結財務諸表に対する注記において「継続企業の前提に関する注記」を記載しています。\n",
            "◎決算の遅延\n",
            "  上述のウェスチングハウス社グループの再生手続申立てにより、ウェスチングハウス社グループに関する部分について、再生手続申立に伴い関連する債務の金額及び計上時期の精査等、再生手続に伴う特別な会計処理が必要となりました。また、ウェスチングハウス社グループの決算・監査手続の完了を受け、独立監査人が、WEC監査人の監査結果の評価や監査法人内の必要な手続等、当社グループの監査の完了のために必要な最終的な監査手続を実施することになりました。さらに、ウェスチングハウス社グループに関する工事損失引当金について、当該損失を認識するべき時期の調査において、損失の認識時期が適切であったかどうかについての確認が必要となったため、決算・監査手続に相応の時間を要する状況になりました。\n",
            "このような状況の中、当社の経営方針の内容は、以下のとおりです。\n",
            "Ⅰ．財務基盤の早期回復と強化\n",
            "  上述の多額の損失を受け、当社は健全な経営に向けて債務超過の解消と財務体質の強化に取り組んでまいります。\n",
            "  メモリ事業については2017年４月１日付けで東芝メモリ㈱に事業を承継しました。そして、メモリ事業の更なる成長に必要な経営資源を確保する目的で、株式の過半数の譲渡の手続きを進めています。また、保有資産については聖域なくその意義を見直し、保有資産の売却を継続していきます。\n",
            "Ⅱ．当社グループの組織運営の強化\n",
            "  当社は、４つの社内カンパニーを分社化する基本方針を決定しました。分社後の各事業会社については、グループ内の連携を強化しつつ、それぞれの事業会社の事業価値最大化に特化するとともに、特定建設業の許可維持などの事業継続性も踏まえた最適な体制を確立します。コーポレート機能については、当社グループ全体の企業価値最大化とガバナンス強化に特化します。\n",
            "１．事業会社について\n",
            "  分社後の各事業会社は、自律した事業体として、新規事業展開を含めて事業価値の最大化に集中していきます。事業特性や外部環境に応じた内部管理体制の構築し、外部監査の適用を直接受けることでガバナンスを強化してまいります。また、社内カンパニー制に比べて事業責任を明確化するため各分社会社が傘下会社を直接子会社化することでガバナンスを一層強化します。各事業会社は、市場と顧客に対する説明責任を直接的に果たしてまいります。\n",
            "分社化は会社分割によることとし、分社化のスケジュールは以下です。\n",
            "（１）2017年７月１日付\n",
            "①インフラシステムソリューション社関連\n",
            "  社内カンパニー「インフラシステムソリューション社」を会社分割し、特定建設業の許可を有する東芝電機サービス㈱と一体化しました。\n",
            "②ストレージ＆デバイスソリューション社関連\n",
            "  社内カンパニー「ストレージ＆デバイスソリューション社」を会社分割し、新会社に事業を移管しました。メモリ以外の電子デバイス事業であるディスクリート半導体、システムLSI、HDDについても、顧客の事業価値向上の実現を図る製品・システムの提供を通じ、電子デバイス事業のさらなる持続的成長、事業価値の最大化を実現します。なお、メモリ事業につきましては、2017年４月１日に東芝メモリ㈱を発足しました。\n",
            "③インダストリアルICTソリューション社関連\n",
            "  社内カンパニー「インダストリアルICTソリューション社」を会社分割し、特定建設業の許可を有する東芝ソリューション㈱と一体化しました。\n",
            "（２）2017年10月１日付\n",
            "・エネルギーシステムソリューション社関連\n",
            "  社内カンパニー「エネルギーシステムソリューション社」と原子力事業統括部を会社分割し、新会社にそれぞれの事業を移管し、新会社において特定建設業の許可を取得します。\n",
            "２．コーポレート機能について\n",
            "グループ全体に対するガバナンスについては、関係会社の管理を、コーポレート機能を担う東\n",
            "芝本体と事業会社で連携して引き続き徹底していきます。東芝本体では、事業ポートフォリオの\n",
            "柔軟な組み換えなどのグループの戦略策定や適切な資源配分、リスク管理機能の拡充など、東芝\n",
            "グループ全体の企業価値の最大化とガバナンス強化に特化していく方針です。\n",
            "Ⅲ．今後の注力領域\n",
            "  今後当社グループは、社会インフラを核に、エネルギー、電子デバイス、デジタルソリューションの４つの注力事業領域で人々の暮らしと社会を支える役割を担っていきます。これまで培ってきた確かな技術力を生かし、豊かな価値を創造し、持続可能な社会に貢献します。\n",
            "１．社会インフラ事業領域\n",
            "  水処理や受配電、防災、道路、放送、航空管制、郵便などの公共インフラ事業を安定収益事業として位置付け、これらの収益をベースに、成長事業として位置付けた二次電池やエレベーター、空調、鉄道システム、物流システム事業に対し、必要に応じた投資を実施してまいります。また、中国とインドを成長地域とし、戦略的に各事業を拡大していきます。お客様の価値を高めるサービスを継続的に提供することで、当社の製品・システムを長期にわたり、繰り返し幅広く採用いただく「循環型ライフサイクルビジネス」を展開していきます。\n",
            "２．エネルギー領域\n",
            "  火力・水力など発電設備や送配電設備のサービスと更新ビジネスで安定収益を目指します。国内原子力については再稼働、メンテナンス、廃炉を中心に社会的責任を果たしてまいります。一方、成長事業である次世代エネルギーとして期待される水素について、自立型水素エネルギー供給システムH2Oneの製品開発など、将来の種となる技術開発も着実に進め、市場への早期投入を図っていきます。\n",
            "３．電子デバイス領域\n",
            "  半導体部品やシステムLSIなどを軸に産業用の市場で強みを生かして安定した収益確保を図っていきます。また、ハードディスクドライブについてもエンタープライス向けを中心にシェアを拡大し、収益を確保します。一方で、急成長するIoT、車載向け市場については、事業拡大に向けて顧客との連携を強化していきます。\n",
            "４．デジタルソリューション領域\n",
            "  官公庁向けや製造インフラ向けなどのシステムインテグレーションを中心に安定した収益を確保するとともに、東芝のものづくり、音声・画像認識技術によるIoTや人工知能を活用したデジタルサービスソリューション(デジタル技術を活用したサービスソリューション)を成長事業として積極的に展開していきます。IoTや人工知能などを活用したICTソリューションの開発・製造・販売に一元的に対応できる体制を構築し、製造・産業・社会インフラ、流通・金融、官公庁・自治体向けの各ソリューション事業のさらなる拡大を進めます。また、市場のデジタルトランスフォーメーション(デジタル技術を応用して、あらゆるデータを活用し、人々の生活・ビジネスを変革すること)に俊敏に対応し、IoTアーキテクチャー「SPINEX」によりサービス価値を創造・提供できるビジネス・イノベータをめざすとともに、ICT技術を活用し、当社グループの企業価値最大化に貢献します。\n",
            "  以上のとおり当社は改革を進めているところではありますが、このような事態に立ち至りましたことを改めて深くお詫び申し上げます。株主、投資家をはじめとするすべてのステークホルダーの皆様からの信頼を取り戻すべく、経営陣以下全社一丸となって全力で取り組んでまいります。\n",
            "(2)株式会社の支配に関する基本方針\n",
            "１）基本方針の内容\n",
            "  当社グループが株主の皆様に還元する適正な利潤を獲得し、企業価値・株主共同の利益の持続的な向上を実現するためには、株主の皆様はもちろん、お客様、取引先、従業員、地域社会等のステークホルダーとの適切な関係を維持、発展させていくことも必要であり、これらのステークホルダーの利益にも十分配慮した経営を行う必要があると考えています。\n",
            "  また、当社株式の買付の提案を受けた場合に、その買付が当社の企業価値・株主共同の利益に及ぼす影響を適切に判断するためには、各事業分野の有機的結合により実現され得るシナジー効果、当社グループの実情、その他当社の企業価値を構成する要素が十分に把握される必要があると考えます。\n",
            "  当社取締役会は、上記の要素に鑑み、当社の企業価値・株主共同の利益の確保、向上に資さない当社株式の大量取得行為や買付提案を行う者は、当社の財務及び事業の方針の決定を支配する者として適当ではなく、このような者による当社株式の大量取得行為に関しては、必要かつ相当な手段を採ることにより、当社の企業価値・株主共同の利益を確保する必要があると考えています。\n",
            "  以上の考え方に基づき、当社は、2006年６月に当社株式の大量取得行為に関する対応策(いわゆる買収防衛策)を導入し、2009年６月及び2012年６月に更新してまいりましたが、経営環境等の変化、金融商品取引法整備の浸透の状況、株主の皆様の意見等を考慮しながら慎重に検討した結果、当該対応策を更新しないことといたしました。\n",
            "  なお、当該対応策終了後も弊社株式の大規模買付を行おうとする者に対しては、大規模買付行為の是非を株主の皆様が適切に判断するための必要かつ十分な情報の提供を求め、併せて当社取締役会の意見等を開示し、株主の皆様の検討のための時間と情報の確保に努める等、金融商品取引法、会社法及びその他関係法令の許容する範囲内において、適切な措置を講じるとともに、引き続き企業価値及び株主共同の利益の確保及び向上に努めてまいります。\n",
            "２）基本方針の実現に資する特別な取組み\n",
            "  当社グループは、強靭な企業体質への転換を図ることにより株主、投資家をはじめとするすべてのステークホルダーの皆様の信頼回復につなげるべく、「内部管理体制の強化及び企業風土の変革」、「構造改革の断行」、「事業ポートフォリオ及び事業運営体制の見直し」、「財務基盤の整備」を実施しています。\n",
            "\n"
          ],
          "name": "stdout"
        }
      ]
    },
    {
      "cell_type": "code",
      "metadata": {
        "id": "Ccfe8y6-NGcv"
      },
      "source": [
        "import MeCab\n",
        "\n",
        "# Mecab で形態素解析\n",
        "tagger = MeCab.Tagger(\"-Ochasen\")\n",
        "\n",
        "nouns = [line.split()[0] for line in tagger.parse(text).splitlines()\n",
        "               if \"名詞\" in line.split()[-1]]\n",
        "\n",
        "# print(nouns)\n",
        "\n",
        "with open('toshiba2016_words.txt', mode='w',encoding='utf_8') as f:\n",
        "     print(nouns,file=f)\n",
        "f.close()"
      ],
      "execution_count": null,
      "outputs": []
    },
    {
      "cell_type": "code",
      "metadata": {
        "id": "D7aBzMcJjzp_",
        "outputId": "2ec92f32-3685-4653-de63-80d8ec30c8db",
        "colab": {
          "base_uri": "https://localhost:8080/",
          "height": 70
        }
      },
      "source": [
        "from sklearn.feature_extraction.text import TfidfVectorizer\n",
        "\n",
        "canon=open('canon2016_words.txt','r').read()\n",
        "fujitsu=open('fujitsu2016_words.txt','r').read()\n",
        "hitachi=open('hitachi2016_words.txt','r').read()\n",
        "mitsubishi=open('mitsubishi2016_words.txt','r').read()\n",
        "nec=open('nec2016_words.txt','r').read()\n",
        "nidec=open('nidec2016_words.txt','r').read()\n",
        "panasonic=open('panasonic2016_words.txt','r').read()\n",
        "richo=open('richo2016_words.txt','r').read()\n",
        "sharp=open('sharp2016_words.txt','r').read()\n",
        "sony=open('sony2016_words.txt','r').read()\n",
        "toshiba=open('toshiba2016_words.txt','r').read()\n",
        "\n",
        "# 単語リストの確認\n",
        "print(\"%s\" % canon)\n"
      ],
      "execution_count": null,
      "outputs": [
        {
          "output_type": "stream",
          "text": [
            "['３', '対処', '課題', '2017', '年', '世界', '経済', 'IMF', '予測', '緩やか', 'こと', '期待', '政治', '経済', '不', '確実', '性', '状況', 'もの', '当社', '関連', '市場', 'オフィス', '向け', '複合', '機', '需要', 'モノクロ', '機', '縮小', 'カラー', '機', '全体', '前年', '並み', '推移', '見通し', 'レーザー', 'プリンター', '需要', '前年', '並み', '水準', '消耗', '品', '販売', '期待', 'カラー', '機', 'レーザー', '複合', '機', '需要', '拡大', '見通し', 'レンズ', '交換', '式', 'デジタル', 'カメラ', '需要', '先進', '国', '中心', '減少', 'マイナス', '幅', '縮小', '底入れ', '見通し', 'コンパクトデジタルカメラ', '低', '価格', 'モデル', '中心', '市場', '縮小', '見通し', 'インクジェット', 'プリンター', '需要', 'コンシューマ', '向け', '中心', '縮小', '傾向', 'もの', '産業', '機器', '半導体', '露光', '装置', '前年', '並み', '市場', '規模', '見込み', 'FPD', '露光', '装置', '有機', 'EL', 'ディスプレイ', '製造', '装置', 'パネル', 'メーカー', '活発', '設備', '投資', '継続', '市場', '拡大', '見通し', 'ネットワーク', 'カメラ', '災害', '監視', '犯罪', '防止', '目的', '利用', 'マーケティング', '生産', '現場', '効率', '化', '活用', 'ニーズ', '市場', '拡大', '見込み', 'よう', '状況', '中', 'グローバル', '優良', '企業', 'グループ', '構想', 'フェーズ', 'Ⅴ', '２', '年', '目', '2017', '年', '当社', '創立', '80', '周年', '節目', '年', '改革', '加速', '戦略', '的', '大', '転換', '強力', '推進', 'テーマ', '以下', '重点', '施策', '1', '.', '現行', '事業', '徹底', '強化', '事業', '構造', '転換', '成功', 'ため', 'それ', '現行', '事業', '再', '強化', '収益', '性', '向上', 'こと', '具体', '的', '他社', '真似', 'よう', '魅力', '強み', '利益', '率', '実現', 'ダントツ', '商品', '開発', '加速', '自動', '化', '内', '製', '化', '調達', '革新', '諸', '施策', '進化', '原価', '低減', 'こと', '売上', '高', '原価', '率', '45', '％', '達成', 'IoT', 'クラ', 'ウド', '環境', '対応', 'ビジネス', 'モデル', '開発', '事業', '領域', '拡大', '2', '.', '新規', '事業', '強化', '拡大', '将来', '事業', '創出', '商業', '印刷', '総合', 'プリンティング', '企業', '成長', 'パッケージ', '印刷', '本格', '参入', '商品', '開発', '加速', 'ネットワーク', 'カメラ', '高画質', '化', '当社', '映像', '処理', '技術', '映像', '解析', '技術', 'カメラ', 'インテリジェント', '化', '強化', '市場', 'ごと', 'ソリューション', '展開', 'ヘルスケア', 'TMSC', '核', '新', '成長', '戦略', '策定', 'グループ', '総合', '力', '発揮', 'こと', '革新', '的', '製品', '質', 'サービス', 'グローバル', '提供', 'ナノインプリントリソグラフィー', '半導体', '製造', '装置', '産業', '機器', '人工', '知能', 'IoT', '四', '次', '産業', '革命', '新た', '事業', '戦略', '策定', '3', '.', '全', '世界', '販売', '網', '再', '構築', 'BtoB', 'ビジネス', '成否', '提案', '力', '実現', '力', '強化', 'ため', 'ハード', 'ソフト', '両面', '知識', '高度', 'セールス', 'エンジニア', '育成', 'ほか', '企業', '政府', 'ネットワーク', '拡充', '拡販', '体制', '構築', '注力', 'e', 'コマース', '発展', '性', '拡張', '性', '最大限', '活用', 'グローバル', '販売', '戦略', '策定', '4', '.', 'オープン', 'イノベーション', '研究', '開発', '力', '強化', '既存', '分野', '研究', '開発', '効率', '化', '将来', '有望', '分野', '重点的', '投資', 'ほか', 'サービス', 'ビジネス', '確立', '拡大', 'ソフトウエア', '技術', '者', '育成', 'システム', '開発', '外部', '連携', '体制', '構築', '加速', '5', '.', 'グローバル', '人材', '育成', 'キヤノン', 'スピリット', '再', '強化', '創業', '以来', 'DNA', '進取', '気性', '三', '自', '自発', '自治', '自覚', '精神', '更', '徹底', 'グローバル', '環境', 'リーダーシップ', '発揮', '人材', '育成']\n",
            "\n"
          ],
          "name": "stdout"
        }
      ]
    },
    {
      "cell_type": "code",
      "metadata": {
        "id": "QybMdmnQvH5g"
      },
      "source": [
        "# docs=[toshiba]\n",
        "docs=[canon,fujitsu,hitachi,mitsubishi,nec,nidec,panasonic,richo,sharp,sony,toshiba]\n",
        "vectorizer=TfidfVectorizer(use_idf=True,stop_words=['*','こと','ため'])\n",
        "tfidfs=vectorizer.fit_transform(docs)"
      ],
      "execution_count": null,
      "outputs": []
    },
    {
      "cell_type": "markdown",
      "metadata": {
        "id": "AGVCy959TsLB"
      },
      "source": [
        "TF-IDSの値上位１０個を表示"
      ]
    },
    {
      "cell_type": "code",
      "metadata": {
        "id": "i0RTlX4bv60I",
        "outputId": "5d17bdc8-33e3-4f47-ff49-b73292abd5ae",
        "colab": {
          "base_uri": "https://localhost:8080/",
          "height": 200
        }
      },
      "source": [
        "import numpy as np\n",
        "# terms=vectorizer.get_feature_names()\n",
        "terms=np.array(vectorizer.get_feature_names())\n",
        "# print('%s' % ' ' .join(terms))\n",
        "for vec in tfidfs:\n",
        "    index = np.argsort(tfidfs.toarray(), axis=1)[:,::-1]\n",
        "    feature_words = terms[index]\n",
        "print(feature_words[:,:10])"
      ],
      "execution_count": null,
      "outputs": [
        {
          "output_type": "stream",
          "text": [
            "[['見通し' '縮小' 'カメラ' '需要' '装置' '前年' '並み' '開発' '強化' '事業']\n",
            " ['当社' '社会' 'ビジネス' 'ict' '炭素' '東京電力' 'グローバル' 'グループ' '実現' '事案']\n",
            " ['事業' '経営' 'グループ' '当社' '顧客' '成長' '取得' '経済' '当該' '株式']\n",
            " ['三菱電機' '事業' '社会' '経営' '成長' '排出' 'グループ' '強化' '効率' '継続']\n",
            " ['ｎｅｃ' '事業' 'グループ' '経営' '買収' '社会' '提案' '取引' '企業' '当社']\n",
            " ['経営' 'グローバル' '管理' 'グループ' '体制' '成長' '当社' '強化' '技術' '戦略']\n",
            " ['平成' '事業' '当社' '29' '取締役' 'くらし' 'お客様' '車載' '経営' '関連']\n",
            " ['リコー' '印刷' '経営' '事業' 'プリンティング' '19' '中期' '計画' '商用' 'オフィス']\n",
            " ['平成' '経営' '28' '29' '８月' '割当' '当社' '開催' '防衛' '３月']\n",
            " ['ソニー' '事業' '年度' '収益' '音楽' 'ps' 'コンテンツ' '2017' 'カメラ' '領域']\n",
            " ['当社' '事業' '本件' '管理' '建設' '会社' 'wec' '手続' '損失' 'グループ']]\n"
          ],
          "name": "stdout"
        }
      ]
    },
    {
      "cell_type": "code",
      "metadata": {
        "id": "kfFCQIAXv87p",
        "outputId": "38b25f01-fa4e-46bd-def4-0f6c13fdcfd9",
        "colab": {
          "base_uri": "https://localhost:8080/",
          "height": 33
        }
      },
      "source": [
        "tfidfs.toarray()[0]"
      ],
      "execution_count": null,
      "outputs": [
        {
          "output_type": "execute_result",
          "data": {
            "text/plain": [
              "array([0., 0., 0., ..., 0., 0., 0.])"
            ]
          },
          "metadata": {
            "tags": []
          },
          "execution_count": 98
        }
      ]
    },
    {
      "cell_type": "code",
      "metadata": {
        "id": "dER6Z-mhv_KU",
        "outputId": "74d3e063-adc8-4951-ea8e-2b9d94bf2361",
        "colab": {
          "base_uri": "https://localhost:8080/",
          "height": 33
        }
      },
      "source": [
        "from sklearn.decomposition import PCA\n",
        "pca=PCA(n_components=0.9,whiten=False)\n",
        "pca.fit(tfidfs.toarray())\n",
        "pca.n_components_"
      ],
      "execution_count": null,
      "outputs": [
        {
          "output_type": "execute_result",
          "data": {
            "text/plain": [
              "9"
            ]
          },
          "metadata": {
            "tags": []
          },
          "execution_count": 99
        }
      ]
    },
    {
      "cell_type": "code",
      "metadata": {
        "id": "vW-gkaYXwrqm"
      },
      "source": [
        "x=pca.transform(tfidfs.toarray())"
      ],
      "execution_count": null,
      "outputs": []
    },
    {
      "cell_type": "code",
      "metadata": {
        "id": "lU3cw50n3qlZ",
        "outputId": "632db809-d037-4d28-e808-e0ed4e1c1e52",
        "colab": {
          "base_uri": "https://localhost:8080/",
          "height": 383
        }
      },
      "source": [
        "print(x)"
      ],
      "execution_count": null,
      "outputs": [
        {
          "output_type": "stream",
          "text": [
            "[[ 0.5426437  -0.22301253  0.59864326 -0.04320865  0.08227186 -0.19580927\n",
            "   0.21467756 -0.02767449 -0.02980009]\n",
            " [-0.00782058  0.48782393  0.36808332  0.16572056  0.00363831  0.26514468\n",
            "  -0.44615572 -0.02843782  0.04879091]\n",
            " [-0.06025486  0.11663373 -0.21101133  0.00899817 -0.01892696 -0.18475394\n",
            "   0.22252836 -0.14558034  0.02945712]\n",
            " [ 0.10586427  0.32463679 -0.12982652 -0.42851384 -0.34807846  0.08009081\n",
            "   0.08939283 -0.16551681 -0.34714395]\n",
            " [-0.09988959  0.35523339 -0.07078316  0.41053975  0.08053571  0.148042\n",
            "   0.46742794  0.13722317  0.08670804]\n",
            " [-0.1215389   0.06053098 -0.02082029 -0.24455039 -0.25593264 -0.3326027\n",
            "  -0.10626977  0.45192822  0.30547438]\n",
            " [-0.3326929  -0.21096006  0.0442383  -0.18073716  0.05067287  0.08264058\n",
            "   0.01290367 -0.44024173  0.3972799 ]\n",
            " [ 0.33642484 -0.30297242 -0.31713684  0.45598431 -0.33916016 -0.10158592\n",
            "  -0.23345208 -0.12138456 -0.01200545]\n",
            " [-0.54022716 -0.48142611  0.1980158   0.06379929 -0.12730707  0.23621502\n",
            "   0.03226527  0.18054928 -0.29042423]\n",
            " [ 0.38622076 -0.19229493 -0.33288446 -0.23624672  0.35681862  0.4250896\n",
            "  -0.058618    0.19716724  0.06869545]\n",
            " [-0.20872958  0.06580723 -0.12651808  0.02821466  0.51546791 -0.42247084\n",
            "  -0.19470005 -0.03803215 -0.25703209]]\n"
          ],
          "name": "stdout"
        }
      ]
    },
    {
      "cell_type": "code",
      "metadata": {
        "id": "A8YJ2pnS3zpG",
        "outputId": "79d2c42b-d8be-4cf8-9608-6c7961321692",
        "colab": {
          "base_uri": "https://localhost:8080/",
          "height": 484
        }
      },
      "source": [
        "from matplotlib import pyplot\n",
        "pyplot.ion()\n",
        "pyplot.clf()\n",
        "\n",
        "name=['canon','fujitsu','hitachi','mitsubishi','nec','nidec','panasonic','richo','sharp','sony','toshiba']\n",
        "\n",
        "colors=[pyplot.cm.hsv(0.1*i,1) for i in range(len(name))]\n",
        "\n",
        "for i in range(len(name)):\n",
        "    pyplot.scatter(x[i,0],x[i,1],c=colors[i],label=name[i])\n",
        "\n",
        "pyplot.legend()\n"
      ],
      "execution_count": null,
      "outputs": [
        {
          "output_type": "stream",
          "text": [
            "*c* argument looks like a single numeric RGB or RGBA sequence, which should be avoided as value-mapping will have precedence in case its length matches with *x* & *y*.  Please use the *color* keyword-argument or provide a 2-D array with a single row if you intend to specify the same RGB or RGBA value for all points.\n",
            "*c* argument looks like a single numeric RGB or RGBA sequence, which should be avoided as value-mapping will have precedence in case its length matches with *x* & *y*.  Please use the *color* keyword-argument or provide a 2-D array with a single row if you intend to specify the same RGB or RGBA value for all points.\n",
            "*c* argument looks like a single numeric RGB or RGBA sequence, which should be avoided as value-mapping will have precedence in case its length matches with *x* & *y*.  Please use the *color* keyword-argument or provide a 2-D array with a single row if you intend to specify the same RGB or RGBA value for all points.\n",
            "*c* argument looks like a single numeric RGB or RGBA sequence, which should be avoided as value-mapping will have precedence in case its length matches with *x* & *y*.  Please use the *color* keyword-argument or provide a 2-D array with a single row if you intend to specify the same RGB or RGBA value for all points.\n",
            "*c* argument looks like a single numeric RGB or RGBA sequence, which should be avoided as value-mapping will have precedence in case its length matches with *x* & *y*.  Please use the *color* keyword-argument or provide a 2-D array with a single row if you intend to specify the same RGB or RGBA value for all points.\n",
            "*c* argument looks like a single numeric RGB or RGBA sequence, which should be avoided as value-mapping will have precedence in case its length matches with *x* & *y*.  Please use the *color* keyword-argument or provide a 2-D array with a single row if you intend to specify the same RGB or RGBA value for all points.\n",
            "*c* argument looks like a single numeric RGB or RGBA sequence, which should be avoided as value-mapping will have precedence in case its length matches with *x* & *y*.  Please use the *color* keyword-argument or provide a 2-D array with a single row if you intend to specify the same RGB or RGBA value for all points.\n",
            "*c* argument looks like a single numeric RGB or RGBA sequence, which should be avoided as value-mapping will have precedence in case its length matches with *x* & *y*.  Please use the *color* keyword-argument or provide a 2-D array with a single row if you intend to specify the same RGB or RGBA value for all points.\n",
            "*c* argument looks like a single numeric RGB or RGBA sequence, which should be avoided as value-mapping will have precedence in case its length matches with *x* & *y*.  Please use the *color* keyword-argument or provide a 2-D array with a single row if you intend to specify the same RGB or RGBA value for all points.\n",
            "*c* argument looks like a single numeric RGB or RGBA sequence, which should be avoided as value-mapping will have precedence in case its length matches with *x* & *y*.  Please use the *color* keyword-argument or provide a 2-D array with a single row if you intend to specify the same RGB or RGBA value for all points.\n",
            "*c* argument looks like a single numeric RGB or RGBA sequence, which should be avoided as value-mapping will have precedence in case its length matches with *x* & *y*.  Please use the *color* keyword-argument or provide a 2-D array with a single row if you intend to specify the same RGB or RGBA value for all points.\n"
          ],
          "name": "stderr"
        },
        {
          "output_type": "execute_result",
          "data": {
            "text/plain": [
              "<matplotlib.legend.Legend at 0x7f9b4b7956a0>"
            ]
          },
          "metadata": {
            "tags": []
          },
          "execution_count": 102
        },
        {
          "output_type": "display_data",
          "data": {
            "image/png": "[encoded data removed]",
            "text/plain": [
              "<Figure size 432x288 with 1 Axes>"
            ]
          },
          "metadata": {
            "tags": [],
            "needs_background": "light"
          }
        }
      ]
    },
    {
      "cell_type": "code",
      "metadata": {
        "id": "pv8pgaHe4EhO",
        "outputId": "f4bc6e64-15f5-4f2b-ff05-543be00181d0",
        "colab": {
          "base_uri": "https://localhost:8080/",
          "height": 200
        }
      },
      "source": [
        "for i in range(len(name)):\n",
        "    print(i,x[i,0],x[i,1])"
      ],
      "execution_count": null,
      "outputs": [
        {
          "output_type": "stream",
          "text": [
            "0 0.5426437049993332 -0.2230125297027227\n",
            "1 -0.007820583068245766 0.48782393218484343\n",
            "2 -0.06025486125253569 0.11663372585619226\n",
            "3 0.1058642708900041 0.324636786788622\n",
            "4 -0.09988959468052507 0.3552333908623371\n",
            "5 -0.12153890132444482 0.060530980139477136\n",
            "6 -0.3326928954281331 -0.21096005548983757\n",
            "7 0.3364248404622203 -0.30297241895258475\n",
            "8 -0.5402271565428316 -0.4814261128528343\n",
            "9 0.38622076075185247 -0.19229493060953737\n",
            "10 -0.20872958480669432 0.06580723177604468\n"
          ],
          "name": "stdout"
        }
      ]
    },
    {
      "cell_type": "code",
      "metadata": {
        "id": "JORV6zI_NtIX"
      },
      "source": [
        ""
      ],
      "execution_count": null,
      "outputs": []
    }
  ]
}