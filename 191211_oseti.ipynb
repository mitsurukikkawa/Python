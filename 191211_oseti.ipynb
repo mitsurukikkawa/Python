{
  "nbformat": 4,
  "nbformat_minor": 0,
  "metadata": {
    "colab": {
      "name": "191211-oseti.ipynb",
      "provenance": [],
      "include_colab_link": true
    },
    "kernelspec": {
      "name": "python3",
      "display_name": "Python 3"
    }
  },
  "cells": [
    {
      "cell_type": "markdown",
      "metadata": {
        "id": "view-in-github",
        "colab_type": "text"
      },
      "source": [
        "<a href=\"https://colab.research.google.com/github/mitsurukikkawa/Python/blob/master/191211_oseti.ipynb\" target=\"_parent\"><img src=\"https://colab.research.google.com/assets/colab-badge.svg\" alt=\"Open In Colab\"/></a>"
      ]
    },
    {
      "cell_type": "code",
      "metadata": {
        "id": "vhGc1ucF6miR",
        "colab_type": "code",
        "colab": {
          "base_uri": "https://localhost:8080/",
          "height": 52
        },
        "outputId": "d000a335-0d5f-4e11-e9ce-e935a3f36997"
      },
      "source": [
        "pip install -q util"
      ],
      "execution_count": 11,
      "outputs": [
        {
          "output_type": "stream",
          "text": [
            "\u001b[31mERROR: Could not find a version that satisfies the requirement util (from versions: none)\u001b[0m\n",
            "\u001b[31mERROR: No matching distribution found for util\u001b[0m\n"
          ],
          "name": "stdout"
        }
      ]
    },
    {
      "cell_type": "code",
      "metadata": {
        "id": "lPHTLWPNru9J",
        "colab_type": "code",
        "colab": {
          "base_uri": "https://localhost:8080/",
          "height": 383
        },
        "outputId": "b908349e-f101-4e05-d322-7202559b5f5d"
      },
      "source": [
        "import util\n",
        "import numpy as np\n",
        "import numba\n",
        "from sklearn.feature_extraction.text import CountVectorizer\n",
        "\n",
        "data = np.array([\n",
        "        ['本日の大阪の天気は晴れです',1],\n",
        "        ['本日の大阪の天気は曇りです',0],\n",
        "        ['本日の大阪の天気は雨です',-1],        \n",
        "        ])"
      ],
      "execution_count": 12,
      "outputs": [
        {
          "output_type": "error",
          "ename": "ModuleNotFoundError",
          "evalue": "ignored",
          "traceback": [
            "\u001b[0;31m---------------------------------------------------------------------------\u001b[0m",
            "\u001b[0;31mModuleNotFoundError\u001b[0m                       Traceback (most recent call last)",
            "\u001b[0;32m<ipython-input-12-0a7334d44a85>\u001b[0m in \u001b[0;36m<module>\u001b[0;34m()\u001b[0m\n\u001b[0;32m----> 1\u001b[0;31m \u001b[0;32mimport\u001b[0m \u001b[0mutil\u001b[0m\u001b[0;34m\u001b[0m\u001b[0;34m\u001b[0m\u001b[0m\n\u001b[0m\u001b[1;32m      2\u001b[0m \u001b[0;32mimport\u001b[0m \u001b[0mnumpy\u001b[0m \u001b[0;32mas\u001b[0m \u001b[0mnp\u001b[0m\u001b[0;34m\u001b[0m\u001b[0;34m\u001b[0m\u001b[0m\n\u001b[1;32m      3\u001b[0m \u001b[0;32mimport\u001b[0m \u001b[0mnumba\u001b[0m\u001b[0;34m\u001b[0m\u001b[0;34m\u001b[0m\u001b[0m\n\u001b[1;32m      4\u001b[0m \u001b[0;32mfrom\u001b[0m \u001b[0msklearn\u001b[0m\u001b[0;34m.\u001b[0m\u001b[0mfeature_extraction\u001b[0m\u001b[0;34m.\u001b[0m\u001b[0mtext\u001b[0m \u001b[0;32mimport\u001b[0m \u001b[0mCountVectorizer\u001b[0m\u001b[0;34m\u001b[0m\u001b[0;34m\u001b[0m\u001b[0m\n\u001b[1;32m      5\u001b[0m \u001b[0;34m\u001b[0m\u001b[0m\n",
            "\u001b[0;31mModuleNotFoundError\u001b[0m: No module named 'util'",
            "",
            "\u001b[0;31m---------------------------------------------------------------------------\u001b[0;32m\nNOTE: If your import is failing due to a missing package, you can\nmanually install dependencies using either !pip or !apt.\n\nTo view examples of installing some common dependencies, click the\n\"Open Examples\" button below.\n\u001b[0;31m---------------------------------------------------------------------------\u001b[0m\n"
          ]
        }
      ]
    },
    {
      "cell_type": "code",
      "metadata": {
        "id": "MJapzbq2r04_",
        "colab_type": "code",
        "colab": {}
      },
      "source": [
        "@numba.jit\n",
        "def cvectizer(docs):\n",
        "    vectizer = CountVectorizer(analyzer=util.terms)\n",
        "    x = vectizer.fit_transform(docs)\n",
        "    return x,vectizer"
      ],
      "execution_count": 0,
      "outputs": []
    },
    {
      "cell_type": "code",
      "metadata": {
        "id": "OROG5jYG3fzF",
        "colab_type": "code",
        "colab": {}
      },
      "source": [
        "@numba.jit\n",
        "def calcPosiNega(x,ratings):\n",
        "    row_c,col_c = x.shape\n",
        "    calcPosiNegaByRow = np.zeros((row_c,col_c))\n",
        "    calcPosiNegaByCol = np.zeros(col_c)\n",
        "    for row,rate in zip(range(row_c),ratings):\n",
        "        for col in range(col_c):\n",
        "            ans = rate * np.log10(x[row,col] / np.sum(x[row,:]) +1 )\n",
        "            calcPosiNegaByRow[row][col] = ans\n",
        "    calcPosiNegaByCol = np.sum(calcPosiNegaByRow,axis=0)\n",
        "    return calcPosiNegaByCol"
      ],
      "execution_count": 0,
      "outputs": []
    },
    {
      "cell_type": "code",
      "metadata": {
        "id": "Vblr-fQn6Soh",
        "colab_type": "code",
        "colab": {
          "base_uri": "https://localhost:8080/",
          "height": 170
        },
        "outputId": "07e6a1fe-28a2-49f6-b46f-d34c06c20c84"
      },
      "source": [
        "x,vectizer = cvectizer(data[:,0])"
      ],
      "execution_count": 15,
      "outputs": [
        {
          "output_type": "error",
          "ename": "NameError",
          "evalue": "ignored",
          "traceback": [
            "\u001b[0;31m---------------------------------------------------------------------------\u001b[0m",
            "\u001b[0;31mNameError\u001b[0m                                 Traceback (most recent call last)",
            "\u001b[0;32m<ipython-input-15-263c4875c26a>\u001b[0m in \u001b[0;36m<module>\u001b[0;34m()\u001b[0m\n\u001b[0;32m----> 1\u001b[0;31m \u001b[0mx\u001b[0m\u001b[0;34m,\u001b[0m\u001b[0mvectizer\u001b[0m \u001b[0;34m=\u001b[0m \u001b[0mcvectizer\u001b[0m\u001b[0;34m(\u001b[0m\u001b[0mdata\u001b[0m\u001b[0;34m[\u001b[0m\u001b[0;34m:\u001b[0m\u001b[0;34m,\u001b[0m\u001b[0;36m0\u001b[0m\u001b[0;34m]\u001b[0m\u001b[0;34m)\u001b[0m\u001b[0;34m\u001b[0m\u001b[0;34m\u001b[0m\u001b[0m\n\u001b[0m",
            "\u001b[0;31mNameError\u001b[0m: global name 'util' is not defined"
          ]
        }
      ]
    },
    {
      "cell_type": "code",
      "metadata": {
        "id": "tWt-f8-C6WoQ",
        "colab_type": "code",
        "colab": {
          "base_uri": "https://localhost:8080/",
          "height": 383
        },
        "outputId": "3e2506eb-7a63-4c54-8906-4dd55a7241e2"
      },
      "source": [
        "#!/usr/bin/env python3\n",
        "# -*- coding: utf-8 -*-\n",
        "\n",
        "import MeCab\n",
        "\n",
        "PART_OF_SEARCH=(\"名詞\",\"形容詞\",\"動詞\",\"形容動詞\")\n",
        "\n",
        "def _split_to_word(text,to_stem=False):\n",
        "    tagger = MeCab.Tagger('mecabrc')\n",
        "    mecab_result = tagger.parse(text)\n",
        "    words_info = mecab_result.split('\\n')\n",
        "    words = []\n",
        "    for info in words_info:\n",
        "        if info == 'EOS' or info =='':\n",
        "            break\n",
        "        info = info.replace('\\t',',')\n",
        "        info_elms = info.split(',')\n",
        "\n",
        "        if info_elms[1] not in PART_OF_SEARCH:\n",
        "            continue\n",
        "        if to_stem and info_elms[7] != '*':\n",
        "            words.append(info_elms[7])\n",
        "        else:\n",
        "            words.append(info_elms[0])\n",
        "    return words\n",
        "\n",
        "#基本形を返す    \n",
        "def stems(text):\n",
        "    stems = _split_to_word(text,to_stem=True)\n",
        "    return stems\n",
        "\n",
        "#表層形を返す\n",
        "def terms(text):\n",
        "    terms = _split_to_word(text,to_stem=False)\n",
        "    return terms\n",
        "\n",
        "if __name__ == '__main__':\n",
        "    text = \"メロスは激怒した。必ず、かの邪智暴虐の王を除かなければならぬと決意した。\"\n",
        "    print(stems(text))\n",
        "    print(terms(text))"
      ],
      "execution_count": 16,
      "outputs": [
        {
          "output_type": "error",
          "ename": "ModuleNotFoundError",
          "evalue": "ignored",
          "traceback": [
            "\u001b[0;31m---------------------------------------------------------------------------\u001b[0m",
            "\u001b[0;31mModuleNotFoundError\u001b[0m                       Traceback (most recent call last)",
            "\u001b[0;32m<ipython-input-16-a74feb79f9cf>\u001b[0m in \u001b[0;36m<module>\u001b[0;34m()\u001b[0m\n\u001b[1;32m      5\u001b[0m \"\"\"\n\u001b[1;32m      6\u001b[0m \u001b[0;34m\u001b[0m\u001b[0m\n\u001b[0;32m----> 7\u001b[0;31m \u001b[0;32mimport\u001b[0m \u001b[0mMeCab\u001b[0m\u001b[0;34m\u001b[0m\u001b[0;34m\u001b[0m\u001b[0m\n\u001b[0m\u001b[1;32m      8\u001b[0m \u001b[0;34m\u001b[0m\u001b[0m\n\u001b[1;32m      9\u001b[0m \u001b[0mPART_OF_SEARCH\u001b[0m\u001b[0;34m=\u001b[0m\u001b[0;34m(\u001b[0m\u001b[0;34m\"名詞\"\u001b[0m\u001b[0;34m,\u001b[0m\u001b[0;34m\"形容詞\"\u001b[0m\u001b[0;34m,\u001b[0m\u001b[0;34m\"動詞\"\u001b[0m\u001b[0;34m,\u001b[0m\u001b[0;34m\"形容動詞\"\u001b[0m\u001b[0;34m)\u001b[0m\u001b[0;34m\u001b[0m\u001b[0;34m\u001b[0m\u001b[0m\n",
            "\u001b[0;31mModuleNotFoundError\u001b[0m: No module named 'MeCab'",
            "",
            "\u001b[0;31m---------------------------------------------------------------------------\u001b[0;32m\nNOTE: If your import is failing due to a missing package, you can\nmanually install dependencies using either !pip or !apt.\n\nTo view examples of installing some common dependencies, click the\n\"Open Examples\" button below.\n\u001b[0;31m---------------------------------------------------------------------------\u001b[0m\n"
          ]
        }
      ]
    },
    {
      "cell_type": "code",
      "metadata": {
        "id": "eEG78xci9NW8",
        "colab_type": "code",
        "colab": {
          "base_uri": "https://localhost:8080/",
          "height": 34
        },
        "outputId": "fc6423eb-1d6d-4702-da20-8bc61c1176b5"
      },
      "source": [
        "\n"
      ],
      "execution_count": 18,
      "outputs": [
        {
          "output_type": "stream",
          "text": [
            "\u001b[31mERROR: Command errored out with exit status 1: python setup.py egg_info Check the logs for full command output.\u001b[0m\n"
          ],
          "name": "stdout"
        }
      ]
    },
    {
      "cell_type": "code",
      "metadata": {
        "id": "uqM50YxQ9J55",
        "colab_type": "code",
        "colab": {
          "base_uri": "https://localhost:8080/",
          "height": 570
        },
        "outputId": "f153bfdd-dc7b-42ab-fa4e-041a8f3b5d93"
      },
      "source": [
        "pip install oseti"
      ],
      "execution_count": 19,
      "outputs": [
        {
          "output_type": "stream",
          "text": [
            "Collecting oseti\n",
            "\u001b[?25l  Downloading https://files.pythonhosted.org/packages/d1/ac/84c61da1e5dd9620b71e863dd4e1bef68eb5533a228fc17dd4d8f98d908d/oseti-0.2.tar.gz (75kB)\n",
            "\u001b[K     |████████████████████████████████| 81kB 2.2MB/s \n",
            "\u001b[?25hCollecting sengiri\n",
            "  Downloading https://files.pythonhosted.org/packages/66/51/584352e8c50c2d73696c40b3be8a78b6eab7ee3db7b021c1c7e247ceb399/sengiri-0.2.1.tar.gz\n",
            "Collecting neologdn\n",
            "\u001b[?25l  Downloading https://files.pythonhosted.org/packages/18/fd/9e84b382e4f12b73737faabeeb57fd617198dbb29b7084e28604803f7926/neologdn-0.4.tar.gz (59kB)\n",
            "\u001b[K     |████████████████████████████████| 61kB 6.7MB/s \n",
            "\u001b[?25hCollecting mecab-python3\n",
            "\u001b[?25l  Downloading https://files.pythonhosted.org/packages/b3/92/e7e7f38df8457fa40c1ca86928be5ddbe2bf341e90a35e6ada30d03ef16d/mecab_python3-0.996.2-cp36-cp36m-manylinux1_x86_64.whl (15.9MB)\n",
            "\u001b[K     |████████████████████████████████| 15.9MB 149kB/s \n",
            "\u001b[?25hCollecting emoji\n",
            "\u001b[?25l  Downloading https://files.pythonhosted.org/packages/40/8d/521be7f0091fe0f2ae690cc044faf43e3445e0ff33c574eae752dd7e39fa/emoji-0.5.4.tar.gz (43kB)\n",
            "\u001b[K     |████████████████████████████████| 51kB 6.3MB/s \n",
            "\u001b[?25hBuilding wheels for collected packages: oseti, sengiri, neologdn, emoji\n",
            "  Building wheel for oseti (setup.py) ... \u001b[?25l\u001b[?25hdone\n",
            "  Created wheel for oseti: filename=oseti-0.2-cp36-none-any.whl size=74358 sha256=2908b4bb7612b42a642669767d7f356dc5bb0b25353555bed3cc97842ac8df22\n",
            "  Stored in directory: /root/.cache/pip/wheels/3f/a0/b8/306332f20803a7af8bbb35ab3ddaf625dfef62076a6372eec7\n",
            "  Building wheel for sengiri (setup.py) ... \u001b[?25l\u001b[?25hdone\n",
            "  Created wheel for sengiri: filename=sengiri-0.2.1-cp36-none-any.whl size=4360 sha256=a3c9c8568a2b529afdf186102308a7709161615a67a1968c5bbad15fb7403da6\n",
            "  Stored in directory: /root/.cache/pip/wheels/dd/c1/36/d123492db6ec7445fe4124351505e1150a35e03e5c08f3dad0\n",
            "  Building wheel for neologdn (setup.py) ... \u001b[?25l\u001b[?25hdone\n",
            "  Created wheel for neologdn: filename=neologdn-0.4-cp36-cp36m-linux_x86_64.whl size=186958 sha256=4b3ce4107edccf1a5aa584fc57c9f13e768f7aabc318ec9186629f72c15774a1\n",
            "  Stored in directory: /root/.cache/pip/wheels/b3/6f/d4/c132b4e7aef22019e307e7673d97010644c9c15f28c0d0b018\n",
            "  Building wheel for emoji (setup.py) ... \u001b[?25l\u001b[?25hdone\n",
            "  Created wheel for emoji: filename=emoji-0.5.4-cp36-none-any.whl size=42175 sha256=9b06e73f8d5b4fd2d34b8d9aceefa746d08ef16697221134019753490565168c\n",
            "  Stored in directory: /root/.cache/pip/wheels/2a/a9/0a/4f8e8cce8074232aba240caca3fade315bb49fac68808d1a9c\n",
            "Successfully built oseti sengiri neologdn emoji\n",
            "Installing collected packages: emoji, mecab-python3, sengiri, neologdn, oseti\n",
            "Successfully installed emoji-0.5.4 mecab-python3-0.996.2 neologdn-0.4 oseti-0.2 sengiri-0.2.1\n"
          ],
          "name": "stdout"
        }
      ]
    },
    {
      "cell_type": "code",
      "metadata": {
        "id": "JZ5x_YAxCeO9",
        "colab_type": "code",
        "colab": {
          "base_uri": "https://localhost:8080/",
          "height": 34
        },
        "outputId": "93fa7aa4-8993-4030-c624-78875ae0af98"
      },
      "source": [
        "import oseti\n",
        "\n",
        "analyzer = oseti.Analyzer()\n",
        "analyzer.analyze('天国で待ってる。')"
      ],
      "execution_count": 20,
      "outputs": [
        {
          "output_type": "execute_result",
          "data": {
            "text/plain": [
              "[1.0]"
            ]
          },
          "metadata": {
            "tags": []
          },
          "execution_count": 20
        }
      ]
    },
    {
      "cell_type": "code",
      "metadata": {
        "id": "a-wZZGrDClGw",
        "colab_type": "code",
        "colab": {
          "base_uri": "https://localhost:8080/",
          "height": 34
        },
        "outputId": "37817e78-892b-4c10-8699-727d2e5aa6f3"
      },
      "source": [
        "analyzer.analyze('遅刻したけど楽しかったし嬉しかった。すごく充実した！')"
      ],
      "execution_count": 21,
      "outputs": [
        {
          "output_type": "execute_result",
          "data": {
            "text/plain": [
              "[0.3333333333333333, 1.0]"
            ]
          },
          "metadata": {
            "tags": []
          },
          "execution_count": 21
        }
      ]
    },
    {
      "cell_type": "code",
      "metadata": {
        "id": "Tvv9S85yCnym",
        "colab_type": "code",
        "colab": {
          "base_uri": "https://localhost:8080/",
          "height": 34
        },
        "outputId": "b69b46af-b718-47c5-8a2e-7545eeddc924"
      },
      "source": [
        "analyzer.count_polarity('遅刻したけど楽しかったし嬉しかった。すごく充実した！')"
      ],
      "execution_count": 22,
      "outputs": [
        {
          "output_type": "execute_result",
          "data": {
            "text/plain": [
              "[{'negative': 1, 'positive': 2}, {'negative': 0, 'positive': 1}]"
            ]
          },
          "metadata": {
            "tags": []
          },
          "execution_count": 22
        }
      ]
    },
    {
      "cell_type": "code",
      "metadata": {
        "id": "pvzEGukLC5rE",
        "colab_type": "code",
        "colab": {
          "base_uri": "https://localhost:8080/",
          "height": 34
        },
        "outputId": "fc705b0d-cc1b-46b8-d989-abd1838c8e36"
      },
      "source": [
        "analyzer.analyze_detail('お金も希望もない！')"
      ],
      "execution_count": 23,
      "outputs": [
        {
          "output_type": "execute_result",
          "data": {
            "text/plain": [
              "[{'negative': ['お金-NEGATION', '希望-NEGATION'], 'positive': [], 'score': -1.0}]"
            ]
          },
          "metadata": {
            "tags": []
          },
          "execution_count": 23
        }
      ]
    },
    {
      "cell_type": "code",
      "metadata": {
        "id": "VTL8uUCED9FC",
        "colab_type": "code",
        "colab": {
          "base_uri": "https://localhost:8080/",
          "height": 34
        },
        "outputId": "21977866-f2ac-4f4d-c595-43b962cc3c09"
      },
      "source": [
        "analyzer.analyze_detail('お金がないわけではない')"
      ],
      "execution_count": 24,
      "outputs": [
        {
          "output_type": "execute_result",
          "data": {
            "text/plain": [
              "[{'negative': [], 'positive': ['お金'], 'score': 1.0}]"
            ]
          },
          "metadata": {
            "tags": []
          },
          "execution_count": 24
        }
      ]
    },
    {
      "cell_type": "code",
      "metadata": {
        "id": "pdN-0g7ZD-_5",
        "colab_type": "code",
        "colab": {}
      },
      "source": [
        ""
      ],
      "execution_count": 0,
      "outputs": []
    }
  ]
}