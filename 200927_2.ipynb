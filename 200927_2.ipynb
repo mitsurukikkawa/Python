{
  "nbformat": 4,
  "nbformat_minor": 0,
  "metadata": {
    "colab": {
      "name": "200927-2.ipynb",
      "provenance": [],
      "collapsed_sections": [],
      "authorship_tag": "ABX9TyPwcpFK4bKsaZtCaZPCeK1L",
      "include_colab_link": true
    },
    "kernelspec": {
      "name": "python3",
      "display_name": "Python 3"
    }
  },
  "cells": [
    {
      "cell_type": "markdown",
      "metadata": {
        "id": "view-in-github",
        "colab_type": "text"
      },
      "source": [
        "<a href=\"https://colab.research.google.com/github/mitsurukikkawa/Python/blob/master/200927_2.ipynb\" target=\"_parent\"><img src=\"https://colab.research.google.com/assets/colab-badge.svg\" alt=\"Open In Colab\"/></a>"
      ]
    },
    {
      "cell_type": "markdown",
      "metadata": {
        "id": "hWIY-TBWPkmS"
      },
      "source": [
        "参考\n",
        "http://i.cla.kobe-u.ac.jp/murao/class/2015-SeminarB3/\n",
        "\n"
      ]
    },
    {
      "cell_type": "code",
      "metadata": {
        "id": "C-uQIVJ8KWto",
        "outputId": "cfda735c-1ee6-4b1c-fe38-a733b38e7c77",
        "colab": {
          "base_uri": "https://localhost:8080/",
          "height": 1000
        }
      },
      "source": [
        "!apt install aptitude\n",
        "!aptitude install mecab libmecab-dev mecab-ipadic-utf8 git make curl xz-utils file\n",
        "!pip install mecab-python3==0.7"
      ],
      "execution_count": 3,
      "outputs": [
        {
          "output_type": "stream",
          "text": [
            "Reading package lists... Done\n",
            "Building dependency tree       \n",
            "Reading state information... Done\n",
            "The following additional packages will be installed:\n",
            "  aptitude-common libcgi-fast-perl libcgi-pm-perl libclass-accessor-perl\n",
            "  libcwidget3v5 libencode-locale-perl libfcgi-perl libhtml-parser-perl\n",
            "  libhtml-tagset-perl libhttp-date-perl libhttp-message-perl libio-html-perl\n",
            "  libio-string-perl liblwp-mediatypes-perl libparse-debianchangelog-perl\n",
            "  libsigc++-2.0-0v5 libsub-name-perl libtimedate-perl liburi-perl libxapian30\n",
            "Suggested packages:\n",
            "  aptitude-doc-en | aptitude-doc apt-xapian-index debtags tasksel\n",
            "  libcwidget-dev libdata-dump-perl libhtml-template-perl libxml-simple-perl\n",
            "  libwww-perl xapian-tools\n",
            "The following NEW packages will be installed:\n",
            "  aptitude aptitude-common libcgi-fast-perl libcgi-pm-perl\n",
            "  libclass-accessor-perl libcwidget3v5 libencode-locale-perl libfcgi-perl\n",
            "  libhtml-parser-perl libhtml-tagset-perl libhttp-date-perl\n",
            "  libhttp-message-perl libio-html-perl libio-string-perl\n",
            "  liblwp-mediatypes-perl libparse-debianchangelog-perl libsigc++-2.0-0v5\n",
            "  libsub-name-perl libtimedate-perl liburi-perl libxapian30\n",
            "0 upgraded, 21 newly installed, 0 to remove and 11 not upgraded.\n",
            "Need to get 3,877 kB of archives.\n",
            "After this operation, 15.6 MB of additional disk space will be used.\n",
            "Get:1 http://archive.ubuntu.com/ubuntu bionic/main amd64 aptitude-common all 0.8.10-6ubuntu1 [1,014 kB]\n",
            "Get:2 http://archive.ubuntu.com/ubuntu bionic/main amd64 libsigc++-2.0-0v5 amd64 2.10.0-2 [10.9 kB]\n",
            "Get:3 http://archive.ubuntu.com/ubuntu bionic/main amd64 libcwidget3v5 amd64 0.5.17-7 [286 kB]\n",
            "Get:4 http://archive.ubuntu.com/ubuntu bionic-updates/main amd64 libxapian30 amd64 1.4.5-1ubuntu0.1 [631 kB]\n",
            "Get:5 http://archive.ubuntu.com/ubuntu bionic/main amd64 aptitude amd64 0.8.10-6ubuntu1 [1,269 kB]\n",
            "Get:6 http://archive.ubuntu.com/ubuntu bionic/main amd64 libhtml-tagset-perl all 3.20-3 [12.1 kB]\n",
            "Get:7 http://archive.ubuntu.com/ubuntu bionic/main amd64 liburi-perl all 1.73-1 [77.2 kB]\n",
            "Get:8 http://archive.ubuntu.com/ubuntu bionic/main amd64 libhtml-parser-perl amd64 3.72-3build1 [85.9 kB]\n",
            "Get:9 http://archive.ubuntu.com/ubuntu bionic/main amd64 libcgi-pm-perl all 4.38-1 [185 kB]\n",
            "Get:10 http://archive.ubuntu.com/ubuntu bionic/main amd64 libfcgi-perl amd64 0.78-2build1 [32.8 kB]\n",
            "Get:11 http://archive.ubuntu.com/ubuntu bionic/main amd64 libcgi-fast-perl all 1:2.13-1 [9,940 B]\n",
            "Get:12 http://archive.ubuntu.com/ubuntu bionic/main amd64 libsub-name-perl amd64 0.21-1build1 [11.6 kB]\n",
            "Get:13 http://archive.ubuntu.com/ubuntu bionic/main amd64 libclass-accessor-perl all 0.51-1 [21.2 kB]\n",
            "Get:14 http://archive.ubuntu.com/ubuntu bionic/main amd64 libencode-locale-perl all 1.05-1 [12.3 kB]\n",
            "Get:15 http://archive.ubuntu.com/ubuntu bionic/main amd64 libtimedate-perl all 2.3000-2 [37.5 kB]\n",
            "Get:16 http://archive.ubuntu.com/ubuntu bionic/main amd64 libhttp-date-perl all 6.02-1 [10.4 kB]\n",
            "Get:17 http://archive.ubuntu.com/ubuntu bionic/main amd64 libio-html-perl all 1.001-1 [14.9 kB]\n",
            "Get:18 http://archive.ubuntu.com/ubuntu bionic/main amd64 liblwp-mediatypes-perl all 6.02-1 [21.7 kB]\n",
            "Get:19 http://archive.ubuntu.com/ubuntu bionic/main amd64 libhttp-message-perl all 6.14-1 [72.1 kB]\n",
            "Get:20 http://archive.ubuntu.com/ubuntu bionic/main amd64 libio-string-perl all 1.08-3 [11.1 kB]\n",
            "Get:21 http://archive.ubuntu.com/ubuntu bionic/main amd64 libparse-debianchangelog-perl all 1.2.0-12 [49.5 kB]\n",
            "Fetched 3,877 kB in 1s (2,867 kB/s)\n",
            "Selecting previously unselected package aptitude-common.\n",
            "(Reading database ... 144676 files and directories currently installed.)\n",
            "Preparing to unpack .../00-aptitude-common_0.8.10-6ubuntu1_all.deb ...\n",
            "Unpacking aptitude-common (0.8.10-6ubuntu1) ...\n",
            "Selecting previously unselected package libsigc++-2.0-0v5:amd64.\n",
            "Preparing to unpack .../01-libsigc++-2.0-0v5_2.10.0-2_amd64.deb ...\n",
            "Unpacking libsigc++-2.0-0v5:amd64 (2.10.0-2) ...\n",
            "Selecting previously unselected package libcwidget3v5:amd64.\n",
            "Preparing to unpack .../02-libcwidget3v5_0.5.17-7_amd64.deb ...\n",
            "Unpacking libcwidget3v5:amd64 (0.5.17-7) ...\n",
            "Selecting previously unselected package libxapian30:amd64.\n",
            "Preparing to unpack .../03-libxapian30_1.4.5-1ubuntu0.1_amd64.deb ...\n",
            "Unpacking libxapian30:amd64 (1.4.5-1ubuntu0.1) ...\n",
            "Selecting previously unselected package aptitude.\n",
            "Preparing to unpack .../04-aptitude_0.8.10-6ubuntu1_amd64.deb ...\n",
            "Unpacking aptitude (0.8.10-6ubuntu1) ...\n",
            "Selecting previously unselected package libhtml-tagset-perl.\n",
            "Preparing to unpack .../05-libhtml-tagset-perl_3.20-3_all.deb ...\n",
            "Unpacking libhtml-tagset-perl (3.20-3) ...\n",
            "Selecting previously unselected package liburi-perl.\n",
            "Preparing to unpack .../06-liburi-perl_1.73-1_all.deb ...\n",
            "Unpacking liburi-perl (1.73-1) ...\n",
            "Selecting previously unselected package libhtml-parser-perl.\n",
            "Preparing to unpack .../07-libhtml-parser-perl_3.72-3build1_amd64.deb ...\n",
            "Unpacking libhtml-parser-perl (3.72-3build1) ...\n",
            "Selecting previously unselected package libcgi-pm-perl.\n",
            "Preparing to unpack .../08-libcgi-pm-perl_4.38-1_all.deb ...\n",
            "Unpacking libcgi-pm-perl (4.38-1) ...\n",
            "Selecting previously unselected package libfcgi-perl.\n",
            "Preparing to unpack .../09-libfcgi-perl_0.78-2build1_amd64.deb ...\n",
            "Unpacking libfcgi-perl (0.78-2build1) ...\n",
            "Selecting previously unselected package libcgi-fast-perl.\n",
            "Preparing to unpack .../10-libcgi-fast-perl_1%3a2.13-1_all.deb ...\n",
            "Unpacking libcgi-fast-perl (1:2.13-1) ...\n",
            "Selecting previously unselected package libsub-name-perl.\n",
            "Preparing to unpack .../11-libsub-name-perl_0.21-1build1_amd64.deb ...\n",
            "Unpacking libsub-name-perl (0.21-1build1) ...\n",
            "Selecting previously unselected package libclass-accessor-perl.\n",
            "Preparing to unpack .../12-libclass-accessor-perl_0.51-1_all.deb ...\n",
            "Unpacking libclass-accessor-perl (0.51-1) ...\n",
            "Selecting previously unselected package libencode-locale-perl.\n",
            "Preparing to unpack .../13-libencode-locale-perl_1.05-1_all.deb ...\n",
            "Unpacking libencode-locale-perl (1.05-1) ...\n",
            "Selecting previously unselected package libtimedate-perl.\n",
            "Preparing to unpack .../14-libtimedate-perl_2.3000-2_all.deb ...\n",
            "Unpacking libtimedate-perl (2.3000-2) ...\n",
            "Selecting previously unselected package libhttp-date-perl.\n",
            "Preparing to unpack .../15-libhttp-date-perl_6.02-1_all.deb ...\n",
            "Unpacking libhttp-date-perl (6.02-1) ...\n",
            "Selecting previously unselected package libio-html-perl.\n",
            "Preparing to unpack .../16-libio-html-perl_1.001-1_all.deb ...\n",
            "Unpacking libio-html-perl (1.001-1) ...\n",
            "Selecting previously unselected package liblwp-mediatypes-perl.\n",
            "Preparing to unpack .../17-liblwp-mediatypes-perl_6.02-1_all.deb ...\n",
            "Unpacking liblwp-mediatypes-perl (6.02-1) ...\n",
            "Selecting previously unselected package libhttp-message-perl.\n",
            "Preparing to unpack .../18-libhttp-message-perl_6.14-1_all.deb ...\n",
            "Unpacking libhttp-message-perl (6.14-1) ...\n",
            "Selecting previously unselected package libio-string-perl.\n",
            "Preparing to unpack .../19-libio-string-perl_1.08-3_all.deb ...\n",
            "Unpacking libio-string-perl (1.08-3) ...\n",
            "Selecting previously unselected package libparse-debianchangelog-perl.\n",
            "Preparing to unpack .../20-libparse-debianchangelog-perl_1.2.0-12_all.deb ...\n",
            "Unpacking libparse-debianchangelog-perl (1.2.0-12) ...\n",
            "Setting up libhtml-tagset-perl (3.20-3) ...\n",
            "Setting up libxapian30:amd64 (1.4.5-1ubuntu0.1) ...\n",
            "Setting up libencode-locale-perl (1.05-1) ...\n",
            "Setting up libtimedate-perl (2.3000-2) ...\n",
            "Setting up libio-html-perl (1.001-1) ...\n",
            "Setting up aptitude-common (0.8.10-6ubuntu1) ...\n",
            "Setting up liblwp-mediatypes-perl (6.02-1) ...\n",
            "Setting up liburi-perl (1.73-1) ...\n",
            "Setting up libhtml-parser-perl (3.72-3build1) ...\n",
            "Setting up libcgi-pm-perl (4.38-1) ...\n",
            "Setting up libio-string-perl (1.08-3) ...\n",
            "Setting up libsub-name-perl (0.21-1build1) ...\n",
            "Setting up libfcgi-perl (0.78-2build1) ...\n",
            "Setting up libsigc++-2.0-0v5:amd64 (2.10.0-2) ...\n",
            "Setting up libclass-accessor-perl (0.51-1) ...\n",
            "Setting up libhttp-date-perl (6.02-1) ...\n",
            "Setting up libcgi-fast-perl (1:2.13-1) ...\n",
            "Setting up libparse-debianchangelog-perl (1.2.0-12) ...\n",
            "Setting up libhttp-message-perl (6.14-1) ...\n",
            "Setting up libcwidget3v5:amd64 (0.5.17-7) ...\n",
            "Setting up aptitude (0.8.10-6ubuntu1) ...\n",
            "update-alternatives: using /usr/bin/aptitude-curses to provide /usr/bin/aptitude (aptitude) in auto mode\n",
            "Processing triggers for man-db (2.8.3-2ubuntu0.1) ...\n",
            "Processing triggers for libc-bin (2.27-3ubuntu1.2) ...\n",
            "/sbin/ldconfig.real: /usr/local/lib/python3.6/dist-packages/ideep4py/lib/libmkldnn.so.0 is not a symbolic link\n",
            "\n",
            "git is already installed at the requested version (1:2.17.1-1ubuntu0.7)\n",
            "make is already installed at the requested version (4.1-9.1ubuntu1)\n",
            "curl is already installed at the requested version (7.58.0-2ubuntu3.10)\n",
            "xz-utils is already installed at the requested version (5.2.2-1.3)\n",
            "git is already installed at the requested version (1:2.17.1-1ubuntu0.7)\n",
            "make is already installed at the requested version (4.1-9.1ubuntu1)\n",
            "curl is already installed at the requested version (7.58.0-2ubuntu3.10)\n",
            "xz-utils is already installed at the requested version (5.2.2-1.3)\n",
            "The following NEW packages will be installed:\n",
            "  file libmagic-mgc{a} libmagic1{a} libmecab-dev libmecab2{a} mecab mecab-ipadic{a} mecab-ipadic-utf8 mecab-jumandic{a} mecab-jumandic-utf8{a} mecab-utils{a} \n",
            "0 packages upgraded, 11 newly installed, 0 to remove and 11 not upgraded.\n",
            "Need to get 29.3 MB of archives. After unpacking 282 MB will be used.\n",
            "Do you want to continue? [Y/n/?] Y\n",
            "Get: 1 http://archive.ubuntu.com/ubuntu bionic-updates/main amd64 libmagic-mgc amd64 1:5.32-2ubuntu0.4 [184 kB]\n",
            "Get: 2 http://archive.ubuntu.com/ubuntu bionic-updates/main amd64 libmagic1 amd64 1:5.32-2ubuntu0.4 [68.6 kB]\n",
            "Get: 3 http://archive.ubuntu.com/ubuntu bionic-updates/main amd64 file amd64 1:5.32-2ubuntu0.4 [22.1 kB]\n",
            "Get: 4 http://archive.ubuntu.com/ubuntu bionic/universe amd64 libmecab2 amd64 0.996-5 [257 kB]\n",
            "Get: 5 http://archive.ubuntu.com/ubuntu bionic/universe amd64 libmecab-dev amd64 0.996-5 [308 kB]\n",
            "Get: 6 http://archive.ubuntu.com/ubuntu bionic/universe amd64 mecab-utils amd64 0.996-5 [4,856 B]\n",
            "Get: 7 http://archive.ubuntu.com/ubuntu bionic/universe amd64 mecab-jumandic-utf8 all 7.0-20130310-4 [16.2 MB]\n",
            "Get: 8 http://archive.ubuntu.com/ubuntu bionic/universe amd64 mecab-jumandic all 7.0-20130310-4 [2,212 B]\n",
            "Get: 9 http://archive.ubuntu.com/ubuntu bionic/universe amd64 mecab-ipadic all 2.7.0-20070801+main-1 [12.1 MB]\n",
            "Get: 10 http://archive.ubuntu.com/ubuntu bionic/universe amd64 mecab amd64 0.996-5 [132 kB]\n",
            "Get: 11 http://archive.ubuntu.com/ubuntu bionic/universe amd64 mecab-ipadic-utf8 all 2.7.0-20070801+main-1 [3,522 B]\n",
            "Fetched 29.3 MB in 2s (16.7 MB/s)\n",
            "Selecting previously unselected package libmagic-mgc.\n",
            "(Reading database ... 145135 files and directories currently installed.)\n",
            "Preparing to unpack .../00-libmagic-mgc_1%3a5.32-2ubuntu0.4_amd64.deb ...\n",
            "Unpacking libmagic-mgc (1:5.32-2ubuntu0.4) ...\n",
            "Selecting previously unselected package libmagic1:amd64.\n",
            "Preparing to unpack .../01-libmagic1_1%3a5.32-2ubuntu0.4_amd64.deb ...\n",
            "Unpacking libmagic1:amd64 (1:5.32-2ubuntu0.4) ...\n",
            "Selecting previously unselected package file.\n",
            "Preparing to unpack .../02-file_1%3a5.32-2ubuntu0.4_amd64.deb ...\n",
            "Unpacking file (1:5.32-2ubuntu0.4) ...\n",
            "Selecting previously unselected package libmecab2:amd64.\n",
            "Preparing to unpack .../03-libmecab2_0.996-5_amd64.deb ...\n",
            "Unpacking libmecab2:amd64 (0.996-5) ...\n",
            "Selecting previously unselected package libmecab-dev.\n",
            "Preparing to unpack .../04-libmecab-dev_0.996-5_amd64.deb ...\n",
            "Unpacking libmecab-dev (0.996-5) ...\n",
            "Selecting previously unselected package mecab-utils.\n",
            "Preparing to unpack .../05-mecab-utils_0.996-5_amd64.deb ...\n",
            "Unpacking mecab-utils (0.996-5) ...\n",
            "Selecting previously unselected package mecab-jumandic-utf8.\n",
            "Preparing to unpack .../06-mecab-jumandic-utf8_7.0-20130310-4_all.deb ...\n",
            "Unpacking mecab-jumandic-utf8 (7.0-20130310-4) ...\n",
            "Selecting previously unselected package mecab-jumandic.\n",
            "Preparing to unpack .../07-mecab-jumandic_7.0-20130310-4_all.deb ...\n",
            "Unpacking mecab-jumandic (7.0-20130310-4) ...\n",
            "Selecting previously unselected package mecab-ipadic.\n",
            "Preparing to unpack .../08-mecab-ipadic_2.7.0-20070801+main-1_all.deb ...\n",
            "Unpacking mecab-ipadic (2.7.0-20070801+main-1) ...\n",
            "Selecting previously unselected package mecab.\n",
            "Preparing to unpack .../09-mecab_0.996-5_amd64.deb ...\n",
            "Unpacking mecab (0.996-5) ...\n",
            "Selecting previously unselected package mecab-ipadic-utf8.\n",
            "Preparing to unpack .../10-mecab-ipadic-utf8_2.7.0-20070801+main-1_all.deb ...\n",
            "Unpacking mecab-ipadic-utf8 (2.7.0-20070801+main-1) ...\n",
            "Setting up libmecab2:amd64 (0.996-5) ...\n",
            "Setting up libmagic-mgc (1:5.32-2ubuntu0.4) ...\n",
            "Setting up libmagic1:amd64 (1:5.32-2ubuntu0.4) ...\n",
            "Setting up mecab-utils (0.996-5) ...\n",
            "Setting up mecab-ipadic (2.7.0-20070801+main-1) ...\n",
            "Compiling IPA dictionary for Mecab.  This takes long time...\n",
            "reading /usr/share/mecab/dic/ipadic/unk.def ... 40\n",
            "emitting double-array: 100% |###########################################| \n",
            "/usr/share/mecab/dic/ipadic/model.def is not found. skipped.\n",
            "reading /usr/share/mecab/dic/ipadic/Noun.others.csv ... 151\n",
            "reading /usr/share/mecab/dic/ipadic/Noun.proper.csv ... 27327\n",
            "reading /usr/share/mecab/dic/ipadic/Interjection.csv ... 252\n",
            "reading /usr/share/mecab/dic/ipadic/Verb.csv ... 130750\n",
            "reading /usr/share/mecab/dic/ipadic/Adnominal.csv ... 135\n",
            "reading /usr/share/mecab/dic/ipadic/Suffix.csv ... 1393\n",
            "reading /usr/share/mecab/dic/ipadic/Noun.name.csv ... 34202\n",
            "reading /usr/share/mecab/dic/ipadic/Noun.nai.csv ... 42\n",
            "reading /usr/share/mecab/dic/ipadic/Adj.csv ... 27210\n",
            "reading /usr/share/mecab/dic/ipadic/Noun.adjv.csv ... 3328\n",
            "reading /usr/share/mecab/dic/ipadic/Adverb.csv ... 3032\n",
            "reading /usr/share/mecab/dic/ipadic/Noun.demonst.csv ... 120\n",
            "reading /usr/share/mecab/dic/ipadic/Noun.verbal.csv ... 12146\n",
            "reading /usr/share/mecab/dic/ipadic/Symbol.csv ... 208\n",
            "reading /usr/share/mecab/dic/ipadic/Postp-col.csv ... 91\n",
            "reading /usr/share/mecab/dic/ipadic/Noun.csv ... 60477\n",
            "reading /usr/share/mecab/dic/ipadic/Noun.adverbal.csv ... 795\n",
            "reading /usr/share/mecab/dic/ipadic/Filler.csv ... 19\n",
            "reading /usr/share/mecab/dic/ipadic/Noun.place.csv ... 72999\n",
            "reading /usr/share/mecab/dic/ipadic/Noun.org.csv ... 16668\n",
            "reading /usr/share/mecab/dic/ipadic/Others.csv ... 2\n",
            "reading /usr/share/mecab/dic/ipadic/Conjunction.csv ... 171\n",
            "reading /usr/share/mecab/dic/ipadic/Prefix.csv ... 221\n",
            "reading /usr/share/mecab/dic/ipadic/Noun.number.csv ... 42\n",
            "reading /usr/share/mecab/dic/ipadic/Auxil.csv ... 199\n",
            "reading /usr/share/mecab/dic/ipadic/Postp.csv ... 146\n",
            "emitting double-array: 100% |###########################################| \n",
            "reading /usr/share/mecab/dic/ipadic/matrix.def ... 1316x1316\n",
            "emitting matrix      : 100% |###########################################| \n",
            "\n",
            "done!\n",
            "update-alternatives: using /var/lib/mecab/dic/ipadic to provide /var/lib/mecab/dic/debian (mecab-dictionary) in auto mode\n",
            "Setting up libmecab-dev (0.996-5) ...\n",
            "Setting up file (1:5.32-2ubuntu0.4) ...\n",
            "Setting up mecab-jumandic-utf8 (7.0-20130310-4) ...\n",
            "Compiling Juman dictionary for Mecab.\n",
            "reading /usr/share/mecab/dic/juman/unk.def ... 37\n",
            "emitting double-array: 100% |###########################################| \n",
            "reading /usr/share/mecab/dic/juman/Noun.keishiki.csv ... 8\n",
            "reading /usr/share/mecab/dic/juman/Rengo.csv ... 1118\n",
            "reading /usr/share/mecab/dic/juman/Assert.csv ... 34\n",
            "reading /usr/share/mecab/dic/juman/Auto.csv ... 18931\n",
            "reading /usr/share/mecab/dic/juman/Suffix.csv ... 2128\n",
            "reading /usr/share/mecab/dic/juman/Noun.suusi.csv ... 49\n",
            "reading /usr/share/mecab/dic/juman/Demonstrative.csv ... 97\n",
            "reading /usr/share/mecab/dic/juman/AuxV.csv ... 593\n",
            "reading /usr/share/mecab/dic/juman/Noun.koyuu.csv ... 7964\n",
            "reading /usr/share/mecab/dic/juman/Emoticon.csv ... 972\n",
            "reading /usr/share/mecab/dic/juman/Prefix.csv ... 90\n",
            "reading /usr/share/mecab/dic/juman/Special.csv ... 158\n",
            "reading /usr/share/mecab/dic/juman/Noun.hukusi.csv ... 81\n",
            "reading /usr/share/mecab/dic/juman/ContentW.csv ... 551145\n",
            "reading /usr/share/mecab/dic/juman/Postp.csv ... 108\n",
            "reading /usr/share/mecab/dic/juman/Wikipedia.csv ... 167709\n",
            "emitting double-array: 100% |###########################################| \n",
            "reading /usr/share/mecab/dic/juman/matrix.def ... 1876x1876\n",
            "emitting matrix      : 100% |###########################################| \n",
            "\n",
            "done!\n",
            "Setting up mecab-ipadic-utf8 (2.7.0-20070801+main-1) ...\n",
            "Compiling IPA dictionary for Mecab.  This takes long time...\n",
            "reading /usr/share/mecab/dic/ipadic/unk.def ... 40\n",
            "emitting double-array: 100% |###########################################| \n",
            "/usr/share/mecab/dic/ipadic/model.def is not found. skipped.\n",
            "reading /usr/share/mecab/dic/ipadic/Noun.others.csv ... 151\n",
            "reading /usr/share/mecab/dic/ipadic/Noun.proper.csv ... 27327\n",
            "reading /usr/share/mecab/dic/ipadic/Interjection.csv ... 252\n",
            "reading /usr/share/mecab/dic/ipadic/Verb.csv ... 130750\n",
            "reading /usr/share/mecab/dic/ipadic/Adnominal.csv ... 135\n",
            "reading /usr/share/mecab/dic/ipadic/Suffix.csv ... 1393\n",
            "reading /usr/share/mecab/dic/ipadic/Noun.name.csv ... 34202\n",
            "reading /usr/share/mecab/dic/ipadic/Noun.nai.csv ... 42\n",
            "reading /usr/share/mecab/dic/ipadic/Adj.csv ... 27210\n",
            "reading /usr/share/mecab/dic/ipadic/Noun.adjv.csv ... 3328\n",
            "reading /usr/share/mecab/dic/ipadic/Adverb.csv ... 3032\n",
            "reading /usr/share/mecab/dic/ipadic/Noun.demonst.csv ... 120\n",
            "reading /usr/share/mecab/dic/ipadic/Noun.verbal.csv ... 12146\n",
            "reading /usr/share/mecab/dic/ipadic/Symbol.csv ... 208\n",
            "reading /usr/share/mecab/dic/ipadic/Postp-col.csv ... 91\n",
            "reading /usr/share/mecab/dic/ipadic/Noun.csv ... 60477\n",
            "reading /usr/share/mecab/dic/ipadic/Noun.adverbal.csv ... 795\n",
            "reading /usr/share/mecab/dic/ipadic/Filler.csv ... 19\n",
            "reading /usr/share/mecab/dic/ipadic/Noun.place.csv ... 72999\n",
            "reading /usr/share/mecab/dic/ipadic/Noun.org.csv ... 16668\n",
            "reading /usr/share/mecab/dic/ipadic/Others.csv ... 2\n",
            "reading /usr/share/mecab/dic/ipadic/Conjunction.csv ... 171\n",
            "reading /usr/share/mecab/dic/ipadic/Prefix.csv ... 221\n",
            "reading /usr/share/mecab/dic/ipadic/Noun.number.csv ... 42\n",
            "reading /usr/share/mecab/dic/ipadic/Auxil.csv ... 199\n",
            "reading /usr/share/mecab/dic/ipadic/Postp.csv ... 146\n",
            "emitting double-array: 100% |###########################################| \n",
            "reading /usr/share/mecab/dic/ipadic/matrix.def ... 1316x1316\n",
            "emitting matrix      : 100% |###########################################| \n",
            "\n",
            "done!\n",
            "update-alternatives: using /var/lib/mecab/dic/ipadic-utf8 to provide /var/lib/mecab/dic/debian (mecab-dictionary) in auto mode\n",
            "Setting up mecab (0.996-5) ...\n",
            "Compiling IPA dictionary for Mecab.  This takes long time...\n",
            "reading /usr/share/mecab/dic/ipadic/unk.def ... 40\n",
            "emitting double-array: 100% |###########################################| \n",
            "/usr/share/mecab/dic/ipadic/model.def is not found. skipped.\n",
            "reading /usr/share/mecab/dic/ipadic/Noun.others.csv ... 151\n",
            "reading /usr/share/mecab/dic/ipadic/Noun.proper.csv ... 27327\n",
            "reading /usr/share/mecab/dic/ipadic/Interjection.csv ... 252\n",
            "reading /usr/share/mecab/dic/ipadic/Verb.csv ... 130750\n",
            "reading /usr/share/mecab/dic/ipadic/Adnominal.csv ... 135\n",
            "reading /usr/share/mecab/dic/ipadic/Suffix.csv ... 1393\n",
            "reading /usr/share/mecab/dic/ipadic/Noun.name.csv ... 34202\n",
            "reading /usr/share/mecab/dic/ipadic/Noun.nai.csv ... 42\n",
            "reading /usr/share/mecab/dic/ipadic/Adj.csv ... 27210\n",
            "reading /usr/share/mecab/dic/ipadic/Noun.adjv.csv ... 3328\n",
            "reading /usr/share/mecab/dic/ipadic/Adverb.csv ... 3032\n",
            "reading /usr/share/mecab/dic/ipadic/Noun.demonst.csv ... 120\n",
            "reading /usr/share/mecab/dic/ipadic/Noun.verbal.csv ... 12146\n",
            "reading /usr/share/mecab/dic/ipadic/Symbol.csv ... 208\n",
            "reading /usr/share/mecab/dic/ipadic/Postp-col.csv ... 91\n",
            "reading /usr/share/mecab/dic/ipadic/Noun.csv ... 60477\n",
            "reading /usr/share/mecab/dic/ipadic/Noun.adverbal.csv ... 795\n",
            "reading /usr/share/mecab/dic/ipadic/Filler.csv ... 19\n",
            "reading /usr/share/mecab/dic/ipadic/Noun.place.csv ... 72999\n",
            "reading /usr/share/mecab/dic/ipadic/Noun.org.csv ... 16668\n",
            "reading /usr/share/mecab/dic/ipadic/Others.csv ... 2\n",
            "reading /usr/share/mecab/dic/ipadic/Conjunction.csv ... 171\n",
            "reading /usr/share/mecab/dic/ipadic/Prefix.csv ... 221\n",
            "reading /usr/share/mecab/dic/ipadic/Noun.number.csv ... 42\n",
            "reading /usr/share/mecab/dic/ipadic/Auxil.csv ... 199\n",
            "reading /usr/share/mecab/dic/ipadic/Postp.csv ... 146\n",
            "emitting double-array: 100% |###########################################| \n",
            "reading /usr/share/mecab/dic/ipadic/matrix.def ... 1316x1316\n",
            "emitting matrix      : 100% |###########################################| \n",
            "\n",
            "done!\n",
            "Setting up mecab-jumandic (7.0-20130310-4) ...\n",
            "Processing triggers for man-db (2.8.3-2ubuntu0.1) ...\n",
            "Processing triggers for libc-bin (2.27-3ubuntu1.2) ...\n",
            "/sbin/ldconfig.real: /usr/local/lib/python3.6/dist-packages/ideep4py/lib/libmkldnn.so.0 is not a symbolic link\n",
            "\n",
            "                            \n",
            "Collecting mecab-python3==0.7\n",
            "  Using cached https://files.pythonhosted.org/packages/25/e9/bbf5fc790a2bedd96fbaf47a84afa060bfb0b3e0217e5f64b32bd4bbad69/mecab-python3-0.7.tar.gz\n",
            "Building wheels for collected packages: mecab-python3\n",
            "  Building wheel for mecab-python3 (setup.py) ... \u001b[?25l\u001b[?25hdone\n",
            "  Created wheel for mecab-python3: filename=mecab_python3-0.7-cp36-cp36m-linux_x86_64.whl size=155482 sha256=ff69fbf6b7a4509499c239b4b7d23fe223d6a38d1b4be36f48d112e572747956\n",
            "  Stored in directory: /root/.cache/pip/wheels/4c/07/3a/5f22ccc9f381f3bc01fa023202061cd1e0e9af855292f005dd\n",
            "Successfully built mecab-python3\n",
            "Installing collected packages: mecab-python3\n",
            "Successfully installed mecab-python3-0.7\n"
          ],
          "name": "stdout"
        }
      ]
    },
    {
      "cell_type": "code",
      "metadata": {
        "id": "kyI9dbgKKd5q"
      },
      "source": [
        "import re\n",
        "\n",
        "# ファイル読み込み\n",
        "f=open('waganeko.txt','r')\n",
        "text = f.read()\n",
        "f.close()\n",
        "\n",
        "# フッタの除去\n",
        "text = re.split('底本：',text)[0]\n",
        "\n",
        "# 最初の一の除去\n",
        "text = re.sub('一', '', text,1)\n",
        "\n",
        "# 空行の削除\n",
        "text = re.sub('\\n\\n', '\\n', text)\n",
        "\n",
        "# print(text)"
      ],
      "execution_count": 49,
      "outputs": []
    },
    {
      "cell_type": "code",
      "metadata": {
        "id": "Ccfe8y6-NGcv"
      },
      "source": [
        "import MeCab\n",
        "\n",
        "# Mecab で形態素解析\n",
        "tagger = MeCab.Tagger(\"-Owakati\")\n",
        "result = tagger.parse(text)\n",
        "\n",
        "# print(result)\n",
        "with open('waganeko_words.txt', mode='w') as f:\n",
        "  print(result,file=f)\n",
        "f.close()"
      ],
      "execution_count": 50,
      "outputs": []
    },
    {
      "cell_type": "code",
      "metadata": {
        "id": "D7aBzMcJjzp_",
        "outputId": "0a02e6d3-adfa-4571-a558-ce29d856e64c",
        "colab": {
          "base_uri": "https://localhost:8080/",
          "height": 86
        }
      },
      "source": [
        "from sklearn.feature_extraction.text import TfidfVectorizer\n",
        "\n",
        "hana=open('hana_words.txt','r').read()\n",
        "kokoro=open('kokoro_words.txt','r').read()\n",
        "kumo=open('kumo_words.txt','r').read()\n",
        "merosu=open('merosu_words.txt','r').read()\n",
        "ningen=open('ningen_words.txt','r').read()\n",
        "rasho=open('rasho_words.txt','r').read()\n",
        "sorekara=open('sorekara_words.txt','r').read()\n",
        "waganeko=open('waganeko_words.txt','r').read()\n",
        "\n",
        "# 単語リストの確認\n",
        "print(\"%s\" % merosu)\n"
      ],
      "execution_count": 52,
      "outputs": [
        {
          "output_type": "stream",
          "text": [
            "走れ メロス 太宰 治 　 メロス は 激怒 し た 。 必ず 、 かの 邪智 暴虐 の 王 を 除か なけれ ば なら ぬ と 決意 し た 。 メロス に は 政治 が わから ぬ 。 メロス は 、 村 の 牧人 で ある 。 笛 を 吹き 、 羊 と 遊ん で 暮し て 来 た 。 けれども 邪悪 に対して は 、 人 倍 に 敏感 で あっ た 。 きょう 未明 メロス は 村 を 出発 し 、 野 を 越え 山越え 、 十 里 は なれ た 此 の シラクス の 市 に やって来 た 。 メロス に は 父 も 、 母 も 無い 。 女房 も 無い 。 十 六 の 、 内気 な 妹 と 二 人 暮し だ 。 この 妹 は 、 村 の 或 る 律 気 な 一 牧人 を 、 近々 、 花婿 として 迎える 事 に なっ て い た 。 結婚式 も 間近 か な の で ある 。 メロス は 、 それ ゆえ 、 花嫁 の 衣裳 やら 祝宴 の 御馳走 やら を 買い に 、 はるばる 市 に やって来 た の だ 。 先ず 、 その 品々 を 買い 集め 、 それから 都 の 大路 を ぶらぶら 歩い た 。 メロス に は 竹馬 の 友 が あっ た 。 セリヌンティウス で ある 。 今 は 此 の シラクス の 市 で 、 石工 を し て いる 。 その 友 を 、 これから 訪ね て みる つもり な の だ 。 久しく 逢わ なかっ た の だ から 、 訪ね て 行く の が 楽しみ で ある 。 歩い て いる うち に メロス は 、 まち の 様子 を 怪しく 思っ た 。 ひっそり し て いる 。 もう 既に 日 も 落ち て 、 まち の 暗い の は 当り まえ だ が 、 けれども 、 なんだか 、 夜 の せい ばかり で は 無く 、 市 全体 が 、 やけに 寂しい 。 のんき な メロス も 、 だんだん 不安 に なっ て 来 た 。 路 で 逢っ た 若い衆 を つかまえ て 、 何 か あっ た の か 、 二 年 まえ に 此 の 市 に 来 た とき は 、 夜 でも 皆 が 歌 を うたっ て 、 まち は 賑やか で あっ た 筈 だ が 、 と 質問 し た 。 若い衆 は 、 首 を 振っ て 答え なかっ た 。 しばらく 歩い て 老爺 に 逢い 、 こんど は もっと 、 語勢 を 強く し て 質問 し た 。 老爺 は 答え なかっ た 。 メロス は 両手 で 老爺 の からだ を ゆすぶっ て 質問 を 重ね た 。 老爺 は 、 あたり を はばかる 低 声 で 、 わずか 答え た 。 「 王様 は 、 人 を 殺し ます 。 」 「 なぜ 殺す の だ 。 」 「 悪心 を 抱い て いる 、 という の です が 、 誰 も そんな 、 悪心 を 持っ て は 居り ませ ぬ 。 」 「 たくさん の 人 を 殺し た の か 。 」 「 はい 、 はじめ は 王様 の 妹 婿 さま を 。 それから 、 御 自身 の お 世嗣 を 。 それから 、 妹 さま を 。 それから 、 妹 さま の 御子 さま を 。 それから 、 皇后 さま を 。 それから 、 賢 臣 の アレキス 様 を 。 」 「 おどろい た 。 国王 は 乱心 か 。 」 「 いいえ 、 乱心 で は ござい ませ ぬ 。 人 を 、 信ずる 事 が 出来 ぬ 、 という の です 。 このごろ は 、 臣下 の 心 を も 、 お 疑い に なり 、 少しく 派手 な 暮し を し て いる 者 に は 、 人質 ひとり ずつ 差し出す こと を 命じ て 居り ます 。 御 命令 を 拒め ば 十字架 に かけ られ て 、 殺さ れ ます 。 きょう は 、 六 人 殺さ れ まし た 。 」 　 聞い て 、 メロス は 激怒 し た 。 「 呆れ た 王 だ 。 生かし て 置け ぬ 。 」 　 メロス は 、 単純 な 男 で あっ た 。 買い物 を 、 背負っ た まま で 、 のそのそ 王城 に は いっ て 行っ た 。 たちまち 彼 は 、 巡邏 の 警吏 に 捕縛 さ れ た 。 調べ られ て 、 メロス の 懐中 から は 短剣 が 出 て 来 た ので 、 騒ぎ が 大きく なっ て しまっ た 。 メロス は 、 王 の 前 に 引き出さ れ た 。 「 この 短刀 で 何 を する つもり で あっ た か 。 言え ！ 」 暴君 ディオニス は 静か に 、 けれども 威厳 を以て 問いつめ た 。 その 王 の 顔 は 蒼白 で 、 眉間 の 皺 は 、 刻み込ま れ た よう に 深かっ た 。 「 市 を 暴君 の 手 から 救う の だ 。 」 と メロス は 悪びれ ず に 答え た 。 「 おまえ が か ？ 」 王 は 、 憫笑 し た 。 「 仕方 の 無い やつ じゃ 。 おまえ に は 、 わし の 孤独 が わから ぬ 。 」 「 言う な ！ 」 と メロス は 、 いきり立っ て 反駁 し た 。 「 人 の 心 を 疑う の は 、 最も 恥ず べき 悪徳 だ 。 王 は 、 民 の 忠誠 を さえ 疑っ て 居ら れる 。 」 「 疑う の が 、 正当 の 心構え な の だ と 、 わし に 教え て くれ た の は 、 おまえ たち だ 。 人 の 心 は 、 あて に なら ない 。 人間 は 、 もともと 私慾 の かたまり さ 。 信じ て は 、 なら ぬ 。 」 暴君 は 落着 い て 呟き 、 ほっと 溜息 を つい た 。 「 わし だって 、 平和 を 望ん で いる の だ が 。 」 「 なん の 為 の 平和 だ 。 自分 の 地位 を 守る 為 か 。 」 こんど は メロス が 嘲笑 し た 。 「 罪 の 無い 人 を 殺し て 、 何 が 平和 だ 。 」 「 だまれ 、 下 賤 の 者 。 」 王 は 、 さっと 顔 を 挙げ て 報い た 。 「 口 で は 、 どんな 清らか な 事 でも 言える 。 わし に は 、 人 の 腹 綿 の 奥底 が 見え透い て なら ぬ 。 おまえ だって 、 いま に 、 磔 に なっ て から 、 泣い て 詫び た って 聞か ぬ ぞ 。 」 「 ああ 、 王 は 悧巧 だ 。 自惚れ て いる が よい 。 私 は 、 ちゃんと 死ぬ る 覚悟 で 居る のに 。 命乞い など 決して し ない 。 ただ 、 ——」 と 言い かけ て 、 メロス は 足もと に 視線 を 落し 瞬時 ためらい 、 「 ただ 、 私 に 情 を かけ たい つもり なら 、 処刑 まで に 三 日間 の 日限 を 与え て 下さい 。 たった 一 人 の 妹 に 、 亭主 を 持た せ て やり たい の です 。 三 日 の うち に 、 私 は 村 で 結婚式 を 挙げ させ 、 必ず 、 ここ へ 帰っ て 来 ます 。 」 「 ば か な 。 」 と 暴君 は 、 嗄れ た 声 で 低く 笑っ た 。 「 とんでも ない 嘘 を 言う わい 。 逃がし た 小鳥 が 帰っ て 来る という の か 。 」 「 そう です 。 帰っ て 来る の です 。 」 メロス は 必死 で 言い張っ た 。 「 私 は 約束 を 守り ます 。 私 を 、 三 日間 だけ 許し て 下さい 。 妹 が 、 私 の 帰り を 待っ て いる の だ 。 そんなに 私 を 信じ られ ない なら ば 、 よろしい 、 この 市 に セリヌンティウス という 石工 が い ます 。 私 の 無二 の 友人 だ 。 あれ を 、 人質 として ここ に 置い て 行こ う 。 私 が 逃げ て しまっ て 、 三 日 目 の 日暮 まで 、 ここ に 帰っ て 来 なかっ たら 、 あの 友人 を 絞め殺し て 下さい 。 たのむ 、 そう し て 下さい 。 」 　 それ を 聞い て 王 は 、 残虐 な 気持 で 、 そっと 北叟笑ん だ 。 生意気 な こと を 言う わい 。 どうせ 帰っ て 来 ない に きまっ て いる 。 この 嘘つき に 騙さ れ た 振り し て 、 放し て やる の も 面白い 。 そうして 身代り の 男 を 、 三 日 目 に 殺し て やる の も 気味 が いい 。 人 は 、 これ だ から 信じ られ ぬ と 、 わし は 悲しい 顔 し て 、 その 身代り の 男 を 磔刑 に 処し て やる の だ 。 世の中 の 、 正直 者 とかいう 奴輩 に うんと 見せつけ て やり たい もの さ 。 「 願い を 、 聞い た 。 その 身代り を 呼ぶ が よい 。 三 日 目 に は 日没 まで に 帰っ て 来い 。 おくれ たら 、 その 身代り を 、 きっと 殺す ぞ 。 ちょっと おくれ て 来る が いい 。 おまえ の 罪 は 、 永遠 に ゆるし て やろ う ぞ 。 」 「 なに 、 何 を おっしゃる 。 」 「 は は 。 いのち が 大事 だっ たら 、 おくれ て 来い 。 おまえ の 心 は 、 わかっ て いる ぞ 。 」 　 メロス は 口惜しく 、 地団駄 踏ん だ 。 もの も 言い たく なくなっ た 。 　 竹馬 の 友 、 セリヌンティウス は 、 深夜 、 王城 に 召さ れ た 。 暴君 ディオニス の 面前 で 、 佳き 友 と 佳き 友 は 、 二 年 ぶり で 相 逢う た 。 メロス は 、 友 に 一切 の 事情 を 語っ た 。 セリヌンティウス は 無言 で 首肯き 、 メロス を ひしと 抱きしめ た 。 友 と 友 の 間 は 、 それで よかっ た 。 セリヌンティウス は 、 縄 打た れ た 。 メロス は 、 すぐ に 出発 し た 。 初夏 、 満天 の 星 で ある 。 　 メロス は その 夜 、 一睡 も せ ず 十 里 の 路 を 急ぎ に 急い で 、 村 へ 到着 し た の は 、 翌 る 日 の 午前 、 陽 は 既に 高く 昇っ て 、 村人 たち は 野 に 出 て 仕事 を はじめ て い た 。 メロス の 十 六 の 妹 も 、 きょう は 兄 の 代り に 羊 群 の 番 を し て い た 。 よろめい て 歩い て 来る 兄 の 、 疲労 困憊 の 姿 を 見つけ て 驚い た 。 そうして 、 うるさく 兄 に 質問 を 浴びせ た 。 「 なん で も 無い 。 」 メロス は 無理 に 笑お う と 努め た 。 「 市 に 用事 を 残し て 来 た 。 また すぐ 市 に 行か なけれ ば なら ぬ 。 あす 、 おまえ の 結婚式 を 挙げる 。 早い ほう が よかろ う 。 」 　 妹 は 頬 を あからめ た 。 「 うれしい か 。 綺麗 な 衣裳 も 買っ て 来 た 。 さあ 、 これから 行っ て 、 村 の 人 たち に 知らせ て 来い 。 結婚式 は 、 あす だ と 。 」 　 メロス は 、 また 、 よろよろ と 歩き 出し 、 家 へ 帰っ て 神 々 の 祭壇 を 飾り 、 祝宴 の 席 を 調え 、 間もなく 床 に 倒れ 伏 し 、 呼吸 も せ ぬ くらい の 深い 眠り に 落ち て しまっ た 。 　 眼 が 覚め た の は 夜 だっ た 。 メロス は 起き て すぐ 、 花婿 の 家 を 訪れ た 。 そうして 、 少し 事情 が ある から 、 結婚式 を 明日 に し て くれ 、 と 頼ん だ 。 婿 の 牧人 は 驚き 、 それ は いけ ない 、 こちら に は 未だ 何 の 仕度 も 出来 て い ない 、 葡萄 の 季節 まで 待っ て くれ 、 と 答え た 。 メロス は 、 待つ こと は 出来 ぬ 、 どうか 明日 に し て くれ 給え 、 と 更 に 押し て たのん だ 。 婿 の 牧人 も 頑強 で あっ た 。 なかなか 承諾 し て くれ ない 。 夜明け まで 議論 を つづけ て 、 やっと 、 どうにか 婿 を なだめ 、 すかし て 、 説き伏せ た 。 結婚式 は 、 真昼 に 行わ れ た 。 新郎 新婦 の 、 神 々 へ の 宣誓 が 済ん だ ころ 、 黒雲 が 空 を 覆い 、 ぽつりぽつり 雨 が 降り出し 、 やがて 車軸 を 流す よう な 大雨 と なっ た 。 祝宴 に 列席 し て い た 村人 たち は 、 何 か 不吉 な もの を 感じ た が 、 それでも 、 めいめい 気持 を 引きたて 、 狭い 家 の 中 で 、 むんむん 蒸し暑い の も 怺 え 、 陽気 に 歌 を うたい 、 手 を 拍 っ た 。 メロス も 、 満面 に 喜色 を 湛え 、 しばらく は 、 王 と の あの 約束 を さえ 忘れ て い た 。 祝宴 は 、 夜 に 入っ て いよいよ 乱れ 華やか に なり 、 人々 は 、 外 の 豪雨 を 全く 気 に し なく なっ た 。 メロス は 、 一生 この まま ここ に い たい 、 と 思っ た 。 この 佳い 人 たち と 生涯 暮し て 行き たい と 願っ た が 、 いま は 、 自分 の からだ で 、 自分 の もの で は 無い 。 まま なら ぬ 事 で ある 。 メロス は 、 わが身 に 鞭打ち 、 ついに 出発 を 決意 し た 。 あす の 日没 まで に は 、 まだ 十 分の 時 が 在る 。 ちょっと 一眠り し て 、 それ から すぐ に 出発 しよ う 、 と 考え た 。 その 頃 に は 、 雨 も 小降り に なっ て いよ う 。 少し でも 永く この 家 に 愚図 愚図 とどまっ て い たかっ た 。 メロス ほど の 男 に も 、 やはり 未練 の 情 という もの は 在る 。 今宵 呆然 、 歓喜 に 酔っ て いる らしい 花嫁 に 近寄り 、 「 おめでとう 。 私 は 疲れ て しまっ た から 、 ちょっと ご免 こうむっ て 眠り たい 。 眼 が 覚め たら 、 すぐ に 市 に 出かける 。 大切 な 用事 が ある の だ 。 私 が い なく て も 、 もう おまえ に は 優しい 亭主 が ある の だ から 、 決して 寂しい 事 は 無い 。 おまえ の 兄 の 、 一 ばん きらい な もの は 、 人 を 疑う 事 と 、 それから 、 嘘 を つく 事 だ 。 おまえ も 、 それ は 、 知っ て いる ね 。 亭主 と の 間 に 、 どんな 秘密 でも 作っ て は なら ぬ 。 おまえ に 言い たい の は 、 それだけ だ 。 おまえ の 兄 は 、 たぶん 偉い 男 な の だ から 、 おまえ も その 誇り を 持っ て いろ 。 」 　 花嫁 は 、 夢見心地 で 首肯い た 。 メロス は 、 それから 花婿 の 肩 を たたい て 、 「 仕度 の 無い の は お 互 さま さ 。 私 の 家 に も 、 宝 と いっ て は 、 妹 と 羊 だけ だ 。 他 に は 、 何 も 無い 。 全部 あげよ う 。 もう 一つ 、 メロス の 弟 に なっ た こと を 誇っ て くれ 。 」 　 花婿 は 揉み手 し て 、 てれ て い た 。 メロス は 笑っ て 村人 たち に も 会釈 し て 、 宴席 から 立ち去り 、 羊 小屋 に もぐり込ん で 、 死ん だ よう に 深く 眠っ た 。 　 眼 が 覚め た の は 翌 る 日 の 薄明 の 頃 で ある 。 メロス は 跳ね 起き 、 南無 三 、 寝過し た か 、 いや 、 まだまだ 大丈夫 、 これから すぐ に 出発 すれ ば 、 約束 の 刻限 まで に は 十分 間に合う 。 きょう は 是非 とも 、 あの 王 に 、 人 の 信実 の 存する ところ を 見せ て やろ う 。 そう し て 笑っ て 磔 の 台 に 上っ て やる 。 メロス は 、 悠々 と 身 仕度 を はじめ た 。 雨 も 、 いくぶん 小降り に なっ て いる 様子 で ある 。 身 仕度 は 出来 た 。 さて 、 メロス は 、 ぶる ん と 両 腕 を 大きく 振っ て 、 雨中 、 矢 の 如く 走り出 た 。 　 私 は 、 今宵 、 殺さ れる 。 殺さ れる 為 に 走る の だ 。 身代り の 友 を 救う 為 に 走る の だ 。 王 の 奸佞 邪智 を 打ち破る 為 に 走る の だ 。 走ら なけれ ば なら ぬ 。 そうして 、 私 は 殺さ れる 。 若い 時 から 名誉 を 守れ 。 さらば 、 ふるさと 。 若い メロス は 、 つらかっ た 。 幾度 か 、 立ちどまり そう に なっ た 。 えい 、 えい と 大声 挙げ て 自身 を 叱り ながら 走っ た 。 村 を 出 て 、 野 を 横切り 、 森 を くぐり抜け 、 隣村 に 着い た 頃 に は 、 雨 も 止み 、 日 は 高く 昇っ て 、 そろそろ 暑く なっ て 来 た 。 メロス は 額 の 汗 を こぶし で 払い 、 ここ まで 来れ ば 大丈夫 、 もはや 故郷 へ の 未練 は 無い 。 妹 たち は 、 きっと 佳い 夫婦 に なる だろ う 。 私 に は 、 いま 、 なん の 気がかり も 無い 筈 だ 。 まっすぐ に 王城 に 行き着け ば 、 それ で よい の だ 。 そんなに 急ぐ 必要 も 無い 。 ゆっくり 歩こ う 、 と 持ち まえ の 呑気 さ を 取り返し 、 好き な 小歌 を いい 声 で 歌い 出し た 。 ぶらぶら 歩い て 二里 行き 三里 行き 、 そろそろ 全 里程 の 半ば に 到達 し た 頃 、 降っ て 湧い た 災難 、 メロス の 足 は 、 はたと 、 とまっ た 。 見よ 、 前方 の 川 を 。 きのう の 豪雨 で 山 の 水源 地 は 氾濫 し 、 濁流 滔々 と 下流 に 集り 、 猛 勢 一挙 に 橋 を 破壊 し 、 どうどう と 響き を あげる 激流 が 、 木葉 微塵 に 橋桁 を 跳ね 飛ばし て い た 。 彼 は 茫然 と 、 立ちすくん だ 。 あちこち と 眺め まわし 、 また 、 声 を 限り に 呼び たて て み た が 、 繋 舟 は 残ら ず 浪 に 浚わ れ て 影 なく 、 渡 守り の 姿 も 見え ない 。 流れ は いよいよ 、 ふくれ 上り 、 海 の よう に なっ て いる 。 メロス は 川岸 に うずくまり 、 男泣き に 泣き ながら ゼウス に 手 を 挙げ て 哀願 し た 。 「 ああ 、 鎮め た まえ 、 荒れ狂う 流れ を ！ 　 時 は 刻々 に 過ぎ て 行き ます 。 太陽 も 既に 真昼 時 です 。 あれ が 沈ん で しまわ ぬ うち に 、 王城 に 行き着く こと が 出来 なかっ たら 、 あの 佳い 友達 が 、 私 の ため に 死ぬ の です 。 」 　 濁流 は 、 メロス の 叫び を せせら笑う 如く 、 ますます 激しく 躍り 狂う 。 浪 は 浪 を 呑み 、 捲き 、 煽り 立て 、 そうして 時 は 、 刻 一刻 と 消え て 行く 。 今 は メロス も 覚悟 し た 。 泳ぎ 切る より 他 に 無い 。 ああ 、 神 々 も 照覧 あれ ！ 　 濁流 に も 負け ぬ 愛 と 誠 の 偉大 な 力 を 、 いま こそ 発揮 し て 見せる 。 メロス は 、 ざんぶと 流れ に 飛び込み 、 百 匹 の 大蛇 の よう に の た 打ち 荒れ狂う 浪 を 相手 に 、 必死 の 闘争 を 開始 し た 。 満身 の 力 を 腕 に こめ て 、 押し寄せ 渦巻き 引きずる 流れ を 、 なん の これしき と 掻き わけ 掻き わけ 、 めくら めっぽう 獅子奮迅 の 人 の 子 の 姿 に は 、 神 も 哀れ と 思っ た か 、 ついに 憐愍 を 垂れ て くれ た 。 押し流さ れ つつ も 、 見事 、 対岸 の 樹木 の 幹 に 、 すがりつく 事 が 出来 た の で ある 。 ありがたい 。 メロス は 馬 の よう に 大きな 胴震い を 一つ し て 、 すぐ に また 先 き を 急い だ 。 一刻 と いえ ども 、 むだ に は 出来 ない 。 陽 は 既に 西 に 傾き かけ て いる 。 ぜ い ぜ い 荒い 呼吸 を し ながら 峠 を のぼり 、 のぼり 切っ て 、 ほっと し た 時 、 突然 、 目 の 前 に 一 隊 の 山賊 が 躍り出 た 。 「 待て 。 」 「 何 を する の だ 。 私 は 陽 の 沈ま ぬ うち に 王城 へ 行か なけれ ば なら ぬ 。 放せ 。 」 「 どっこい 放さ ぬ 。 持ち も の 全部 を 置い て 行け 。 」 「 私 に は いのち の 他 に は 何 も 無い 。 その 、 たった 一つ の 命 も 、 これから 王 に くれ て やる の だ 。 」 「 その 、 いのち が 欲しい の だ 。 」 「 さては 、 王 の 命令 で 、 ここ で 私 を 待ち伏せ し て い た の だ な 。 」 　 山賊 たち は 、 もの も 言わ ず 一斉 に 棍棒 を 振り 挙げ た 。 メロス は ひょいと 、 からだ を 折り曲げ 、 飛鳥 の 如く 身近 か の 一 人 に 襲いかかり 、 その 棍棒 を 奪い取っ て 、 「 気の毒 だ が 正義 の ため だ ！ 」 と 猛然 一撃 、 たちまち 、 三 人 を 殴り 倒し 、 残る 者 の ひるむ 隙 に 、 さっさと 走っ て 峠 を 下っ た 。 一気に 峠 を 駈け 降り た が 、 流石 に 疲労 し 、 折 から 午後 の 灼熱 の 太陽 が まとも に 、 かっと 照っ て 来 て 、 メロス は 幾度 と なく 眩暈 を 感じ 、 これ で は なら ぬ 、 と 気 を 取り直し て は 、 よろよろ 二 、 三 歩 あるい て 、 ついに 、 が くり と 膝 を 折っ た 。 立ち上る 事 が 出来 ぬ の だ 。 天 を 仰い で 、 くやし泣き に 泣き 出し た 。 ああ 、 あ 、 濁流 を 泳ぎ 切り 、 山賊 を 三 人 も 撃ち 倒し 韋駄 天 、 ここ まで 突破 し て 来 た メロス よ 。 真 の 勇者 、 メロス よ 。 今 、 ここ で 、 疲れ 切っ て 動け なく なる と は 情 無い 。 愛する 友 は 、 おまえ を 信じ た ばかり に 、 やがて 殺さ れ なけれ ば なら ぬ 。 おまえ は 、 稀代 の 不信 の 人間 、 まさしく 王 の 思う 壺 だ ぞ 、 と 自分 を 叱っ て みる の だ が 、 全身 萎え て 、 もはや 芋虫 ほど に も 前進 かなわ ぬ 。 路傍 の 草原 に ごろりと 寝 ころがっ た 。 身体 疲労 すれ ば 、 精神 も 共に やら れる 。 もう 、 どう でも いい という 、 勇者 に 不 似合い な 不貞腐れ た 根性 が 、 心 の 隅 に 巣 喰っ た 。 私 は 、 これ ほど 努力 し た の だ 。 約束 を 破る 心 は 、 みじん も 無かっ た 。 神 も 照覧 、 私 は 精 一ぱい に 努め て 来 た の だ 。 動け なく なる まで 走っ て 来 た の だ 。 私 は 不信 の 徒 で は 無い 。 ああ 、 できる 事 なら 私 の 胸 を 截ち 割っ て 、 真紅 の 心臓 を お 目 に 掛け たい 。 愛 と 信実 の 血液 だけ で 動い て いる この 心臓 を 見せ て やり たい 。 けれども 私 は 、 この 大事 な 時 に 、 精 も 根 も 尽き た の だ 。 私 は 、 よく よく 不幸 な 男 だ 。 私 は 、 きっと 笑わ れる 。 私 の 一家 も 笑わ れる 。 私 は 友 を 欺い た 。 中途 で 倒れる の は 、 はじめ から 何 も し ない の と 同じ 事 だ 。 ああ 、 もう 、 どう でも いい 。 これ が 、 私 の 定 っ た 運命 な の かも 知れ ない 。 セリヌンティウス よ 、 ゆるし て くれ 。 君 は 、 いつ でも 私 を 信じ た 。 私 も 君 を 、 欺か なかっ た 。 私 たち は 、 本当に 佳い 友 と 友 で あっ た の だ 。 いちど だって 、 暗い 疑惑 の 雲 を 、 お互い 胸 に 宿し た こと は 無かっ た 。 いま だって 、 君 は 私 を 無心 に 待っ て いる だろ う 。 ああ 、 待っ て いる だろ う 。 ありがとう 、 セリヌンティウス 。 よくも 私 を 信じ て くれ た 。 それ を 思え ば 、 たまらない 。 友 と 友 の 間 の 信実 は 、 この世 で 一 ばん 誇る べき 宝 な の だ から な 。 セリヌンティウス 、 私 は 走っ た の だ 。 君 を 欺く つもり は 、 みじん も 無かっ た 。 信じ て くれ ！ 　 私 は 急ぎ に 急い で ここ まで 来 た の だ 。 濁流 を 突破 し た 。 山賊 の 囲み から も 、 するりと 抜け て 一気に 峠 を 駈け 降り て 来 た の だ 。 私 だ から 、 出来 た の だ よ 。 ああ 、 この 上 、 私 に 望み 給う な 。 放っ て 置い て くれ 。 どう でも 、 いい の だ 。 私 は 負け た の だ 。 だらし が 無い 。 笑っ て くれ 。 王 は 私 に 、 ちょっと おくれ て 来い 、 と 耳打ち し た 。 おくれ たら 、 身代り を 殺し て 、 私 を 助け て くれる と 約束 し た 。 私 は 王 の 卑劣 を 憎ん だ 。 けれども 、 今 に なっ て みる と 、 私 は 王 の 言う まま に なっ て いる 。 私 は 、 おくれ て 行く だろ う 。 王 は 、 ひとり合点 し て 私 を 笑い 、 そうして 事 も 無く 私 を 放免 する だろ う 。 そう なっ たら 、 私 は 、 死ぬ より つらい 。 私 は 、 永遠 に 裏切 者 だ 。 地上 で 最も 、 不名誉 の 人種 だ 。 セリヌンティウス よ 、 私 も 死ぬ ぞ 。 君 と 一緒 に 死な せ て くれ 。 君 だけ は 私 を 信じ て くれる に ちがい 無い 。 いや 、 それ も 私 の 、 ひとり よがり か ？ 　 ああ 、 もう いっそ 、 悪徳 者 として 生き 伸び て やろ う か 。 村 に は 私 の 家 が 在る 。 羊 も 居る 。 妹 夫婦 は 、 まさか 私 を 村 から 追い出す よう な 事 は し ない だろ う 。 正義 だの 、 信実 だの 、 愛 だの 、 考え て みれ ば 、 くだらない 。 人 を 殺し て 自分 が 生きる 。 それ が 人間 世界 の 定法 で は なかっ た か 。 ああ 、 何もかも 、 ばかばかしい 。 私 は 、 醜い 裏切り者 だ 。 どう と も 、 勝手 に する が よい 。 やん ぬる 哉 。 —— 四肢 を 投げ出し て 、 うとうと 、 まどろん で しまっ た 。 　 ふと 耳 に 、 潺 々 、 水 の 流れる 音 が 聞え た 。 そっと 頭 を もたげ 、 息 を 呑ん で 耳 を すまし た 。 すぐ 足もと で 、 水 が 流れ て いる らしい 。 よろよろ 起き 上っ て 、 見る と 、 岩 の 裂目 から 滾 々 と 、 何 か 小さく 囁き ながら 清水 が 湧き出 て いる の で ある 。 その 泉 に 吸い込ま れる よう に メロス は 身 を かがめ た 。 水 を 両手 で 掬っ て 、 一 くち 飲ん だ 。 ほう と 長い 溜息 が 出 て 、 夢 から 覚め た よう な 気 が し た 。 歩ける 。 行こ う 。 肉体 の 疲労 恢復 と共に 、 わずか ながら 希望 が 生れ た 。 義務 遂行 の 希望 で ある 。 わが身 を 殺し て 、 名誉 を 守る 希望 で ある 。 斜陽 は 赤い 光 を 、 樹 々 の 葉 に 投じ 、 葉 も 枝 も 燃える ばかり に 輝い て いる 。 日没 まで に は 、 まだ 間 が ある 。 私 を 、 待っ て いる 人 が ある の だ 。 少し も 疑わ ず 、 静か に 期待 し て くれ て いる 人 が ある の だ 。 私 は 、 信じ られ て いる 。 私 の 命 なぞ は 、 問題 で は ない 。 死ん で お詫び 、 など と 気 の いい 事 は 言っ て 居 られ ぬ 。 私 は 、 信頼 に 報い なけれ ば なら ぬ 。 いま は ただ その 一事 だ 。 走れ ！ 　 メロス 。 　 私 は 信頼 さ れ て いる 。 私 は 信頼 さ れ て いる 。 先刻 の 、 あの 悪魔 の 囁き は 、 あれ は 夢 だ 。 悪い 夢 だ 。 忘れ て しまえ 。 五臓 が 疲れ て いる とき は 、 ふい と あんな 悪い 夢 を 見る もの だ 。 メロス 、 おまえ の 恥 で は ない 。 やはり 、 おまえ は 真 の 勇者 だ 。 再び 立っ て 走れる よう に なっ た で は ない か 。 ありがたい ！ 　 私 は 、 正義 の 士 として 死ぬ 事 が 出来る ぞ 。 ああ 、 陽 が 沈む 。 ずんずん 沈む 。 待っ て くれ 、 ゼウス よ 。 私 は 生れ た 時 から 正直 な 男 で あっ た 。 正直 な 男 の まま に し て 死な せ て 下さい 。 　 路 行く 人 を 押しのけ 、 跳ね とばし 、 メロス は 黒い 風 の よう に 走っ た 。 野原 で 酒宴 の 、 その 宴席 の まっ ただ中 を 駈け 抜け 、 酒宴 の 人 たち を 仰天 さ せ 、 犬 を 蹴 とばし 、 小川 を 飛び越え 、 少し ずつ 沈ん で ゆく 太陽 の 、 十 倍 も 早く 走っ た 。 一団 の 旅人 と 颯 っと すれちがっ た 瞬間 、 不吉 な 会話 を 小耳 に はさん だ 。 「 いま ごろ は 、 あの 男 も 、 磔 に かかっ て いる よ 。 」 ああ 、 その 男 、 その 男 の ため に 私 は 、 いま こんなに 走っ て いる の だ 。 その 男 を 死な せ て は なら ない 。 急げ 、 メロス 。 おくれ て は なら ぬ 。 愛 と 誠 の 力 を 、 いま こそ 知らせ て やる が よい 。 風 態 なんか は 、 どう でも いい 。 メロス は 、 いま は 、 ほとんど 全 裸体 で あっ た 。 呼吸 も 出来 ず 、 二 度 、 三 度 、 口 から 血 が 噴き 出 た 。 見える 。 はるか 向う に 小さく 、 シラクス の 市 の 塔 楼 が 見える 。 塔 楼 は 、 夕陽 を 受け て きらきら 光っ て いる 。 「 ああ 、 メロス 様 。 」 うめく よう な 声 が 、 風 と共に 聞え た 。 「 誰 だ 。 」 メロス は 走り ながら 尋ね た 。 「 フィロストラトス で ござい ます 。 貴方 の お 友達 セリヌンティウス 様 の 弟子 で ござい ます 。 」 その 若い 石工 も 、 メロス の 後 について 走り ながら 叫ん だ 。 「 もう 、 駄目 で ござい ます 。 むだ で ござい ます 。 走る の は 、 やめ て 下さい 。 もう 、 あの 方 を お 助け に なる こと は 出来 ませ ん 。 」 「 いや 、 まだ 陽 は 沈ま ぬ 。 」 「 ちょうど 今 、 あの 方 が 死刑 に なる ところ です 。 ああ 、 あなた は 遅かっ た 。 お うらみ 申し ます 。 ほんの 少し 、 もう ちょっと でも 、 早かっ た なら ！ 」 「 いや 、 まだ 陽 は 沈ま ぬ 。 」 メロス は 胸 の 張り裂ける 思い で 、 赤く 大きい 夕陽 ばかり を 見つめ て い た 。 走る より 他 は 無い 。 「 やめ て 下さい 。 走る の は 、 やめ て 下さい 。 いま は ご 自分 の お 命 が 大事 です 。 あの 方 は 、 あなた を 信じ て 居り まし た 。 刑場 に 引き出さ れ て も 、 平気 で い まし た 。 王様 が 、 さんざん あの 方 を からかっ て も 、 メロス は 来 ます 、 と だけ 答え 、 強い 信念 を 持ち つづけ て いる 様子 で ござい まし た 。 」 「 それ だ から 、 走る の だ 。 信じ られ て いる から 走る の だ 。 間に合う 、 間に合わ ぬ は 問題 で ない の だ 。 人 の 命 も 問題 で ない の だ 。 私 は 、 なんだか 、 もっと 恐ろしく 大きい もの の 為 に 走っ て いる の だ 。 つい て 来い ！ 　 フィロストラトス 。 」 「 ああ 、 あなた は 気 が 狂っ た か 。 それでは 、 うんと 走る が いい 。 ひょっとしたら 、 間に合わ ぬ もの で も ない 。 走る が いい 。 」 　 言う に や 及ぶ 。 まだ 陽 は 沈ま ぬ 。 最後 の 死力 を 尽し て 、 メロス は 走っ た 。 メロス の 頭 は 、 からっぽ だ 。 何一つ 考え て い ない 。 ただ 、 わけ の わから ぬ 大きな 力 に ひきずら れ て 走っ た 。 陽 は 、 ゆらゆら 地平線 に 没し 、 まさに 最後 の 一片 の 残 光 も 、 消えよ う と し た 時 、 メロス は 疾風 の 如く 刑場 に 突入 し た 。 間に合っ た 。 「 待て 。 その 人 を 殺し て は なら ぬ 。 メロス が 帰っ て 来 た 。 約束 の とおり 、 いま 、 帰っ て 来 た 。 」 と 大声 で 刑場 の 群衆 に むかっ て 叫ん だ つもり で あっ た が 、 喉 が つぶれ て 嗄れ た 声 が 幽か に 出 た ばかり 、 群衆 は 、 ひとり として 彼 の 到着 に 気がつか ない 。 すでに 磔 の 柱 が 高々 と 立て られ 、 縄 を 打た れ た セリヌンティウス は 、 徐々に 釣り上げ られ て ゆく 。 メロス は それ を 目撃 し て 最後 の 勇 、 先刻 、 濁流 を 泳い だ よう に 群衆 を 掻き わけ 、 掻き わけ 、 「 私 だ 、 刑 吏 ！ 　 殺さ れる の は 、 私 だ 。 メロス だ 。 彼 を 人質 に し た 私 は 、 ここ に いる ！ 」 と 、 かすれ た 声 で 精 一ぱい に 叫び ながら 、 ついに 磔 台 に 昇り 、 釣り上げ られ て ゆく 友 の 両足 に 、 齧り つい た 。 群衆 は 、 どよめい た 。 あっぱれ 。 ゆるせ 、 と 口々 に わめい た 。 セリヌンティウス の 縄 は 、 ほどか れ た の で ある 。 「 セリヌンティウス 。 」 メロス は 眼 に 涙 を 浮べ て 言っ た 。 「 私 を 殴れ 。 ちか ら 一ぱい に 頬 を 殴れ 。 私 は 、 途中 で 一 度 、 悪い 夢 を 見 た 。 君 が 若し 私 を 殴っ て くれ なかっ たら 、 私 は 君 と 抱擁 する 資格 さえ 無い の だ 。 殴れ 。 」 　 セリヌンティウス は 、 すべて を 察し た 様子 で 首肯き 、 刑場 一ぱい に 鳴り響く ほど 音 高く メロス の 右 頬 を 殴っ た 。 殴っ て から 優しく 微笑み 、 「 メロス 、 私 を 殴れ 。 同じ くらい 音 高く 私 の 頬 を 殴れ 。 私 は この 三 日 の 間 、 たった 一 度 だけ 、 ちら と 君 を 疑っ た 。 生れ て 、 はじめて 君 を 疑っ た 。 君 が 私 を 殴っ て くれ なけれ ば 、 私 は 君 と 抱擁 でき ない 。 」 　 メロス は 腕 に 唸り を つけ て セリヌンティウス の 頬 を 殴っ た 。 「 ありがとう 、 友 よ 。 」 二 人 同時に 言い 、 ひしと 抱き合い 、 それから 嬉し泣き に おいおい 声 を 放っ て 泣い た 。 　 群衆 の 中 から も 、 歔欷 の 声 が 聞え た 。 暴君 ディオニス は 、 群衆 の 背後 から 二 人 の 様 を 、 まじまじ と 見つめ て い た が 、 やがて 静か に 二 人 に 近づき 、 顔 を あからめ て 、 こう 言っ た 。 「 おまえ ら の 望み は 叶っ た ぞ 。 おまえ ら は 、 わし の 心 に 勝っ た の だ 。 信実 と は 、 決して 空虚 な 妄想 で は なかっ た 。 どう か 、 わし を も 仲間 に 入れ て くれ まい か 。 どう か 、 わし の 願い を 聞き入れ て 、 おまえ ら の 仲間 の 一 人 に し て ほしい 。 」 　 どっと 群衆 の 間 に 、 歓声 が 起っ た 。 「 万歳 、 王様 万 歳 。 」 　 ひとり の 少女 が 、 緋 の マント を メロス に 捧げ た 。 メロス は 、 まごつい た 。 佳き 友 は 、 気 を きかせ て 教え て やっ た 。 「 メロス 、 君 は 、 まっ ぱだかじゃないか 。 早く その マント を 着る が いい 。 この 可愛い 娘 さん は 、 メロス の 裸体 を 、 皆 に 見 られる の が 、 たまらなく 口惜しい の だ 。 」 　 勇者 は 、 ひどく 赤面 し た 。 （ 古伝 説 と 、 シルレル の 詩 から 。 ） \n",
            "\n",
            "\n"
          ],
          "name": "stdout"
        }
      ]
    },
    {
      "cell_type": "code",
      "metadata": {
        "id": "QybMdmnQvH5g"
      },
      "source": [
        "docs=[hana,kokoro,kumo,merosu,ningen,rasho,sorekara,waganeko]\n",
        "vectorizer=TfidfVectorizer(use_idf=True,stop_words=['*'])\n",
        "tfidfs=vectorizer.fit_transform(docs)"
      ],
      "execution_count": 53,
      "outputs": []
    },
    {
      "cell_type": "code",
      "metadata": {
        "id": "i0RTlX4bv60I",
        "outputId": "54270532-b163-4f63-ebcc-7d9d60499460",
        "colab": {
          "base_uri": "https://localhost:8080/",
          "height": 53
        }
      },
      "source": [
        "terms=vectorizer.get_feature_names()\n",
        "print('%s' % ' ' .join(terms))"
      ],
      "execution_count": 54,
      "outputs": [
        {
          "output_type": "stream",
          "text": [
            "sentimentalisme ああ あえて あかく あからめ あがる あきれ あくる日 あけ あげよ あげる あす あすこ あたかも あたり あたりまえ あちこち あっ あっと あっぱれ あつ あつめ あて あてがっ あと あながち あなた あの あまり あまりに あら あらゆる あらわし あらわれ あり ありがたい ありがとう ありゃ ある あるい あるいは あるく あれ あろ あわただしく あんな あんまり あゝ あー いい いいえ いい加減 いう いえ いかなる いかに いかにも いきなり いきり立っ いくつ いくぶん いくら いけ いささか いざっ いずれ いたそ いた事 いちいち いちど いっ いっしょ いっそ いったい いっぱい いつ いつか いつのまに いつの間にか いつも いとも いに いね いのち いふ いま いまだに いまわしい いや いやがる いよ いよいよ いら いらっしゃい いらっしゃる いる いれ いろ いろいろ いわ いわゆる うけ うける うごめい うし うす うすい うずくまり うたい うたっ うち うつ うつし うつむき うとうと うに うまい うまく うめく うようよ うらみ うるさい うるさく うれしい うんと えい ええ えて えらい える おい おいおい おかしい おかず おくび おくれ おこ おさえ おさめ おさん おしゃれ おずおず おそろしい おそろしく おっ おっしゃい おっしゃる おっとり おとなしく おどかし おどろい おなか おののき おのれ おびただしく おべっか おぼろ おまえ おめでとう おら おり おれ おろし お互い お伴 お前 お参り お詫び かい かう かえって かかえ かかっ かかる かかわら かがめ かき かきつけ かく かくし かくして かくれ かけ かける かこう かこま かざし かしら かすか かすれ かた かたがた かたまり かっと かつ かつて かな かなり かなわ かね かねる かの かぶせ かも から からかっ からだ からっぽ からみ かる かれ かれこれ かん がかり がたい がたがた がち がっ がら がる がわり きい きかせ きく きっ きっと きのう きまっ きめ きもの きょう きらい きらきら きり きれ ぎらぎら ぎり ぎりにして ぎりほとんど くぐり抜け くし くすくす くたびれ くだらない くち くっ くっつけ くやし泣き くら くらい くらし くり くる くるくる くれ くれる ぐっすり ぐべき ぐるぐる ぐれ けがらわしく けしき けたたましく けども けら ける けれども けわしく こいつ こう こういう こうした こうして こうむっ こきゃ ここ ここいら こころ こごん こそ こそばゆき こちら こっち こと ことごとく ことに この このごろ この世 この間 こびりつい こぶし こぼし こむ こめ こら こらえ こりゃ これ これから これしき これら ころ ころがっ ころころ こん こんど こんな こんなに ごく ござい ござっ ござら ござる ござろ ござん ごちゃごちゃ ごと ごとき ごとく ごはん ごろ ごろごろ ごろりと ご免 さあ さうな さえ さかえ さげ さす さすが させ させる さっき さっさと さっと さっぱり さて さては さびれ さま さまざま さまし さめる さも さらさら さらば さり され さわっ さわる さん さんざん ざあっと ざる ざんぶと しか しかけ しかし しかも しかるに しがみつこ しきりに しく したがって したたか しっかり しのぶ しばし しばしば しばたたい しばらく しまい しまいに しまう しまえ しまっ しまわ しみ しめ しゃがみ しゃべら しょ しよ しようが しん じかに じっと じみ じめじめ じゃ じゃが じろじろ すいこん すう すか すかし すがりつく すぐ すこぶる すたすた すっかり すっと すでに すなわち すばやく すべて すまし すむ する するする すると するりと すれ すれちがっ ずいぶん ずっと ずつ ずる ずんずん せい せせら笑う せっかく せっせと せめて せら せる せんだって ぜひ ぜひとも そい そいつ そう そういう そうして そこ そこで そこら そそのかし そっくり そっと その そのうち そのまま その後 その頃 そば そむけ そら そり そりゃ それ それから それだけ それで それでいて それでは それでも それとなく それなら それほど それら それ程 そろ そろそろ そろりと そん そんな そんなに ぞっと たい たいてい たかっ たく たくさん たぐり たしか たしかに たた たたい たたかい ただ ただ中 たち たちまち たっ たった たった今 たって たつ たて たとえば たどり たのむ たのん たび たびたび たぶん たま たまっ たまに たまらない たまらなく たまり ため ためらい ため息 たより たら たらし たり たる たろ たんと たんび だい だいぶ だから だけ だっ だって だの だまれ だら だらけ だらし だり だろ だんだん ちか ちかく ちがい ちがう ちがっ ちぢめ ちっと ちっとも ちと ちまい ちゃん ちゃんと ちや ちょうど ちょっと ちら って っと つい ついで ついに つか つかっ つかまえ つかみ つかみ合っ つかん つき つきつけ つく つくづく つくばい つくり つけ つける つた つたの つつ つつん つづい つづけ つて つと つとめ つながる つぶやく つぶる つぶれ つまし つまずき つまみ出さ つまら つまらない つまり つまん つみ つめ つもり つらい つらかっ つるつる つ折り づく づれに てえ てら てる てれ でき できる でし でしょ です でなければ では でも でる とある という といった といふ とうとう とうに とおり とか とかいう とき ところ ところが として とたんに とっ とても とどい とどまっ とにかく とばし とぼし とまっ とも ともかく ともし とりとめ とる とろ とろう とんでも とんと と共に どう どういう どうか どうして どうしても どうせ どうどう どうにか どうも どうやら どこ どことなく どころか どす どだい どちら どっこい どっち どっと どなた どの ども どよめい どれ どんな どんなに なあ ない なお なかっ なかつ なかなか ながら なき なく なくし なくなっ なくなれ なけれ なさ なさい なさる なし なすっ なぜ なぞ なだめ なっ なつ なで など なに なまじ なまじい なら ならし なり なる なるべく なるほど なれ なん なんか なんだか なんて におい において における におっ にがく について につれて にて にとって にやにや によって にわかに に対して に対する に従って に関する ぬく ぬけ ぬける ぬすん ぬらし ぬる ねえ ねぶっ ねら ねる のけ のそのそ のち ので のに のばし のびのび のぼっ のぼり のぼる のぼれ のみ のんき はい はいっ はいら はいり はいる はえ はか はげしい はさ はさん はし はじめ はじめて はず はたと はっきり はてな はなはだ はばかる はめ はるか はるばる はれ はればれ ばかばかしい ばかり ばらばら ばん ぱたり ぱだかじゃないか ぱちつかせ ひきずら ひしと ひそか ひたい ひたかくし ひたすら ひっそり ひったくっ ひと ひとり ひとり合点 ひどい ひどく ひもじい ひょいと ひょっとしたら ひらい ひらく ひるむ ひろげ ひろげる びっくり びりびり ぴく ぴんと ふい ふくらせ ふくれ ふさぎこん ふためい ふだん ふち ふっと ふつ ふて ふと ふとした ふみ ふも ふり ふりこめ ふりまわし ふる ふるえ ふるさと ふるわせ ふん ぶら ぶらつか ぶらぶら ぶらりと ぶら下げ ぶり ぶる ぷうぷうと ぷつりと へえ へっ へる へん べから べき べく ぺたをひどく ほう ほうり ほうり込む ほか ほかなら ほしい ほっと ほととぎす ほとり ほとんど ほど ほどか ほんの ぼう ぼんやり ぽい ぽかんと ぽく ぽつねんと ぽつりぽつり まあ まい まえ まことに まごつい まさか まさしく まさに まし まして ましょ まじっ まじまじ まじめ ます ますます まず ませ また またぎ またたく間 まだ まだまだ まち まっ まっすぐ まったく まっ暗 まっ白 まで まとも まどろん まばゆく まま まり まるで まれ まわし まわり まんざら まん中 みえる みじん みたい みな みよ みる みれ みんな むかっ むくん むげにいやしくなりさがれる むしっ むしろ むずかしい むずかしく むずむず むず痒い むだ むべ むんむん めい めいめい めくら めし めずらしい めっきり めった めっぽう もう もう一度 もう少し もがい もぐり込ん もさ もし もしくは もた もたげ もだえる もちろん もっ もっと もっとも もて もと もともと もの ものの もはや もん やがて やけに やし やすい やっ やって来 やって来る やっと やっとこ やつ やはり やみ やむをえ やむを得ん やめ やや やら やり やる やれ やろ やん ゆい ゆえ ゆがめ ゆく ゆくりなく ゆすぶっ ゆっくり ゆらゆら ゆるし ゆるせ ょにあすこいらが よい よう ようやく よかっ よかろ よがり よく よくも よし よじのぼっ よせ よそ よそよそしい よほど よみ より よる よろこび よろしい よろめい よろよろ らしい らしかっ らしく られ られる るる れよ れる れれ わい わいわい わかっ わから わかる わが わが身 わき わけ わざと わざわざ わし わす わずか わな わなわな わめい わら わり わりに わるい わるく ゐる をもって を以て んで アイスクリーム アイロニー アレキス アンドレ アンドレア イヤ イライラ エゴイスト カステラ カヴァ カ月 キザ ギボン サルト サーヴィス シラクス シルレル スー セエター セオファーノ セリヌンティウス ゼウス タカジヤスターゼ ディオニス デリケイト デル ナアヴァスネス ニコラス ニックルベー ニャー ニャーニャー ニヤケ ハイカラ ハッキリ ハハハハ ハリソン ハンケチ パン ピシッ フィロストラトス フワフワ ブリッジ ブーブー プラクテカル ページ ホテル ポケット マント ムカムカ メロス レオナルド ロギン ワットマン ヴァイオリン ヴィンチ 一々 一すじ 一つ 一ぱい 一世 一事 一人ぼっち 一休み 一体 一切 一切衆生 一刻 一向 一団 一夜 一定 一室 一家 一寸 一層 一度 一廉 一心 一息 一所 一挙 一撃 一斉 一方 一時 一月 一樹 一気に 一片 一生 一生懸命 一番 一疋 一目 一直線 一眠り 一睡 一種 一緒 一線 一般 一色 一言 一足 一部始終 一間 丁度 万一 万世 万歳 万里 三つ 三度々々 三里 三間 上がっ 上げ 上っ 上の 上の空 上り 上る 上下 上乗 上京 上今 上唇 上手 上等 上野 下さい 下さる 下し 下っ 下り 下りる 下りろ 下人 下女 下手 下流 下男 下駄 不人情 不便 不信 不可 不可解 不吉 不名誉 不器量 不安 不平 不幸 不徳 不快 不思議 不愉快 不意 不承不承 不景気 不服 不満 不自由 不覚 不貞腐れ 不足 与え 与える 且つ 世の中 世嗣 世界 世辞 世間 両君 両手 両方 両足 並べ 並ん 中る 中国 中学校 中段 中途 中間 丸い 丸く 丹塗 主人 主人公 主張 主義 久しく 久し振り 乗っ 乗り 乗る 九月 九輪 乱れ 乱心 乱暴 予め 予定 予期 事件 事実 事情 二つ 二言目 二里 云い 云う 云え 云っ 云わ 互に 五つ 五臓 井戸 亡くなっ 交ぜ 交番 交際 京都 亭主 人々 人並 人形 人数 人望 人物 人目 人種 人質 人違い 人間 人間らしい 今し方 今に 今宵 今度 今日 今時分 今更 今朝 仏像 仏具 仏前 仏語 仕事 仕儀 仕合せ 仕度 仕方 仕舞 他人 付い 付か 付き 付け 付ける 代っ 代り 代る代る 代言 以上 以前 以外 以太 仰い 仰向け 仰天 仰山 仲間 任せ 休む 休め 休息 休暇 会い 会う 会え 会える 会っ 会話 会釈 伝え 伝わっ 伴う 伸び 伺っ 似合い 似合わ 佇み 佇立 位置 低い 低く 低徊 住み込ん 住め 住ん 体格 体質 何しろ 何だか 何で 何と 何とか 何となく 何とも 何もかも 何一つ 何処 何故 何方 何時 何気なく 余りに 余儀なく 余地 余念 余波 余程 作っ 作者 佳い 佳き 使う 使っ 使わ 例月 供える 供奉 依っ 依る 依然として 価値 侮蔑 便利 促し 保っ 信じ 信じよ 信ずる 信実 信念 信用 信頼 修理 俳句 個人 倒し 倒れ 倒れる 借りれ 偉い 偉大 停車場 健全 傍聴 傍若無人 傍観 備え 傷つけ 傷め 傾い 傾き 傾け 傾聴 働い 働き掛け 働こ 僥倖 僧侶 僧俗 僧坊 儀式 優しい 優しく 優れ 儲かる 儲け 元来 元気 兄さん 兄弟 充ち 充分 充実 先ず 先刻 先方 先日 先生 光っ 光り 光る 光沢 光線 入っ 入ら 入り 入る 入れ 入れる 入れ違い 入ろう 全く 全て 全体 全権 全然 全身 全部 八重 公使 共に 共同 兵児帯 其儘 其外 其所 其時 具合 兼ね 兼ね合い 内典 内心 内気 内職 円柱 円満 再び 冗談 写せ 写っ 写生 写真 冷え 冷たい 冷まし 冷やか 冷淡 冷然 凄惨 凝っ 凝らし 処し 処刑 凸凹 出かけ 出かける 出さ 出し 出し抜け 出す 出せる 出そ 出よ 出る 出会っ 出会わ 出先 出入 出入り 出家 出掛け 出掛ける 出来 出来る 出版 出発 出逢っ 出鱈目 分け 分っ 分の 分ら 分り 分る 分別 切っ 切り 切り上げ 切り離そ 切る 切れ 刑場 列席 初々しく 初め 初めて 初夏 判然 別に 別れる 別段 別荘 利か 利き 利己 利用 到り 到底 到着 到達 刺戟 刺激 刻々 刻み込ま 刻限 前世 前夜 前後 前方 前足 前進 剥ぎ 剥げ 割っ 割り込む 剿滅 劈頭 力め 力量 加える 加わっ 加減 助から 助かる 助け 努め 努力 勇気 勇者 勉強 動い 動か 動かさ 動かし 動く 動け 動こ 動じ 動作 動悸 動物 勘定 勝っ 勝る 勝れ 勝手 勝敗 募り 勢い 勤まる 勤勉 勧め 勧告 勿論 包み 包ん 北叟笑ん 区切り 区別 医師 医者 十二月 十分 十字架 午前 午後 半ば 半分 卑しい 卑劣 卒業 南無 単に 単簡 単純 占め 印象 危機一髪 原因 厭き 厳粛 去ら 去年 参り 参る 及ぶ 友人 友達 双眸 反対 反感 反駁 叔母 叔母さん 叔父 取ら 取り 取り上げ 取り上げる 取り次い 取り残さ 取り直し 取り返し 取扱う 受け 受ける 受け取っ 口々 口ごもっ 口ごもり 口実 口惜し 口惜しい 口惜しく 口数 口癖 口調 口髭 古い 古伝 叩か 叫び 叫ん 召さ 叮嚀 可哀そう 可愛い 可愛く 可愛らし 可笑し 台所 叱っ 叱り 叱りつける 叶っ 各自 合せる 合わ 合理 同じ 同居 同座 同情 同断 同族 同時に 同様 同盟 同級生 同衾 同郷 名人 名刺 名前 名文 名称 名誉 吐く 向い 向い合せ 向う 向かっ 向け 向っ 吠える 否や 含める 吶喊 吸い込ま 吹い 吹か 吹かし 吹き 吹きかける 吹き出し 吹き出す 吹く 吹っ飛ん 吾輩 呆れ 呆然 呈出 呉れ 呑み 呑ん 呑気 呟い 呟き 呟く 周囲 呻吟 呼び 呼び寄せ 呼び掛け 呼び掛ける 呼ぶ 呼ん 呼吸 命じ 命乞い 命令 命取り 咲い 咽び 咽喉 哀れ 哀願 品々 唯一 唸り 啄み 問い 問いかけ 問いつめ 問答 問題 啜り 啼き 啼く 善い 善く 善悪 喉仏 喘ぎ 喚き 喜び 喜ん 喜悦 喜色 喝采 喟然 喧伝 喧嘩 喰っ 営み 嗄れ 嗅ぎ 嗅覚 嘆息 嘆賞 嘘つき 嘲る 嘲笑 噛み 噛みつく 噛ん 噴き 噴き出し 囁い 囁き 囃し 四月 四肢 四隣 回ら 回復 困ら 困り 困る 困憊 囲み 固く 国元 国王 土産 在る 在宅 地上 地下 地下鉄 地位 地団駄 地平線 地獄 地震 地面 坊ちゃん 坊主 坐っ 坐ら 垂らす 垂れ 垂れる 垢抜け 垣根 埋まる 執っ 執拗 堪える 堪へ 報い 報道 場合 場所 塔婆 塗っ 塗り 塞い 境内 境遇 墓参 墓参り 墓地 墓標 墓石 増し 増長 墻壁 売っ 売り 売る 変っ 変ら 変り 変人 変化 変貌 夏休み 夏目 夕焼け 夕闇 夕陽 外典 外出 外国 多い 多く 多人数 多分 多少 夜々 夜中 夜具 夜明け 夢見心地 大いに 大きい 大きく 大きな 大した 大して 大丈夫 大事 大体 大儀 大分 大切 大勢 大半 大声 大変 大学 大家 大息 大抵 大方 大樹 大正 大王 大目 大股 大胆 大蛇 大路 大雨 大飯 天上 天井 天気 天秤棒 太い 太る 太れる 太刀 太宰 太陽 夫婦 夫子 失くなっ 失敗 失敬 失望 失格 失笑 奇妙 奇怪 奇警 奇蹟 奥さん 奥底 奥様 奪い取っ 奪っ 女房 奴輩 奸佞 好い 好か 好き 好く 好み 好奇 如き 如く 如何 妄想 妻君 妻帯 姉たち 始まっ 始まり 始まる 始め 始めて 始末 始終 姿勢 威厳 婆さん 嫌い 嫌っ 嫌悪 嬉し 嬉しい 嬉しく 嬉し泣き 子供 子分 子猫 存する 存分 存外 季節 孤独 学年 学校 学生 守ら 守り 守る 守れ 守宮 安らか 安心 安楽 完成 定め 定法 実に 実は 実利 実際 客間 宣誓 宴席 家中 家内 家庭 家族 容子 容易 容赦 宿し 寂しい 寄せ 寄っ 寄る 寒い 寒し 寒竹 寝そべっ 寝つか 寝つこ 寝る 寝床 寝転び 寝込み 寝過し 察し 寺内 寺院 対岸 対話 専念 専有 射す 射る 尊い 尊敬 尋ね 小さい 小さく 小さな 小使 小便 小学校 小屋 小川 小春 小歌 小母 小耳 小説 小降り 小高い 小鳥 少々 少から 少く 少し 少しく 少なから 少女 少時 少量 尖っ 尤も 尨犬 就い 尻尾 尽き 尽きる 尽し 局所 居ら 居り 居る 屈せ 屈托 届か 届く 屋根 山出し 山吹 山茶花 山賊 山越え 崩れ 崩れ落ち 川岸 巡邏 工夫 工面 左側 左右 左様 巧み 差し出す 已め 布団 希望 帯び 帰っ 帰り 帰る 帰れ 帷子 常に 帽子 干し 平に 平凡 平和 平安朝 平時 平気 平生 平素 年の内 年甲斐 年長 幸い 幸福 幼く 幼年 幽か 幾つ 幾分 幾多 幾年 幾度 広々 広い 広く 床几 床板 度々 度数 度目 度胸 度重なる 座布団 座敷 庭園 廊下 延ばし 建て 建物 廻っ 廻り 廻る 弁解 弁護 引き 引きずる 引きたて 引き上げ 引き出さ 引き受ける 引き返し 引つ 引剥 弛み 弟子 弧線 弱っ 張っ 張り 張り裂ける 強い 強く 強力 弾か 弾力 当っ 当て 当り 当る 当人 当分 当時 当来 当然 形勢 彩っ 彩ら 彩色 彫り 影響 役人 彼ら 彼等 往ん 往来 待たし 待ち伏せ 待っ 待つ 待て 待合 後ろ 後ろ向き 後姿 後年 後架 徐々に 従っ 従って 従姉妹 従来 得る 得心 得意 得意気 御し 御前 御台 御子 御存じ 御蔭 御覧 御馳走 復活 微か 微塵 微笑 微笑み 徴候 徹し 心もち 心やり 心中 心付か 心付く 心持 心持ち 心構え 心細 心細く 心臓 心苦しい 心配 必ず 必死 必要 忍び 忍び足 忍び込ん 忘れ 忘れよ 応え 応じ 忠告 忠誠 快く 忽ち 怒っ 怒ら 怒り 怒鳴っ 思い 思い出さ 思い出し 思い出す 思い出せ 思い切れ 思い起し 思い込ん 思い返し 思い違い 思う 思え 思っ 思ひ 思ふ 思わ 思わず 思召 思案 怠け 怠惰 急い 急ぎ 急ぐ 急げ 性分 性癖 性質 怪しく 怪談 恐し 恐らく 恐る恐る 恐れ 恐れる 恐ろしく 恐怖 恢復 恥ず 恨む 恨めしく 恭しい 息子 恰好 悉有 悟っ 悠々 患者 悧巧 悪い 悪く 悪びれ 悪事 悪口 悪徳 悪心 悪戯 悪魔 悲し 悲しい 悲しむ 惓怠 惚心 想い 想い出 想像 惹い 愉快 意味 意地 意外 意志 意気地 意識 愚劣 愚図 愚昧 愛し 愛す 愛する 愛せ 感じ 感じる 感ずる 感ぜ 感づい 感心 感情 感服 感覚 態度 慌て 慎ん 慣れ 慥か 慳貪 憂鬱 憎む 憎ん 憎悪 憐愍 憤慨 憫笑 懇意 懊悩 懐かしみ 懐中 懸け 成る 成就 我々 我儘 我慢 戦っ 戦慄 截ち 戻っ 所々 所有 所為 手つき 手付 手出し 手初め 手前 手向け 手帖 手拭 手数 手柄 手段 手荒く 手術 手記 手足 打た 打ち 打ち明け 打ち殺す 打ち破る 打っ 打つ 打砕い 払い 払いのける 払う 払っ 批評 承諾 抑え 投げる 投げ付け 投げ出さ 投げ出し 投じ 投書 抗議 折々 折っ 折り曲げ 折敷 折角 抛っ 抛り出し 抜い 抜き 抜く 抜け 抜ける 抜け出し 抜け毛 抜手 抱い 抱きしめ 抱き合い 抱き締める 抱く 抱擁 抵寐 押し 押しのけ 押し倒し 押し出し 押し寄せ 押し流さ 押し込み 押し込ん 押し通し 担ぐ 拉何 拍子 拒む 拒め 括っ 拭い 拭き取 拵え 拾い 拾い上げ 持た 持ち 持ち上げ 持ち前 持っ 持つ 持て 持上げ 持出し 持物 指し 挑撥 挙げ 挙げる 挨拶 振っ 振り 振り返っ 挿し 捏ね 捏造 捕え 捕っ 捕ま 捕ら 捕る 捕縛 捧げ 捨て 据え 捲き 掃除 授業 排斥 掛け 掛ける 掛っ 掛茶屋 掛蒲団 掠奪 探し 探す 接し 推定 掬っ 掻き 掻く 揉み手 描い 描き出さ 提げ 揚げ 揚句 換える 換場 換所 握っ 握り 揶揄 揺れ 損得 摩擦 摺り 撃ち 撒伯 撚り 撫で 支え 支配 改め 改めて 攻撃 放さ 放し 放す 放せ 放っ 放つ 放り出し 放免 放漫 放蕩 政党 政治 故郷 敏感 救い出し 救う 教え 教わっ 教師 教育 散っ 散らし 散歩 敬語 敬遠 数える 敵意 敷い 敷布 文学 斑入り 料理 料簡 斜陽 断っ 断れ 断わる 断言 斯産 新し 新しい 新体詩 新婦 新聞 新郎 方々 方便 方向 方法 方角 方面 於け 旅人 旅客 旅館 既に 日の出 日の目 日和 日常 日数 日暮 日曜 日本 日本人 日毎 日没 日脚 日記 日課 日間 日限 旧記 早い 早かっ 早く 早速 昂然 昇っ 昇り 明い 明かそ 明け 明るい 明るく 明日 明星 明白 明瞭 昔気質 星辰 映し 映っ 昨夕 昨夜 昨日 是非 昼寝 昼間 昼飯 時々 時たま 時として 時に 時代 時分 時刻 時節 時計 時間 晦渋 普通 景気 景色 晴れ 智識 暑く 暑中 暖か 暖かい 暗い 暗から 暗く 暗に 暗然 暫時 暮し 暮らし 暮れ 暮方 暴君 暴虐 暴露 曇っ 曇り 更け 書い 書きとめる 書く 書写 書斎 書物 書生 最も 最初 最後 最後っ屁 最早 月例 月給 有し 有り 有れ 有様 有難う 望み 望む 望ん 朝日 期待 木の下 木の根 木片 木葉 未だ 未だに 未明 未練 末っ子 末席 本名 本当 本当に 本性 朱雀 村人 条件 来い 来たそ 来る 来れ 東京 東北 板の間 枕元 果して 果然 枯木 枯菊 柑子 染め付け 柔ら 栄える 校長 根性 根気 格別 案出 案外 桜木 梧桐 梯子 棄て 棄てる 棍棒 森閑 棲む 植え付け 検し 検非違使 椽側 極めて 極める 極め込ん 極り 極度 極楽 極端 楽々 楽しく 楽しみ 楽天 構い 構え 構内 構造 様子 様式 模様 権利 横切り 横切る 樹木 橋桁 機会 機嫌 欄間 欠かさ 欠け 欠伸 次に 次第に 欲しい 欲しく 欺い 欺か 欺く 歌い 歓喜 歓声 歔欷 止せ 止まり 止み 止め 正しく 正体 正当 正直 正義 此所 此掌 此方 此書 此男 此花 此間 此頃 此食 歩い 歩き 歩く 歩ける 歩こ 歩みよっ 歯並 歴史 死な 死に 死ぬ 死ん 死人 死刑 死力 死相 死骸 殊に 殊更 残し 残っ 残ら 残り 残る 残虐 殴っ 殴り 殴れ 段々 殺さ 殺し 殺す 殺そ 毀損 母さん 母親 毎夜 毎日 毎月 比較 比較的 毛並 毛穴 毛筆 毛糸 毛虫 毫も 気がかり 気がつい 気がつか 気が付い 気が付か 気づか 気づかい 気に入ら 気の毒 気まず 気もち 気分 気味 気味が悪く 気味悪い 気持 気楽 気焔 気色 気軽 水干 水彩 水晶 水気 水源 水道 永い 永く 永久 永年 永遠 氾濫 求愛 汚い 汲ま 汲み 汲ん 決して 決心 決意 汽車 沁み 沈ま 沈む 沈め 沈ん 沈吟 沙弥 没し 沸かし 法師 法華経 法衣 波間 泣い 泣き 泣声 泥坊 泥棒 注し 注意 泳い 泳ぎ 洒落 洗いざらし 洗濯 洛中 活字 活溌 派手 流し 流す 流れ 流れる 流石 浄土 浅い 浅間 浚わ 浜辺 浩然 浮い 浮かし 浮かべ 浮き 浮べ 浴び 浴びせ 浴客 浴衣 海岸 海水 海水浴 海老茶 浸し 消え 消えよ 消える 消し 消極 消沈 淋しい 深い 深かっ 深く 深夜 混雑 清め 清らか 清水 渇仰 済し 済まし 済ん 減っ 減る 渡っ 渦巻き 温かい 渾名 湛え 湧い 湧き出 湯屋 湯気 満天 満点 満足 満身 満面 溜息 溢れ 滅多 滑稽 滔々 漏る 演説 漠然 漫画 漫罵 漱石 潮流 澄まし 激しく 激怒 激流 濁す 濁っ 濁流 濃く 濡れ 瀟洒 火事 火傷 火桶 火鉢 灰色 灼熱 災難 炬燵 点々 為る 烈しく 烏帽子 烏瓜 烟り 烟草 無い 無かっ 無き 無く 無二 無学 無心 無意味 無慈悲 無理 無理やり 無聊 無言 無論 無造作 無邪気 無頓着 焦っ 然し 煎じ 煙草 照っ 照らし 照覧 煽り 熱い 熱く 熱心 熱湯 燃え 燃える 爽快 片づけ 片付け 片手 片隅 牛酪 牧人 物品 物欲しそう 物色 物足りない 特別 特徴 狂う 狂っ 狐狸 独り 独り言 独楽 独立 独身 狭い 狭め 猛然 猶予 猿股 獅子 獅子奮迅 獰悪 玄関 玉突き 王城 王様 珍しく 珍重 現に 現われ 現代 現在 理由 理窟 琥珀 甘く 甘んじ 甘納豆 甚だ 生え 生かし 生き 生きる 生じ 生まれ 生れ 生命 生意気 生死 生活 生涯 産まれ 用事 用品 用意 田舎 由井 甲斐 申し 申し込ん 申す 男泣き 画像 画家 畏怖 留まっ 留まる 留守 畜生 異様 畳ん 疑い 疑う 疑っ 疑わ 疑惑 疫病 疲れ 疲れはて 疲労 疾風 病ん 病弱 病気 痛い 痛う 痛く 痛快 痛烈 痛苦 痩せ 瘠せ 療治 発揮 発狂 発見 発達 白い 白く 白眉 白粉 白紙 白絣 白蓮 白髪 皇后 皮膚 皺くちゃ 盗ま 盗む 盗人 盛る 目の下 目付 目撃 目標 目的 目障り 直に 直感 直覚 直近 相好 相当 相手 相槌 相談 相違 眉間 真に 真中 真丸 真似 真夏 真昼 真理 真直 真紅 真面目 眠く 眠っ 眠り 眩暈 眺め 眼球 眼鏡 着い 着け 着よ 着る 着物 睡ら 睨ま 瞬時 瞬間 矛盾 知っ 知ら 知らせ 知り 知り合い 知れ 知れる 知己 短い 短う 短く 短刀 短剣 矮小 石工 石段 石灰 研究 破る 破れ 破壊 碌々 確かめ 確信 磔刑 磨い 示し 示そ 社交 祈る 祝宴 神経 祭壇 禁じ 禿げ 私慾 秋風 秘め 秘密 移し 移る 稀代 程度 種族 稼い 積り 積ん 積極 空い 空模様 空気 空腹 空虚 穿く 突入 突如 突然 突破 突起 窃か 窘め 窮屈 窺っ 立ち 立ちすくん 立ちどまり 立ち上る 立ち去っ 立ち去り 立っ 立つ 立て 立派 童子 端書 竹垣 竹馬 笑い 笑える 笑お 笑っ 笑わ 笑わせ 笑顔 笹原 筋肉 答え 答える 策略 箇所 範囲 簡単 籐椅子 籠っ 粟粒 精神 精細 約束 紅白 紅茶 紅葉 納まっ 純粋 素直 細い 細く 細君 細目 細長い 終える 終日 組み 経た 経つ 経文 経机 経験 結婚 結婚式 結局 結果 結滞 絞め殺し 絡ま 給う 給え 絵具 絵本 絶えず 絶対 絶望 絶間 続い 続け 綴っ 綺麗 緊張 線路 締め 緩く 縋り 繁く 繋ぐ 繰り返さ 繰り返し 繰り返す 繰返し 罪人 置い 置き 置く 置け 罵っ 罵る 羅漢 羅生門 美しい 美しく 美学 美感 美貌 美醜 群衆 羨し 羨ましい 義務 羽毛 翌日 翌朝 習っ 習慣 翡翠 老婆 老爺 考え 考える 考えれ 考え付い 考え出し 考え出そ 考へ 耳打ち 聞い 聞え 聞える 聞か 聞き 聞き入れ 聞き返さ 聞く 聴い 聴従 職業 肉体 肉親 肉食 肌寒い 肝心 肝腎 肥っ 肥満 肯定 育っ 胃弱 背中 背後 背負っ 胡麻 胴震い 脂肪 脅迫 脚絆 脱い 脱ぎ 腐爛 腕力 腕組み 腰かけ 腰掛 腸詰め 腹の中 膝頭 臣下 自ら 自任 自信 自分 自尊心 自己 自惚れ 自慢 自殺 自然 自由 自白 自覚 自身 臭い 臭え 臭く 臭気 至っ 至る 至極 致し 舎利 良家 色々 色つや 芋虫 芥川 花婿 花嫁 花弁 芸者 若々しい 若い 若い衆 若かっ 若く 若し 苦しい 苦しく 苦しみ 苦しん 苦心 苦痛 苦笑 苦笑い 英文 茂み 茫然 茶化し 茶園 茶屋 茶店 茶箪笥 茹で 茹でれ 草原 草履 荒い 荒れ果て 荒れ狂う 莫迦 菩薩 華やか 萎え 萎縮 落し 落す 落ち 落ちつい 落ちる 落着 落葉 著述 葡萄 蒸さ 蒸し暑い 蒼い 蒼白 蓄え 蓮池 蔽っ 薄く 薄明 薄暗い 薄暗く 薄気味悪い 薬缶 藁葺 蜀漢 蜘蛛 蟋蟀 蠢い 血の池 血液 血潮 行う 行か 行かす 行き 行きゃ 行き着く 行き着け 行く 行け 行ける 行こ 行っ 行わ 行儀 行列 行手 行方 街道 衣裳 衣食住 表情 表現 表面 衰微 袖口 被っ 裂目 装い 装っ 装飾 裏切 裏切り者 裏口 裸体 複雑 褐色 褪め 襲いかかり 襲う 襲わ 西側 西洋 要ら 要る 要心 要領 覆い 見え 見える 見え透い 見せ 見せかけ 見せつけ 見せる 見つけ 見つめ 見よ 見る 見れ 見上げ 見上げる 見下し 見事 見付け 見出し 見受け 見守っ 見廻し 見当 見当ら 見慣れ 見覚え 見計らっ 見詰め 見越し 見逃し 見違える 見開い 規約 視線 覗い 覗か 覗き 覚え 覚えず 覚め 覚悟 親しく 親しみ 親切 親子 親戚 親類 観察 観念 観音 角度 解し 解っ 解ら 解決 解釈 言い 言いよう 言い争い 言い張っ 言い方 言う 言え 言える 言お 言っ 言わ 言動 言葉 言語 訓練 記さ 記憶 記者 訪ね 訪ねる 訪れ 訪問 設備 許し 許す 訴え 証拠 証拠立て 詐り 評し 試し 試み 試みる 詫び 話し 話しかけ 話し掛け 話す 誇っ 誇り 誇る 誇張 認め 誘っ 誘ふ 誘わ 語っ 語ら 語勢 語弊 誦し 誦経 説き伏せ 説伏せ 説明 読ま 読みかけ 読む 読ん 誰か 課業 調え 調べ 調べる 調子 談話 論じ 謂わ 講堂 講説 謹聴 警吏 警告 警鐘 議論 護謨 豊か 豪華 豪雨 負け 負っ 責め 責苦 貰う 貴方 買い 買い物 買っ 費やし 資格 資産 賑やか 質問 赤い 赤く 赤らめ 赤ん坊 赤松 赤面 走っ 走ら 走り 走り出 走る 走れ 走れる 起き 起き上がる 起し 起す 起っ 起ら 起る 超え 超然 超然と 越え 越える 越さ 趣味 足し 足そ 足ぶみ 足もと 足り 足音 路傍 跳ね 踏ま 踏み 踏み込ん 踏め 踏ん 蹲っ 蹴倒し 躊躇 躍り 躍り出 身の毛 身代り 身体 身内 身動き 身近 車屋 車軸 軍人 軽く 軽侮 軽微 軽蔑 軽薄 載せ 輝い 輪廓 辞職 辺鄙 込む 込ん 迎える 近々 近い 近く 近づか 近づき 近づく 近づこ 近付き 近寄り 近所 近来 近辺 近頃 返っ 返事 返報 迫害 述懐 迷わ 迷信 迷惑 追い上げ 追い出さ 追い出す 追い廻し 追い掛け 追い込ん 追っかけ 追って 退く 退屈 送っ 送ら 逃がし 逃げ 逃げよ 逆さ 逆立つ 逆立て 逆落し 透き 透明 逐い 途中 途方 途端 這い 這い出し 這い出す 這う 這っ 這入っ 這入る 通し 通じ 通っ 通り 通り抜け 通る 通人 通俗 通路 速力 造っ 造ら 造り 造作 逢い 逢う 逢っ 逢わ 逢着 連中 週間 進み 進め 進ん 遂行 遅い 遅かっ 遊び 遊ん 遊戯 運ば 運び 運ん 運動 運命 運漕 運転 過ぎ 道ばた 道化 道場 達せ 達者 違い 違う 違っ 遠い 遠く 遠ざけよ 遠慮 遠慮なく 遠浅 遥か 適当 遭遇 遮る 選ば 選ん 遺憾 避け 避暑 邂逅 邪悪 邪智 邪魔 部分 部屋 郵便 都会 都合 酒宴 酔っ 酷い 醒ます 醜い 醜く 釈迦 里程 重たく 重なる 重ね 重み 重大 重宝 野原 野暮 野郎 金縁 金色 金銀 金魚 釣り上げ 鈍い 鈍ら 鉄槌 鉄瓶 鉄道 銀杏 銀色 銀行 銭湯 鋭い 鎌倉 鎮め 鑑定 鑷子 長々 長い 長かっ 長く 長兄 長楽寺 長谷 門下生 門前 門野 開い 開く 開始 間に合う 間に合っ 間に合わ 間もなく 間中 間近 間違い 間違え 関心 闘争 阿鼻地獄 陀多 降っ 降り 降り出し 降参 限り 限る 除か 陥れ 陰口 陽気 隅々 階段 随分 隙間 障っ 隠し 隠す 隠れ 隣り 隣人 隣家 隣村 集っ 集め 集り 雑司ヶ谷 雑沓 雑談 離さ 離し 離れ 難解 雨中 雨風 雪隠 電報 震い 震える 震わせ 霹靂 青年 青空 静か 静まり返っ 非常 非難 面倒 面前 面白い 面白く 面皰 革命 鞘走ら 鞭打ち 韋駄 音楽 響い 響き 順序 預け 頑強 頓着 頗る 頬杖 頭巾 頭文字 頸筋 頼もしく 頼ん 願い 願う 願っ 顧み 顧慮 風呂 風変り 風采 飛ばし 飛び 飛びまわっ 飛び出し 飛び越え 飛び込み 飛び込ん 飛ぶ 飛鳥 食い 食い物 食う 食え 食える 食っ 食べ 食べる 食わせ 食事 食卓 食物 飯櫃 飲み 飲み込ん 飲む 飲ん 飾り 養う 餓死 饑死 饑饉 饒舌 首肯 首肯い 首肯き 香油 香花 馬鹿 馬鹿げ 駄目 駄馬 駈け 騒々しい 騒い 騒がしい 騒ぎ 騒動 騙さ 驚い 驚か 驚き 骨骼 高々 高い 高く 高等 髪の毛 鬼気 鳴らし 鳴り響く 鳴る 鴟尾 麦藁 黄いろい 黄色 黄葉 黄金 黒い 黒雲 黙々 黙し 黙っ 鼓動 齧り 龍之介\n"
          ],
          "name": "stdout"
        }
      ]
    },
    {
      "cell_type": "code",
      "metadata": {
        "id": "kfFCQIAXv87p",
        "outputId": "51ecdda6-3436-4a67-957b-aed91986fce3",
        "colab": {
          "base_uri": "https://localhost:8080/",
          "height": 50
        }
      },
      "source": [
        "tfidfs.toarray()[0]"
      ],
      "execution_count": 56,
      "outputs": [
        {
          "output_type": "execute_result",
          "data": {
            "text/plain": [
              "array([0.        , 0.        , 0.        , ..., 0.        , 0.        ,\n",
              "       0.01231122])"
            ]
          },
          "metadata": {
            "tags": []
          },
          "execution_count": 56
        }
      ]
    },
    {
      "cell_type": "code",
      "metadata": {
        "id": "dER6Z-mhv_KU",
        "outputId": "9ae008db-7a8d-4979-846c-8d272b7a7770",
        "colab": {
          "base_uri": "https://localhost:8080/",
          "height": 33
        }
      },
      "source": [
        "from sklearn.decomposition import PCA\n",
        "pca=PCA(n_components=0.9,whiten=False)\n",
        "pca.fit(tfidfs.toarray())\n",
        "pca.n_components_"
      ],
      "execution_count": 58,
      "outputs": [
        {
          "output_type": "execute_result",
          "data": {
            "text/plain": [
              "6"
            ]
          },
          "metadata": {
            "tags": []
          },
          "execution_count": 58
        }
      ]
    },
    {
      "cell_type": "code",
      "metadata": {
        "id": "etdt51odwIMe",
        "outputId": "429aa5fc-e535-4a3e-ade6-19000a16d234",
        "colab": {
          "base_uri": "https://localhost:8080/",
          "height": 232
        }
      },
      "source": [
        "for i in range(pca.n_components_):\n",
        "    tc=zip(pca.components_[i],terms)\n",
        "    tc.sort()\n",
        "    # tc.reverse()\n",
        "    print(\"[PCA%d]\" % (i+1))\n",
        "    for v,t in tc[:10]:\n",
        "           print(\"%f,%s\" % (v,t))"
      ],
      "execution_count": 67,
      "outputs": [
        {
          "output_type": "error",
          "ename": "AttributeError",
          "evalue": "ignored",
          "traceback": [
            "\u001b[0;31m---------------------------------------------------------------------------\u001b[0m",
            "\u001b[0;31mAttributeError\u001b[0m                            Traceback (most recent call last)",
            "\u001b[0;32m<ipython-input-67-2dbf35ad3c2e>\u001b[0m in \u001b[0;36m<module>\u001b[0;34m()\u001b[0m\n\u001b[1;32m      1\u001b[0m \u001b[0;32mfor\u001b[0m \u001b[0mi\u001b[0m \u001b[0;32min\u001b[0m \u001b[0mrange\u001b[0m\u001b[0;34m(\u001b[0m\u001b[0mpca\u001b[0m\u001b[0;34m.\u001b[0m\u001b[0mn_components_\u001b[0m\u001b[0;34m)\u001b[0m\u001b[0;34m:\u001b[0m\u001b[0;34m\u001b[0m\u001b[0;34m\u001b[0m\u001b[0m\n\u001b[1;32m      2\u001b[0m     \u001b[0mtc\u001b[0m\u001b[0;34m=\u001b[0m\u001b[0mzip\u001b[0m\u001b[0;34m(\u001b[0m\u001b[0mpca\u001b[0m\u001b[0;34m.\u001b[0m\u001b[0mcomponents_\u001b[0m\u001b[0;34m[\u001b[0m\u001b[0mi\u001b[0m\u001b[0;34m]\u001b[0m\u001b[0;34m,\u001b[0m\u001b[0mterms\u001b[0m\u001b[0;34m)\u001b[0m\u001b[0;34m\u001b[0m\u001b[0;34m\u001b[0m\u001b[0m\n\u001b[0;32m----> 3\u001b[0;31m     \u001b[0mtc\u001b[0m\u001b[0;34m.\u001b[0m\u001b[0msort\u001b[0m\u001b[0;34m(\u001b[0m\u001b[0;34m)\u001b[0m\u001b[0;34m\u001b[0m\u001b[0;34m\u001b[0m\u001b[0m\n\u001b[0m\u001b[1;32m      4\u001b[0m     \u001b[0;31m# tc.reverse()\u001b[0m\u001b[0;34m\u001b[0m\u001b[0;34m\u001b[0m\u001b[0;34m\u001b[0m\u001b[0m\n\u001b[1;32m      5\u001b[0m     \u001b[0mprint\u001b[0m\u001b[0;34m(\u001b[0m\u001b[0;34m\"[PCA%d]\"\u001b[0m \u001b[0;34m%\u001b[0m \u001b[0;34m(\u001b[0m\u001b[0mi\u001b[0m\u001b[0;34m+\u001b[0m\u001b[0;36m1\u001b[0m\u001b[0;34m)\u001b[0m\u001b[0;34m)\u001b[0m\u001b[0;34m\u001b[0m\u001b[0;34m\u001b[0m\u001b[0m\n",
            "\u001b[0;31mAttributeError\u001b[0m: 'zip' object has no attribute 'sort'"
          ]
        }
      ]
    },
    {
      "cell_type": "code",
      "metadata": {
        "id": "vW-gkaYXwrqm"
      },
      "source": [
        "x=pca.transform(tfidfs.toarray())"
      ],
      "execution_count": 68,
      "outputs": []
    },
    {
      "cell_type": "code",
      "metadata": {
        "id": "A8YJ2pnS3zpG",
        "outputId": "22ab7d68-5cf5-4943-bc9e-104c18972b1b",
        "colab": {
          "base_uri": "https://localhost:8080/",
          "height": 434
        }
      },
      "source": [
        "from matplotlib import pyplot\n",
        "pyplot.ion()\n",
        "pyplot.clf()\n",
        "\n",
        "name=['hana','kokoro','kumo','merosu','ningen','rasho','sorekara','waganeko']\n",
        "\n",
        "colors=[pyplot.cm.hsv(0.1*i,1) for i in range(len(name))]\n",
        "\n",
        "for i in range(len(name)):\n",
        "    pyplot.scatter(x[i,0],x[i,1],c=colors[i],label=name[i])\n",
        "\n",
        "pyplot.legend()\n"
      ],
      "execution_count": 78,
      "outputs": [
        {
          "output_type": "stream",
          "text": [
            "*c* argument looks like a single numeric RGB or RGBA sequence, which should be avoided as value-mapping will have precedence in case its length matches with *x* & *y*.  Please use the *color* keyword-argument or provide a 2-D array with a single row if you intend to specify the same RGB or RGBA value for all points.\n",
            "*c* argument looks like a single numeric RGB or RGBA sequence, which should be avoided as value-mapping will have precedence in case its length matches with *x* & *y*.  Please use the *color* keyword-argument or provide a 2-D array with a single row if you intend to specify the same RGB or RGBA value for all points.\n",
            "*c* argument looks like a single numeric RGB or RGBA sequence, which should be avoided as value-mapping will have precedence in case its length matches with *x* & *y*.  Please use the *color* keyword-argument or provide a 2-D array with a single row if you intend to specify the same RGB or RGBA value for all points.\n",
            "*c* argument looks like a single numeric RGB or RGBA sequence, which should be avoided as value-mapping will have precedence in case its length matches with *x* & *y*.  Please use the *color* keyword-argument or provide a 2-D array with a single row if you intend to specify the same RGB or RGBA value for all points.\n",
            "*c* argument looks like a single numeric RGB or RGBA sequence, which should be avoided as value-mapping will have precedence in case its length matches with *x* & *y*.  Please use the *color* keyword-argument or provide a 2-D array with a single row if you intend to specify the same RGB or RGBA value for all points.\n",
            "*c* argument looks like a single numeric RGB or RGBA sequence, which should be avoided as value-mapping will have precedence in case its length matches with *x* & *y*.  Please use the *color* keyword-argument or provide a 2-D array with a single row if you intend to specify the same RGB or RGBA value for all points.\n",
            "*c* argument looks like a single numeric RGB or RGBA sequence, which should be avoided as value-mapping will have precedence in case its length matches with *x* & *y*.  Please use the *color* keyword-argument or provide a 2-D array with a single row if you intend to specify the same RGB or RGBA value for all points.\n",
            "*c* argument looks like a single numeric RGB or RGBA sequence, which should be avoided as value-mapping will have precedence in case its length matches with *x* & *y*.  Please use the *color* keyword-argument or provide a 2-D array with a single row if you intend to specify the same RGB or RGBA value for all points.\n"
          ],
          "name": "stderr"
        },
        {
          "output_type": "execute_result",
          "data": {
            "text/plain": [
              "<matplotlib.legend.Legend at 0x7f678f49a630>"
            ]
          },
          "metadata": {
            "tags": []
          },
          "execution_count": 78
        },
        {
          "output_type": "display_data",
          "data": {
            "image/png": "[encoded data removed]",
            "text/plain": [
              "<Figure size 432x288 with 1 Axes>"
            ]
          },
          "metadata": {
            "tags": [],
            "needs_background": "light"
          }
        }
      ]
    },
    {
      "cell_type": "code",
      "metadata": {
        "id": "pv8pgaHe4EhO"
      },
      "source": [
        ""
      ],
      "execution_count": 78,
      "outputs": []
    }
  ]
}