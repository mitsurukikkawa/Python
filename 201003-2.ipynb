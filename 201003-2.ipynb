{
 "cells": [
  {
   "cell_type": "code",
   "execution_count": 1,
   "metadata": {},
   "outputs": [],
   "source": [
    "from gensim.models.doc2vec import Doc2Vec\n",
    "model = Doc2Vec.load(\"jawiki.doc2vec.dbow300d/jawiki.doc2vec.dbow300d.model\")"
   ]
  },
  {
   "cell_type": "code",
   "execution_count": 2,
   "metadata": {},
   "outputs": [],
   "source": [
    "import MeCab\n",
    "\n",
    "def tokenize(text):\n",
    "    wakati = MeCab.Tagger(\"-O wakati\")\n",
    "    wakati.parse(\"\")\n",
    "    return wakati.parse(text).strip().split()"
   ]
  },
  {
   "cell_type": "code",
   "execution_count": 57,
   "metadata": {},
   "outputs": [
    {
     "name": "stdout",
     "output_type": "stream",
     "text": [
      "\n",
      "１【経営方針、経営環境及び対処すべき課題等】\n",
      "  当社は、「共生」を企業理念として、真のグローバル優良企業グループを目指し、企業の成長と発展を果たすことにより、世界の繁栄と人類の幸福に貢献することを、経営の基本方針としております。\n",
      "  この基本方針に基づき当社は、1996年度にグローバル優良企業グループ構想をスタートし、そのフェーズ㈵からフェーズ㈿を通して経営基盤の強化と企業価値の向上に努めてまいりました。そして2016年には、「戦略的大転換を果たし、新たなる成長に挑戦する」をスローガンに掲げた新たな５カ年計画「グローバル優良企業グループ構想 フェーズ㈸」をスタートさせ、現行事業の再強化を図るとともに、事業構造の転換による成長を目指し、新規事業の育成、強化にも取り組んでおります。\n",
      "  2020年の世界経済は、緩やかな回復が期待される一方、地政学的なリスクの高まりや貿易摩擦の再燃、また新型コロナウイルス感染症が経済活動に及ぼす影響への懸念もあり不透明感は一層増しております。\n",
      "  当社関連市場においては、オフィス向け複合機の需要は、カラー機が堅調に推移するため全体では微増となり、レーザープリンターは景気の回復が緩やかなものに留まるため、2019年を下回る見通しです。レンズ交換式デジタルカメラの需要は、エントリーモデルは縮小が続きますが、フルサイズ機をはじめとしたハイアマチュア向けモデルについてはミラーレスカメラの需要が底堅く推移する見通しです。インクジェットプリンターの市場は、新興国を中心に緩やかに持ち直す見通しです。医療機器については、医療インフラの整備の進む新興国における需要の拡大もあり、堅調に推移する見通しです。半導体露光装置は、メモリー価格は下げ止まっており、投資は回復に向かっております。また、FPD露光装置・有機ELディスプレイ製造装置についても、中小型パネル向けの投資が徐々に上向いており、高精細大型パネル向けも引き続き堅調に推移する見込みです。ネットワークカメラについては、セキュリティに対する需要の高まりや用途の多様化が進み、市場の拡大が継続する見通しです。\n",
      "  このような状況の中、2020年は、現行事業においては競争力のある新製品のタイムリーな投入により高い市場シェアを獲得・維持し、市場縮小の中にあっても高い利益率を確保する一方、新規事業においては下記の重点施策に取り組むことで戦略的大転換を加速し、売上と利益の両面において新規事業の早急な拡大を図ってまいります。\n",
      "  なお、当該事項は有価証券報告書提出日（2020年３月27日）現在において判断した記載となっております。\n",
      "１.商業印刷・産業印刷\n",
      "  オフセット印刷からデジタル印刷への移行が進んでいる流れを確実にとらえ、製品群とサービス体制の拡充を通じて事業の拡大強化を進めます。また、自社技術により、今後の成長が見込まれるパッケージ印刷やラベル印刷の分野に狙いを定めた製品開発を進めます。\n",
      "２.ネットワークカメラ\n",
      "  グループの総力を結集し、カメラ本体、画像管理システムと画像分析ソフトの融合によるソリューション分野の拡大強化を図ります。\n",
      "３.メディカル\n",
      "  基盤事業である画像診断機器について、米国を中心とする国外での販売力強化を図るとともに、ヘルスケアITやバイオサイエンスなど成長著しい事業領域への展開を図ります。\n",
      "４.産業機器\n",
      "  スマートフォン用有機ELディスプレイの製造装置では圧倒的な市場シェアを有しており、その競争力を更に高めるとともに、テレビ用大型ディスプレイへの展開を図ります。\n"
     ]
    }
   ],
   "source": [
    "import re\n",
    "\n",
    "# ファイル読み込み\n",
    "f=open('canon2019.txt','r')\n",
    "text=f.read()\n",
    "f.close()\n",
    "\n",
    "# 空行の削除\n",
    "text = re.sub('\\n\\n', '\\n', text)\n",
    "\n",
    "print(text)"
   ]
  },
  {
   "cell_type": "code",
   "execution_count": 58,
   "metadata": {},
   "outputs": [
    {
     "name": "stdout",
     "output_type": "stream",
     "text": [
      "\n",
      "１【経営方針、経営環境及び対処すべき課題等】\n",
      "  当社は、「共生」を企業理念として、真のグローバル優良企業グループを目指し、企業の成長と発展を果たすことにより、世界の繁栄と人類の幸福に貢献することを、経営の基本方針としております。\n",
      "  この基本方針に基づき当社は、1996年度にグローバル優良企業グループ構想をスタートし、そのフェーズ㈵からフェーズ㈿を通して経営基盤の強化と企業価値の向上に努めてまいりました。そして2016年には、「戦略的大転換を果たし、新たなる成長に挑戦する」をスローガンに掲げた新たな５カ年計画「グローバル優良企業グループ構想 フェーズ㈸」をスタートさせ、現行事業の再強化を図るとともに、事業構造の転換による成長を目指し、新規事業の育成、強化にも取り組んでおります。\n",
      "  2020年の世界経済は、緩やかな回復が期待される一方、地政学的なリスクの高まりや貿易摩擦の再燃、また新型コロナウイルス感染症が経済活動に及ぼす影響への懸念もあり不透明感は一層増しております。\n",
      "  当社関連市場においては、オフィス向け複合機の需要は、カラー機が堅調に推移するため全体では微増となり、レーザープリンターは景気の回復が緩やかなものに留まるため、2019年を下回る見通しです。レンズ交換式デジタルカメラの需要は、エントリーモデルは縮小が続きますが、フルサイズ機をはじめとしたハイアマチュア向けモデルについてはミラーレスカメラの需要が底堅く推移する見通しです。インクジェットプリンターの市場は、新興国を中心に緩やかに持ち直す見通しです。医療機器については、医療インフラの整備の進む新興国における需要の拡大もあり、堅調に推移する見通しです。半導体露光装置は、メモリー価格は下げ止まっており、投資は回復に向かっております。また、FPD露光装置・有機ELディスプレイ製造装置についても、中小型パネル向けの投資が徐々に上向いており、高精細大型パネル向けも引き続き堅調に推移する見込みです。ネットワークカメラについては、セキュリティに対する需要の高まりや用途の多様化が進み、市場の拡大が継続する見通しです。\n",
      "  このような状況の中、2020年は、現行事業においては競争力のある新製品のタイムリーな投入により高い市場シェアを獲得・維持し、市場縮小の中にあっても高い利益率を確保する一方、新規事業においては下記の重点施策に取り組むことで戦略的大転換を加速し、売上と利益の両面において新規事業の早急な拡大を図ってまいります。\n",
      "  なお、当該事項は有価証券報告書提出日（2020年３月27日）現在において判断した記載となっております。\n",
      "\n",
      "１.商業印刷・産業印刷\n",
      "  オフセット印刷からデジタル印刷への移行が進んでいる流れを確実にとらえ、製品群とサービス体制の拡充を通じて事業の拡大強化を進めます。また、自社技術により、今後の成長が見込まれるパッケージ印刷やラベル印刷の分野に狙いを定めた製品開発を進めます。\n",
      "\n",
      "２.ネットワークカメラ\n",
      "  グループの総力を結集し、カメラ本体、画像管理システムと画像分析ソフトの融合によるソリューション分野の拡大強化を図ります。\n",
      "\n",
      "３.メディカル\n",
      "  基盤事業である画像診断機器について、米国を中心とする国外での販売力強化を図るとともに、ヘルスケアITやバイオサイエンスなど成長著しい事業領域への展開を図ります。\n",
      "\n",
      "４.産業機器\n",
      "  スマートフォン用有機ELディスプレイの製造装置では圧倒的な市場シェアを有しており、その競争力を更に高めるとともに、テレビ用大型ディスプレイへの展開を図ります。\n"
     ]
    }
   ],
   "source": [
    "canon=open('canon2019.txt','r').read()\n",
    "fujitsu=open('fujitsu2019.txt','r').read()\n",
    "hitachi=open('hitachi2019.txt','r').read()\n",
    "mitsubishi=open('mitsubishi2019.txt','r').read()\n",
    "nec=open('nec2019.txt','r').read()\n",
    "nidec=open('nidec2019.txt','r').read()\n",
    "panasonic=open('panasonic2019.txt','r').read()\n",
    "richo=open('richo2019.txt','r').read()\n",
    "sharp=open('sharp2019.txt','r').read()\n",
    "sony=open('sony2019.txt','r').read()\n",
    "toshiba=open('toshiba2019.txt','r').read()\n",
    "\n",
    "# 単語リストの確認\n",
    "print(\"%s\" % canon)"
   ]
  },
  {
   "cell_type": "code",
   "execution_count": 61,
   "metadata": {},
   "outputs": [],
   "source": [
    "canon=model.infer_vector(tokenize(canon_text))\n",
    "fujitsu=model.infer_vector(tokenize(fujitsu_text))\n",
    "hitachi=model.infer_vector(tokenize(hitachi_text))\n",
    "mitsubishi=model.infer_vector(tokenize(mitsubishi_text))\n",
    "nec=model.infer_vector(tokenize(nec_text))\n",
    "nidec=model.infer_vector(tokenize(nidec_text))\n",
    "panasonic=model.infer_vector(tokenize(panasonic_text))\n",
    "richo=model.infer_vector(tokenize(richo_text))\n",
    "sharp=model.infer_vector(tokenize(sharp_text))\n",
    "sony=model.infer_vector(tokenize(sony_text))\n",
    "toshiba=model.infer_vector(tokenize(toshiba_text))\n",
    "\n",
    "docs=[canon,fujitsu,hitachi,mitsubishi,nec,nidec,panasonic,richo,sharp,sony,toshiba]"
   ]
  },
  {
   "cell_type": "code",
   "execution_count": 63,
   "metadata": {},
   "outputs": [
    {
     "data": {
      "text/plain": [
       "9"
      ]
     },
     "execution_count": 63,
     "metadata": {},
     "output_type": "execute_result"
    }
   ],
   "source": [
    "from sklearn.decomposition import PCA\n",
    "pca=PCA(n_components=0.9,whiten=False)\n",
    "pca.fit(docs)\n",
    "pca.n_components_"
   ]
  },
  {
   "cell_type": "code",
   "execution_count": 64,
   "metadata": {},
   "outputs": [
    {
     "name": "stdout",
     "output_type": "stream",
     "text": [
      "[[-2.87127958  0.85745749 -1.57197817  0.43523472  3.17976554 -1.46305911\n",
      "   0.14835077 -0.64754245  0.78057575]\n",
      " [-0.67339743  0.56604304  1.78532456  1.00980252 -0.4841607  -2.58999207\n",
      "   2.40158637  0.03423748  0.11956445]\n",
      " [ 3.37250184  2.36477962  1.4613158   0.53328071  0.49083379  1.80471097\n",
      "   1.78394185 -0.26592844  1.19698702]\n",
      " [ 0.06992588 -1.38293969  1.17058095 -0.72583855 -0.63772956 -0.25009056\n",
      "  -2.35150471 -0.26175512  3.284483  ]\n",
      " [ 2.43584921 -1.7872361   0.66562655 -1.57730754 -0.18835265 -1.79657734\n",
      "  -0.61987795 -2.39104453 -1.79906088]\n",
      " [-1.1852907   4.14861229 -1.75905111 -1.79929107 -1.53637     0.86061508\n",
      "  -0.71759601 -1.18583231 -0.54082351]\n",
      " [-0.79481149  0.82410963  2.98013344  0.90815497  1.65570272  1.04339145\n",
      "  -2.12326339  1.31759599 -1.88888566]\n",
      " [ 2.10356225 -1.72865907 -2.39514049 -1.80097534  2.03266224  0.68815869\n",
      "   0.66084165  1.78292933 -0.18748147]\n",
      " [-1.81065994 -0.75669744  0.44425372 -1.74136247 -2.27658035 -0.31604342\n",
      "   0.83691282  2.56829025 -0.28563489]\n",
      " [ 1.68678864 -0.0221429  -2.56350673  3.56982636 -1.60883387 -0.77056855\n",
      "  -1.18333083  0.80246401 -0.35163839]\n",
      " [-2.33318868 -3.08332688 -0.21755851  1.18847568 -0.62693716  2.78945485\n",
      "   1.16393944 -1.75341422 -0.32808542]]\n"
     ]
    }
   ],
   "source": [
    "x=pca.transform(docs)\n",
    "print(x)"
   ]
  },
  {
   "cell_type": "code",
   "execution_count": 65,
   "metadata": {
    "scrolled": true
   },
   "outputs": [
    {
     "name": "stderr",
     "output_type": "stream",
     "text": [
      "'c' argument looks like a single numeric RGB or RGBA sequence, which should be avoided as value-mapping will have precedence in case its length matches with 'x' & 'y'.  Please use a 2-D array with a single row if you really want to specify the same RGB or RGBA value for all points.\n",
      "'c' argument looks like a single numeric RGB or RGBA sequence, which should be avoided as value-mapping will have precedence in case its length matches with 'x' & 'y'.  Please use a 2-D array with a single row if you really want to specify the same RGB or RGBA value for all points.\n",
      "'c' argument looks like a single numeric RGB or RGBA sequence, which should be avoided as value-mapping will have precedence in case its length matches with 'x' & 'y'.  Please use a 2-D array with a single row if you really want to specify the same RGB or RGBA value for all points.\n",
      "'c' argument looks like a single numeric RGB or RGBA sequence, which should be avoided as value-mapping will have precedence in case its length matches with 'x' & 'y'.  Please use a 2-D array with a single row if you really want to specify the same RGB or RGBA value for all points.\n",
      "'c' argument looks like a single numeric RGB or RGBA sequence, which should be avoided as value-mapping will have precedence in case its length matches with 'x' & 'y'.  Please use a 2-D array with a single row if you really want to specify the same RGB or RGBA value for all points.\n",
      "'c' argument looks like a single numeric RGB or RGBA sequence, which should be avoided as value-mapping will have precedence in case its length matches with 'x' & 'y'.  Please use a 2-D array with a single row if you really want to specify the same RGB or RGBA value for all points.\n",
      "'c' argument looks like a single numeric RGB or RGBA sequence, which should be avoided as value-mapping will have precedence in case its length matches with 'x' & 'y'.  Please use a 2-D array with a single row if you really want to specify the same RGB or RGBA value for all points.\n",
      "'c' argument looks like a single numeric RGB or RGBA sequence, which should be avoided as value-mapping will have precedence in case its length matches with 'x' & 'y'.  Please use a 2-D array with a single row if you really want to specify the same RGB or RGBA value for all points.\n",
      "'c' argument looks like a single numeric RGB or RGBA sequence, which should be avoided as value-mapping will have precedence in case its length matches with 'x' & 'y'.  Please use a 2-D array with a single row if you really want to specify the same RGB or RGBA value for all points.\n",
      "'c' argument looks like a single numeric RGB or RGBA sequence, which should be avoided as value-mapping will have precedence in case its length matches with 'x' & 'y'.  Please use a 2-D array with a single row if you really want to specify the same RGB or RGBA value for all points.\n",
      "'c' argument looks like a single numeric RGB or RGBA sequence, which should be avoided as value-mapping will have precedence in case its length matches with 'x' & 'y'.  Please use a 2-D array with a single row if you really want to specify the same RGB or RGBA value for all points.\n"
     ]
    },
    {
     "data": {
      "text/plain": [
       "<matplotlib.legend.Legend at 0x7ff76b91d860>"
      ]
     },
     "execution_count": 65,
     "metadata": {},
     "output_type": "execute_result"
    },
    {
     "data": {
      "image/png": "[encoded data removed]",
      "text/plain": [
       "<Figure size 432x288 with 1 Axes>"
      ]
     },
     "metadata": {
      "needs_background": "light"
     },
     "output_type": "display_data"
    }
   ],
   "source": [
    "from matplotlib import pyplot\n",
    "pyplot.ion()\n",
    "pyplot.clf()\n",
    "\n",
    "name=['canon','fujitsu','hitachi','mitsubishi','nec','nidec','panasonic','richo','sharp','sony','toshiba']\n",
    "\n",
    "colors=[pyplot.cm.hsv(0.1*i,1) for i in range(len(name))]\n",
    "\n",
    "for i in range(len(name)):\n",
    "    pyplot.scatter(x[i,0],x[i,1],c=colors[i],label=name[i])\n",
    "\n",
    "pyplot.legend()"
   ]
  },
  {
   "cell_type": "code",
   "execution_count": 66,
   "metadata": {},
   "outputs": [
    {
     "name": "stdout",
     "output_type": "stream",
     "text": [
      "0 -2.8712795846880983 0.8574574945676429\n",
      "1 -0.6733974317869462 0.5660430354522588\n",
      "2 3.3725018406827862 2.364779619769334\n",
      "3 0.06992588145700192 -1.3829396853872569\n",
      "4 2.435849214596664 -1.7872360959064189\n",
      "5 -1.1852906990648382 4.1486122864031465\n",
      "6 -0.7948114863865625 0.8241096287575109\n",
      "7 2.103562251178358 -1.7286590652404854\n",
      "8 -1.8106599448139193 -0.756697439482346\n",
      "9 1.6867886433159276 -0.02214290090124217\n",
      "10 -2.333188684490373 -3.083326878032145\n"
     ]
    }
   ],
   "source": [
    "for i in range(len(name)):\n",
    "    print(i,x[i,0],x[i,1])"
   ]
  },
  {
   "cell_type": "code",
   "execution_count": null,
   "metadata": {},
   "outputs": [],
   "source": []
  }
 ],
 "metadata": {
  "kernelspec": {
   "display_name": "Python 3",
   "language": "python",
   "name": "python3"
  },
  "language_info": {
   "codemirror_mode": {
    "name": "ipython",
    "version": 3
   },
   "file_extension": ".py",
   "mimetype": "text/x-python",
   "name": "python",
   "nbconvert_exporter": "python",
   "pygments_lexer": "ipython3",
   "version": "3.7.1"
  }
 },
 "nbformat": 4,
 "nbformat_minor": 2
}
